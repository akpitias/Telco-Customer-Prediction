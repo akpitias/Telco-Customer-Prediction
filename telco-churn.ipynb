{
 "cells": [
  {
   "cell_type": "markdown",
   "id": "d97c5d89",
   "metadata": {},
   "source": [
    "# Project Overview\n",
    "\n",
    "* This machine learning project aims to correctly predict Telco users who will churn or not based on their demograhpics and telco related activties. \n",
    "* This is a binary classification project. \n",
    "* Throughout this project we will be comparing results between different classification models (Random Forest, LightGMB, XGboost). \n",
    "* Also we will be utilizing over sampling and hyper parameter tunning to improve the score. Lastly we we identify the best model and also the top features in predicting the target variable. "
   ]
  },
  {
   "cell_type": "markdown",
   "id": "011cfe2e",
   "metadata": {},
   "source": [
    "# Table Content\n",
    "* 1.0 <a href='#importpackages'> Import Packages</a>\n",
    "* 2.0 <a href='#importdata'> Import Data</a>\n",
    "* 3.0 <a href='#DataUnderstanding'> Data Understanding</a>\n",
    "* 4.0 <a href='#PreFeatureEngineering'> Pre Feature Engineering</a>\n",
    "* 5.0 <a href='#eda'> EDA</a>\n",
    " - 5.1 Categorical Features\n",
    " - 5.2 Numerical Features\n",
    " - 5.3 Binning \n",
    "* 6.0 <a href='#FeatureEngineering'> Feature Engineering </a>\n",
    " - 6.1 Label Encoding\n",
    " - 6.2 Heatmap Correlation \n",
    " - 6.3 Chi Square Test\n",
    "* 7.0 <a href='#TrainTestSplit'> Train Test Split</a>\n",
    "* 8.0 <a href='#BaseModels'> Base Models</a>\n",
    " - Random Forest, LightGMB, XGBoost\n",
    "* 9.0 <a href='#OverSampling'> Over Sampling</a>\n",
    "* 10.0 <a href='#HyperParameterTunning'> Hypter Parameter Tunning</a>\n",
    " - Feature Importance, RandomizeSearch\n",
    "* 11.0 <a href='#overallscore'> Overall Model Scores</a>\n",
    "* 12.0 <a href='#Conclusion'> Conclusion</a>"
   ]
  },
  {
   "cell_type": "markdown",
   "id": "707163e8",
   "metadata": {},
   "source": [
    "# 1.0 Import Packages\n",
    "<a id='importpackages'></a>"
   ]
  },
  {
   "cell_type": "code",
   "execution_count": 1,
   "id": "6d22d4fa",
   "metadata": {},
   "outputs": [],
   "source": [
    "import pandas as pd\n",
    "import numpy as np\n",
    "import matplotlib.pyplot as plt\n",
    "import seaborn as sns\n",
    "\n",
    "from sklearn.preprocessing import LabelEncoder\n",
    "\n",
    "from sklearn.tree import DecisionTreeClassifier\n",
    "from sklearn.tree import plot_tree\n",
    "from sklearn.model_selection import train_test_split\n",
    "from sklearn.model_selection import cross_val_score\n",
    "from sklearn.metrics import confusion_matrix\n",
    "from sklearn.metrics import confusion_matrix, ConfusionMatrixDisplay\n",
    "from imblearn.over_sampling import RandomOverSampler\n",
    "\n",
    "from sklearn.metrics import r2_score, explained_variance_score, mean_absolute_error, mean_squared_error\n",
    "from sklearn.metrics import confusion_matrix, classification_report, log_loss\n",
    "from sklearn.metrics import precision_score, recall_score, f1_score, accuracy_score\n",
    "from sklearn.model_selection import StratifiedKFold, cross_val_score\n",
    "\n",
    "import lightgbm as lgbz\n",
    "from lightgbm import plot_importance\n",
    "from sklearn.ensemble import RandomForestClassifier\n",
    "from xgboost import XGBClassifier\n",
    "\n",
    "from sklearn.model_selection import GridSearchCV, RandomizedSearchCV\n",
    "from tqdm.notebook import tqdm\n",
    "from time import sleep\n",
    "from datetime import datetime\n",
    "\n",
    "from sklearn.feature_selection import SelectKBest, chi2\n",
    "\n",
    "\n",
    "\n",
    "pd.set_option('display.max_columns', None)\n",
    "#pd.set_option('display.max_rows', None)"
   ]
  },
  {
   "cell_type": "markdown",
   "id": "53341a64",
   "metadata": {},
   "source": [
    "# 2.0 Import Data\n",
    "<a id='importdata'></a>"
   ]
  },
  {
   "cell_type": "code",
   "execution_count": 2,
   "id": "8384b2d5",
   "metadata": {},
   "outputs": [],
   "source": [
    "df = pd.read_csv('../Telco Customer Prediction/Dataset/Telco-Customer-Churn.csv')"
   ]
  },
  {
   "cell_type": "code",
   "execution_count": 3,
   "id": "67207fb1",
   "metadata": {},
   "outputs": [
    {
     "data": {
      "text/html": [
       "<div>\n",
       "<style scoped>\n",
       "    .dataframe tbody tr th:only-of-type {\n",
       "        vertical-align: middle;\n",
       "    }\n",
       "\n",
       "    .dataframe tbody tr th {\n",
       "        vertical-align: top;\n",
       "    }\n",
       "\n",
       "    .dataframe thead th {\n",
       "        text-align: right;\n",
       "    }\n",
       "</style>\n",
       "<table border=\"1\" class=\"dataframe\">\n",
       "  <thead>\n",
       "    <tr style=\"text-align: right;\">\n",
       "      <th></th>\n",
       "      <th>customerID</th>\n",
       "      <th>gender</th>\n",
       "      <th>SeniorCitizen</th>\n",
       "      <th>Partner</th>\n",
       "      <th>Dependents</th>\n",
       "      <th>tenure</th>\n",
       "      <th>PhoneService</th>\n",
       "      <th>MultipleLines</th>\n",
       "      <th>InternetService</th>\n",
       "      <th>OnlineSecurity</th>\n",
       "      <th>OnlineBackup</th>\n",
       "      <th>DeviceProtection</th>\n",
       "      <th>TechSupport</th>\n",
       "      <th>StreamingTV</th>\n",
       "      <th>StreamingMovies</th>\n",
       "      <th>Contract</th>\n",
       "      <th>PaperlessBilling</th>\n",
       "      <th>PaymentMethod</th>\n",
       "      <th>MonthlyCharges</th>\n",
       "      <th>TotalCharges</th>\n",
       "      <th>Churn</th>\n",
       "    </tr>\n",
       "  </thead>\n",
       "  <tbody>\n",
       "    <tr>\n",
       "      <th>0</th>\n",
       "      <td>7590-VHVEG</td>\n",
       "      <td>Female</td>\n",
       "      <td>0</td>\n",
       "      <td>Yes</td>\n",
       "      <td>No</td>\n",
       "      <td>1</td>\n",
       "      <td>No</td>\n",
       "      <td>No phone service</td>\n",
       "      <td>DSL</td>\n",
       "      <td>No</td>\n",
       "      <td>Yes</td>\n",
       "      <td>No</td>\n",
       "      <td>No</td>\n",
       "      <td>No</td>\n",
       "      <td>No</td>\n",
       "      <td>Month-to-month</td>\n",
       "      <td>Yes</td>\n",
       "      <td>Electronic check</td>\n",
       "      <td>29.85</td>\n",
       "      <td>29.85</td>\n",
       "      <td>No</td>\n",
       "    </tr>\n",
       "    <tr>\n",
       "      <th>1</th>\n",
       "      <td>5575-GNVDE</td>\n",
       "      <td>Male</td>\n",
       "      <td>0</td>\n",
       "      <td>No</td>\n",
       "      <td>No</td>\n",
       "      <td>34</td>\n",
       "      <td>Yes</td>\n",
       "      <td>No</td>\n",
       "      <td>DSL</td>\n",
       "      <td>Yes</td>\n",
       "      <td>No</td>\n",
       "      <td>Yes</td>\n",
       "      <td>No</td>\n",
       "      <td>No</td>\n",
       "      <td>No</td>\n",
       "      <td>One year</td>\n",
       "      <td>No</td>\n",
       "      <td>Mailed check</td>\n",
       "      <td>56.95</td>\n",
       "      <td>1889.50</td>\n",
       "      <td>No</td>\n",
       "    </tr>\n",
       "    <tr>\n",
       "      <th>2</th>\n",
       "      <td>3668-QPYBK</td>\n",
       "      <td>Male</td>\n",
       "      <td>0</td>\n",
       "      <td>No</td>\n",
       "      <td>No</td>\n",
       "      <td>2</td>\n",
       "      <td>Yes</td>\n",
       "      <td>No</td>\n",
       "      <td>DSL</td>\n",
       "      <td>Yes</td>\n",
       "      <td>Yes</td>\n",
       "      <td>No</td>\n",
       "      <td>No</td>\n",
       "      <td>No</td>\n",
       "      <td>No</td>\n",
       "      <td>Month-to-month</td>\n",
       "      <td>Yes</td>\n",
       "      <td>Mailed check</td>\n",
       "      <td>53.85</td>\n",
       "      <td>108.15</td>\n",
       "      <td>Yes</td>\n",
       "    </tr>\n",
       "    <tr>\n",
       "      <th>3</th>\n",
       "      <td>7795-CFOCW</td>\n",
       "      <td>Male</td>\n",
       "      <td>0</td>\n",
       "      <td>No</td>\n",
       "      <td>No</td>\n",
       "      <td>45</td>\n",
       "      <td>No</td>\n",
       "      <td>No phone service</td>\n",
       "      <td>DSL</td>\n",
       "      <td>Yes</td>\n",
       "      <td>No</td>\n",
       "      <td>Yes</td>\n",
       "      <td>Yes</td>\n",
       "      <td>No</td>\n",
       "      <td>No</td>\n",
       "      <td>One year</td>\n",
       "      <td>No</td>\n",
       "      <td>Bank transfer (automatic)</td>\n",
       "      <td>42.30</td>\n",
       "      <td>1840.75</td>\n",
       "      <td>No</td>\n",
       "    </tr>\n",
       "    <tr>\n",
       "      <th>4</th>\n",
       "      <td>9237-HQITU</td>\n",
       "      <td>Female</td>\n",
       "      <td>0</td>\n",
       "      <td>No</td>\n",
       "      <td>No</td>\n",
       "      <td>2</td>\n",
       "      <td>Yes</td>\n",
       "      <td>No</td>\n",
       "      <td>Fiber optic</td>\n",
       "      <td>No</td>\n",
       "      <td>No</td>\n",
       "      <td>No</td>\n",
       "      <td>No</td>\n",
       "      <td>No</td>\n",
       "      <td>No</td>\n",
       "      <td>Month-to-month</td>\n",
       "      <td>Yes</td>\n",
       "      <td>Electronic check</td>\n",
       "      <td>70.70</td>\n",
       "      <td>151.65</td>\n",
       "      <td>Yes</td>\n",
       "    </tr>\n",
       "    <tr>\n",
       "      <th>...</th>\n",
       "      <td>...</td>\n",
       "      <td>...</td>\n",
       "      <td>...</td>\n",
       "      <td>...</td>\n",
       "      <td>...</td>\n",
       "      <td>...</td>\n",
       "      <td>...</td>\n",
       "      <td>...</td>\n",
       "      <td>...</td>\n",
       "      <td>...</td>\n",
       "      <td>...</td>\n",
       "      <td>...</td>\n",
       "      <td>...</td>\n",
       "      <td>...</td>\n",
       "      <td>...</td>\n",
       "      <td>...</td>\n",
       "      <td>...</td>\n",
       "      <td>...</td>\n",
       "      <td>...</td>\n",
       "      <td>...</td>\n",
       "      <td>...</td>\n",
       "    </tr>\n",
       "    <tr>\n",
       "      <th>7027</th>\n",
       "      <td>6840-RESVB</td>\n",
       "      <td>Male</td>\n",
       "      <td>0</td>\n",
       "      <td>Yes</td>\n",
       "      <td>Yes</td>\n",
       "      <td>24</td>\n",
       "      <td>Yes</td>\n",
       "      <td>Yes</td>\n",
       "      <td>DSL</td>\n",
       "      <td>Yes</td>\n",
       "      <td>No</td>\n",
       "      <td>Yes</td>\n",
       "      <td>Yes</td>\n",
       "      <td>Yes</td>\n",
       "      <td>Yes</td>\n",
       "      <td>One year</td>\n",
       "      <td>Yes</td>\n",
       "      <td>Mailed check</td>\n",
       "      <td>84.80</td>\n",
       "      <td>1990.50</td>\n",
       "      <td>No</td>\n",
       "    </tr>\n",
       "    <tr>\n",
       "      <th>7028</th>\n",
       "      <td>2234-XADUH</td>\n",
       "      <td>Female</td>\n",
       "      <td>0</td>\n",
       "      <td>Yes</td>\n",
       "      <td>Yes</td>\n",
       "      <td>72</td>\n",
       "      <td>Yes</td>\n",
       "      <td>Yes</td>\n",
       "      <td>Fiber optic</td>\n",
       "      <td>No</td>\n",
       "      <td>Yes</td>\n",
       "      <td>Yes</td>\n",
       "      <td>No</td>\n",
       "      <td>Yes</td>\n",
       "      <td>Yes</td>\n",
       "      <td>One year</td>\n",
       "      <td>Yes</td>\n",
       "      <td>Credit card (automatic)</td>\n",
       "      <td>103.20</td>\n",
       "      <td>7362.90</td>\n",
       "      <td>No</td>\n",
       "    </tr>\n",
       "    <tr>\n",
       "      <th>7029</th>\n",
       "      <td>4801-JZAZL</td>\n",
       "      <td>Female</td>\n",
       "      <td>0</td>\n",
       "      <td>Yes</td>\n",
       "      <td>Yes</td>\n",
       "      <td>11</td>\n",
       "      <td>No</td>\n",
       "      <td>No phone service</td>\n",
       "      <td>DSL</td>\n",
       "      <td>Yes</td>\n",
       "      <td>No</td>\n",
       "      <td>No</td>\n",
       "      <td>No</td>\n",
       "      <td>No</td>\n",
       "      <td>No</td>\n",
       "      <td>Month-to-month</td>\n",
       "      <td>Yes</td>\n",
       "      <td>Electronic check</td>\n",
       "      <td>29.60</td>\n",
       "      <td>346.45</td>\n",
       "      <td>No</td>\n",
       "    </tr>\n",
       "    <tr>\n",
       "      <th>7030</th>\n",
       "      <td>8361-LTMKD</td>\n",
       "      <td>Male</td>\n",
       "      <td>1</td>\n",
       "      <td>Yes</td>\n",
       "      <td>No</td>\n",
       "      <td>4</td>\n",
       "      <td>Yes</td>\n",
       "      <td>Yes</td>\n",
       "      <td>Fiber optic</td>\n",
       "      <td>No</td>\n",
       "      <td>No</td>\n",
       "      <td>No</td>\n",
       "      <td>No</td>\n",
       "      <td>No</td>\n",
       "      <td>No</td>\n",
       "      <td>Month-to-month</td>\n",
       "      <td>Yes</td>\n",
       "      <td>Mailed check</td>\n",
       "      <td>74.40</td>\n",
       "      <td>306.60</td>\n",
       "      <td>Yes</td>\n",
       "    </tr>\n",
       "    <tr>\n",
       "      <th>7031</th>\n",
       "      <td>3186-AJIEK</td>\n",
       "      <td>Male</td>\n",
       "      <td>0</td>\n",
       "      <td>No</td>\n",
       "      <td>No</td>\n",
       "      <td>66</td>\n",
       "      <td>Yes</td>\n",
       "      <td>No</td>\n",
       "      <td>Fiber optic</td>\n",
       "      <td>Yes</td>\n",
       "      <td>No</td>\n",
       "      <td>Yes</td>\n",
       "      <td>Yes</td>\n",
       "      <td>Yes</td>\n",
       "      <td>Yes</td>\n",
       "      <td>Two year</td>\n",
       "      <td>Yes</td>\n",
       "      <td>Bank transfer (automatic)</td>\n",
       "      <td>105.65</td>\n",
       "      <td>6844.50</td>\n",
       "      <td>No</td>\n",
       "    </tr>\n",
       "  </tbody>\n",
       "</table>\n",
       "<p>7032 rows × 21 columns</p>\n",
       "</div>"
      ],
      "text/plain": [
       "      customerID  gender  SeniorCitizen Partner Dependents  tenure   \n",
       "0     7590-VHVEG  Female              0     Yes         No       1  \\\n",
       "1     5575-GNVDE    Male              0      No         No      34   \n",
       "2     3668-QPYBK    Male              0      No         No       2   \n",
       "3     7795-CFOCW    Male              0      No         No      45   \n",
       "4     9237-HQITU  Female              0      No         No       2   \n",
       "...          ...     ...            ...     ...        ...     ...   \n",
       "7027  6840-RESVB    Male              0     Yes        Yes      24   \n",
       "7028  2234-XADUH  Female              0     Yes        Yes      72   \n",
       "7029  4801-JZAZL  Female              0     Yes        Yes      11   \n",
       "7030  8361-LTMKD    Male              1     Yes         No       4   \n",
       "7031  3186-AJIEK    Male              0      No         No      66   \n",
       "\n",
       "     PhoneService     MultipleLines InternetService OnlineSecurity   \n",
       "0              No  No phone service             DSL             No  \\\n",
       "1             Yes                No             DSL            Yes   \n",
       "2             Yes                No             DSL            Yes   \n",
       "3              No  No phone service             DSL            Yes   \n",
       "4             Yes                No     Fiber optic             No   \n",
       "...           ...               ...             ...            ...   \n",
       "7027          Yes               Yes             DSL            Yes   \n",
       "7028          Yes               Yes     Fiber optic             No   \n",
       "7029           No  No phone service             DSL            Yes   \n",
       "7030          Yes               Yes     Fiber optic             No   \n",
       "7031          Yes                No     Fiber optic            Yes   \n",
       "\n",
       "     OnlineBackup DeviceProtection TechSupport StreamingTV StreamingMovies   \n",
       "0             Yes               No          No          No              No  \\\n",
       "1              No              Yes          No          No              No   \n",
       "2             Yes               No          No          No              No   \n",
       "3              No              Yes         Yes          No              No   \n",
       "4              No               No          No          No              No   \n",
       "...           ...              ...         ...         ...             ...   \n",
       "7027           No              Yes         Yes         Yes             Yes   \n",
       "7028          Yes              Yes          No         Yes             Yes   \n",
       "7029           No               No          No          No              No   \n",
       "7030           No               No          No          No              No   \n",
       "7031           No              Yes         Yes         Yes             Yes   \n",
       "\n",
       "            Contract PaperlessBilling              PaymentMethod   \n",
       "0     Month-to-month              Yes           Electronic check  \\\n",
       "1           One year               No               Mailed check   \n",
       "2     Month-to-month              Yes               Mailed check   \n",
       "3           One year               No  Bank transfer (automatic)   \n",
       "4     Month-to-month              Yes           Electronic check   \n",
       "...              ...              ...                        ...   \n",
       "7027        One year              Yes               Mailed check   \n",
       "7028        One year              Yes    Credit card (automatic)   \n",
       "7029  Month-to-month              Yes           Electronic check   \n",
       "7030  Month-to-month              Yes               Mailed check   \n",
       "7031        Two year              Yes  Bank transfer (automatic)   \n",
       "\n",
       "      MonthlyCharges  TotalCharges Churn  \n",
       "0              29.85         29.85    No  \n",
       "1              56.95       1889.50    No  \n",
       "2              53.85        108.15   Yes  \n",
       "3              42.30       1840.75    No  \n",
       "4              70.70        151.65   Yes  \n",
       "...              ...           ...   ...  \n",
       "7027           84.80       1990.50    No  \n",
       "7028          103.20       7362.90    No  \n",
       "7029           29.60        346.45    No  \n",
       "7030           74.40        306.60   Yes  \n",
       "7031          105.65       6844.50    No  \n",
       "\n",
       "[7032 rows x 21 columns]"
      ]
     },
     "execution_count": 3,
     "metadata": {},
     "output_type": "execute_result"
    }
   ],
   "source": [
    "df"
   ]
  },
  {
   "cell_type": "markdown",
   "id": "83e3a919",
   "metadata": {},
   "source": [
    "# 3.0 Data Understanding\n",
    "<a id='DataUnderstanding'></a>"
   ]
  },
  {
   "cell_type": "code",
   "execution_count": 4,
   "id": "2f2f453d",
   "metadata": {},
   "outputs": [
    {
     "name": "stdout",
     "output_type": "stream",
     "text": [
      "<class 'pandas.core.frame.DataFrame'>\n",
      "RangeIndex: 7032 entries, 0 to 7031\n",
      "Data columns (total 21 columns):\n",
      " #   Column            Non-Null Count  Dtype  \n",
      "---  ------            --------------  -----  \n",
      " 0   customerID        7032 non-null   object \n",
      " 1   gender            7032 non-null   object \n",
      " 2   SeniorCitizen     7032 non-null   int64  \n",
      " 3   Partner           7032 non-null   object \n",
      " 4   Dependents        7032 non-null   object \n",
      " 5   tenure            7032 non-null   int64  \n",
      " 6   PhoneService      7032 non-null   object \n",
      " 7   MultipleLines     7032 non-null   object \n",
      " 8   InternetService   7032 non-null   object \n",
      " 9   OnlineSecurity    7032 non-null   object \n",
      " 10  OnlineBackup      7032 non-null   object \n",
      " 11  DeviceProtection  7032 non-null   object \n",
      " 12  TechSupport       7032 non-null   object \n",
      " 13  StreamingTV       7032 non-null   object \n",
      " 14  StreamingMovies   7032 non-null   object \n",
      " 15  Contract          7032 non-null   object \n",
      " 16  PaperlessBilling  7032 non-null   object \n",
      " 17  PaymentMethod     7032 non-null   object \n",
      " 18  MonthlyCharges    7032 non-null   float64\n",
      " 19  TotalCharges      7032 non-null   float64\n",
      " 20  Churn             7032 non-null   object \n",
      "dtypes: float64(2), int64(2), object(17)\n",
      "memory usage: 1.1+ MB\n"
     ]
    }
   ],
   "source": [
    "df.info()"
   ]
  },
  {
   "cell_type": "code",
   "execution_count": 83,
   "id": "9e5d1115",
   "metadata": {},
   "outputs": [
    {
     "data": {
      "text/html": [
       "<div>\n",
       "<style scoped>\n",
       "    .dataframe tbody tr th:only-of-type {\n",
       "        vertical-align: middle;\n",
       "    }\n",
       "\n",
       "    .dataframe tbody tr th {\n",
       "        vertical-align: top;\n",
       "    }\n",
       "\n",
       "    .dataframe thead th {\n",
       "        text-align: right;\n",
       "    }\n",
       "</style>\n",
       "<table border=\"1\" class=\"dataframe\">\n",
       "  <thead>\n",
       "    <tr style=\"text-align: right;\">\n",
       "      <th></th>\n",
       "      <th>SeniorCitizen</th>\n",
       "      <th>tenure</th>\n",
       "      <th>MonthlyCharges</th>\n",
       "      <th>TotalCharges</th>\n",
       "    </tr>\n",
       "  </thead>\n",
       "  <tbody>\n",
       "    <tr>\n",
       "      <th>count</th>\n",
       "      <td>7032.000000</td>\n",
       "      <td>7032.000000</td>\n",
       "      <td>7032.000000</td>\n",
       "      <td>7032.000000</td>\n",
       "    </tr>\n",
       "    <tr>\n",
       "      <th>mean</th>\n",
       "      <td>0.162400</td>\n",
       "      <td>32.421786</td>\n",
       "      <td>64.798208</td>\n",
       "      <td>2283.300441</td>\n",
       "    </tr>\n",
       "    <tr>\n",
       "      <th>std</th>\n",
       "      <td>0.368844</td>\n",
       "      <td>24.545260</td>\n",
       "      <td>30.085974</td>\n",
       "      <td>2266.771362</td>\n",
       "    </tr>\n",
       "    <tr>\n",
       "      <th>min</th>\n",
       "      <td>0.000000</td>\n",
       "      <td>1.000000</td>\n",
       "      <td>18.250000</td>\n",
       "      <td>18.800000</td>\n",
       "    </tr>\n",
       "    <tr>\n",
       "      <th>25%</th>\n",
       "      <td>0.000000</td>\n",
       "      <td>9.000000</td>\n",
       "      <td>35.587500</td>\n",
       "      <td>401.450000</td>\n",
       "    </tr>\n",
       "    <tr>\n",
       "      <th>50%</th>\n",
       "      <td>0.000000</td>\n",
       "      <td>29.000000</td>\n",
       "      <td>70.350000</td>\n",
       "      <td>1397.475000</td>\n",
       "    </tr>\n",
       "    <tr>\n",
       "      <th>75%</th>\n",
       "      <td>0.000000</td>\n",
       "      <td>55.000000</td>\n",
       "      <td>89.862500</td>\n",
       "      <td>3794.737500</td>\n",
       "    </tr>\n",
       "    <tr>\n",
       "      <th>max</th>\n",
       "      <td>1.000000</td>\n",
       "      <td>72.000000</td>\n",
       "      <td>118.750000</td>\n",
       "      <td>8684.800000</td>\n",
       "    </tr>\n",
       "  </tbody>\n",
       "</table>\n",
       "</div>"
      ],
      "text/plain": [
       "       SeniorCitizen       tenure  MonthlyCharges  TotalCharges\n",
       "count    7032.000000  7032.000000     7032.000000   7032.000000\n",
       "mean        0.162400    32.421786       64.798208   2283.300441\n",
       "std         0.368844    24.545260       30.085974   2266.771362\n",
       "min         0.000000     1.000000       18.250000     18.800000\n",
       "25%         0.000000     9.000000       35.587500    401.450000\n",
       "50%         0.000000    29.000000       70.350000   1397.475000\n",
       "75%         0.000000    55.000000       89.862500   3794.737500\n",
       "max         1.000000    72.000000      118.750000   8684.800000"
      ]
     },
     "execution_count": 83,
     "metadata": {},
     "output_type": "execute_result"
    }
   ],
   "source": [
    "df.describe()"
   ]
  },
  {
   "cell_type": "code",
   "execution_count": 7,
   "id": "c6491785",
   "metadata": {},
   "outputs": [
    {
     "data": {
      "image/png": "[encoded data removed]",
      "text/plain": [
       "<Figure size 640x480 with 1 Axes>"
      ]
     },
     "metadata": {},
     "output_type": "display_data"
    }
   ],
   "source": [
    "total_count = len(df['Churn'])\n",
    "counts = df['Churn'].value_counts()\n",
    "percentages = counts / total_count * 100\n",
    "\n",
    "# Create the countplot\n",
    "ax = sns.countplot(data=df, x='Churn')\n",
    "\n",
    "# Add labels and title\n",
    "plt.xlabel('Churn')\n",
    "plt.ylabel('Count')\n",
    "plt.title('Churn Distribution')\n",
    "\n",
    "for p, count, percentage in zip(ax.patches, counts, percentages):\n",
    "    ax.annotate(f'{count} ({percentage:.1f}%)', (p.get_x() + p.get_width() / 2., p.get_height()), \n",
    "                ha='center', va='center', xytext=(0, 5), textcoords='offset points')\n"
   ]
  },
  {
   "cell_type": "markdown",
   "id": "388e6a7f",
   "metadata": {},
   "source": [
    "* **Imbalanced dataset** as there are only 26.5% of churned users in this dataset.\n",
    "* Might need to perform some **over sampling**."
   ]
  },
  {
   "cell_type": "code",
   "execution_count": 8,
   "id": "394fed06",
   "metadata": {},
   "outputs": [
    {
     "name": "stdout",
     "output_type": "stream",
     "text": [
      "The number of values for customerID: 7032\n",
      "The number of values for gender: 2 -- ['Female' 'Male']\n",
      "The number of values for SeniorCitizen: 2 -- [0 1]\n",
      "The number of values for Partner: 2 -- ['Yes' 'No']\n",
      "The number of values for Dependents: 2 -- ['No' 'Yes']\n",
      "The number of values for tenure: 72\n",
      "The number of values for PhoneService: 2 -- ['No' 'Yes']\n",
      "The number of values for MultipleLines: 3 -- ['No phone service' 'No' 'Yes']\n",
      "The number of values for InternetService: 3 -- ['DSL' 'Fiber optic' 'No']\n",
      "The number of values for OnlineSecurity: 3 -- ['No' 'Yes' 'No internet service']\n",
      "The number of values for OnlineBackup: 3 -- ['Yes' 'No' 'No internet service']\n",
      "The number of values for DeviceProtection: 3 -- ['No' 'Yes' 'No internet service']\n",
      "The number of values for TechSupport: 3 -- ['No' 'Yes' 'No internet service']\n",
      "The number of values for StreamingTV: 3 -- ['No' 'Yes' 'No internet service']\n",
      "The number of values for StreamingMovies: 3 -- ['No' 'Yes' 'No internet service']\n",
      "The number of values for Contract: 3 -- ['Month-to-month' 'One year' 'Two year']\n",
      "The number of values for PaperlessBilling: 2 -- ['Yes' 'No']\n",
      "The number of values for PaymentMethod: 4 -- ['Electronic check' 'Mailed check' 'Bank transfer (automatic)'\n",
      " 'Credit card (automatic)']\n",
      "The number of values for MonthlyCharges: 1584\n",
      "The number of values for TotalCharges: 6530\n",
      "The number of values for Churn: 2 -- ['No' 'Yes']\n"
     ]
    }
   ],
   "source": [
    "# Investigate all elements within each Feature\n",
    "\n",
    "for column in df:\n",
    "    try:\n",
    "        unique_vals = np.unique(df_raw[column])\n",
    "    except:\n",
    "        unique_vals = df[column].unique()\n",
    "        \n",
    "    nr_values = len(unique_vals)\n",
    "    if nr_values < 10:\n",
    "        print('The number of values for {}: {} -- {}'.format(column, nr_values,unique_vals))\n",
    "    else:\n",
    "        print('The number of values for {}: {}'.format(column, nr_values))"
   ]
  },
  {
   "cell_type": "markdown",
   "id": "8fc27889",
   "metadata": {},
   "source": [
    "* Listing out all the unique values for each feature. for features that has more than 10 unique values, the unique count will be shown instead.\n",
    "* Noticeable for most of the categorical columns, there are same values that are word differently --> \"no\" and \"No internet service\""
   ]
  },
  {
   "cell_type": "markdown",
   "id": "92173cf9",
   "metadata": {},
   "source": [
    "# 4.0 Pre-Feature Engineering\n",
    "<a id='PreFeatureEngineering'></a>"
   ]
  },
  {
   "cell_type": "code",
   "execution_count": 9,
   "id": "fb21d262",
   "metadata": {},
   "outputs": [],
   "source": [
    "df[\"MultipleLines\"] = df[\"MultipleLines\"].replace(\"No phone service\", \"No\")\n",
    "df[\"OnlineSecurity\"] = df[\"OnlineSecurity\"].replace(\"No internet service\", \"No\")\n",
    "df[\"OnlineBackup\"] = df[\"OnlineBackup\"].replace(\"No internet service\", \"No\")\n",
    "df[\"DeviceProtection\"] = df[\"DeviceProtection\"].replace(\"No internet service\", \"No\")\n",
    "df[\"TechSupport\"] = df[\"TechSupport\"].replace(\"No internet service\", \"No\")\n",
    "df[\"StreamingTV\"] = df[\"StreamingTV\"].replace(\"No internet service\", \"No\")\n",
    "df[\"StreamingMovies\"] = df[\"StreamingMovies\"].replace(\"No internet service\", \"No\")\n",
    "df[\"DeviceProtection\"] = df[\"DeviceProtection\"].replace(\"No internet service\", \"No\")"
   ]
  },
  {
   "cell_type": "code",
   "execution_count": 10,
   "id": "41e11b62",
   "metadata": {},
   "outputs": [],
   "source": [
    "#df['TotalCharges'] = pd.to_numeric(df['TotalCharges']) # this will tell you that a row has ' ' For TotalChargers\n",
    "df[\"TotalCharges\"] = df[\"TotalCharges\"].replace(\" \", \"0\")\n",
    "df['TotalCharges'] = pd.to_numeric(df['TotalCharges'])"
   ]
  },
  {
   "cell_type": "markdown",
   "id": "4b4e752d",
   "metadata": {},
   "source": [
    "# 5.0 EDA\n",
    "<a id='eda'></a>"
   ]
  },
  {
   "cell_type": "markdown",
   "id": "f2153c17",
   "metadata": {},
   "source": [
    "## 5.1 Categorical Features"
   ]
  },
  {
   "cell_type": "code",
   "execution_count": 11,
   "id": "f6f2e9cd",
   "metadata": {},
   "outputs": [
    {
     "data": {
      "image/png": "[encoded data removed]",
      "text/plain": [
       "<Figure size 1500x3000 with 18 Axes>"
      ]
     },
     "metadata": {},
     "output_type": "display_data"
    }
   ],
   "source": [
    "fig,axes=plt.subplots(6,3, figsize=(15, 30))\n",
    "axes = axes.flatten()\n",
    "\n",
    "categories = ['gender', 'SeniorCitizen', 'Partner', 'Dependents', 'PhoneService', 'MultipleLines',\n",
    "              'InternetService','OnlineSecurity', 'OnlineBackup', 'DeviceProtection', 'TechSupport', \n",
    "              'StreamingTV', 'StreamingMovies', 'Contract','PaperlessBilling', 'PaymentMethod']\n",
    "\n",
    "for i in range(len(categories)):\n",
    "    \n",
    "    ax= sns.countplot(x=categories[i], data = df, palette = 'Set2', ax=axes[i], hue = 'Churn')\n",
    "    ax.set_xticklabels(ax.get_xticklabels(), ha='right')\n"
   ]
  },
  {
   "cell_type": "markdown",
   "id": "fc3708ea",
   "metadata": {},
   "source": [
    "**Noticeable Trends:**\n",
    "* **Sensior Citizens:** most customers are not Senior Citizens. \n",
    "* **InternetService:** higher churn rate for customers using Fiber Optic.\n",
    "* **OnlineSecurity:** higher churn rate for customers with no OnlineSecurity.\n",
    "* **Contract:** higher churn rate for customers unnder Month-to-Month Contract."
   ]
  },
  {
   "cell_type": "markdown",
   "id": "a032b3f2",
   "metadata": {},
   "source": [
    "## 5.2 Numerical Features"
   ]
  },
  {
   "cell_type": "code",
   "execution_count": 12,
   "id": "2bcbdf29",
   "metadata": {},
   "outputs": [
    {
     "data": {
      "image/png": "[encoded data removed]",
      "text/plain": [
       "<Figure size 1500x300 with 3 Axes>"
      ]
     },
     "metadata": {},
     "output_type": "display_data"
    }
   ],
   "source": [
    "fig,axes=plt.subplots(1,3, figsize=(15, 3))\n",
    "numeric = ['tenure', 'MonthlyCharges', 'TotalCharges']\n",
    "\n",
    "ax = sns.histplot(df['tenure'].values, ax=axes[0]).set_title('tenure')\n",
    "ax = sns.histplot(df['MonthlyCharges'].values, ax=axes[1]).set_title('MonthlyCharges')\n",
    "ax = sns.histplot(df['TotalCharges'].values, ax=axes[2]).set_title('TotalCharges')"
   ]
  },
  {
   "cell_type": "markdown",
   "id": "c84a8983",
   "metadata": {},
   "source": [
    "## 5.3 Binning"
   ]
  },
  {
   "cell_type": "code",
   "execution_count": 13,
   "id": "c564cb81",
   "metadata": {},
   "outputs": [],
   "source": [
    "bins = [0,5, 10, 15, 20, 25,30,35,40,50, 55, 60, 65, 70, 80]\n",
    "labels = ['5', '10', '15', '20', '25','30','35','40','50', '55', '60', '65', '70', '80']\n",
    "df['Tenure_bins'] = pd.cut(df['tenure'], bins=bins, labels=labels)\n",
    "\n",
    "\n",
    "bins = [18, 28, 38, 48, 58,68,78,88,98]\n",
    "labels = ['28', '38', '48', '58','68','78','88','98']\n",
    "df['MonthlyCharges_bins'] = pd.cut(df['MonthlyCharges'], bins=bins, labels=labels)\n",
    "\n",
    "bins = [-10, 1000, 2000, 3000, 4000, 5000, 6000, 7000, 8000, 9000]\n",
    "labels = ['1000', '2000', '3000', '4000', '5000','6000','7000','8000','9000']\n",
    "df['TotalCharges_bins'] = pd.cut(df['TotalCharges'], bins=bins, labels=labels)"
   ]
  },
  {
   "cell_type": "code",
   "execution_count": 14,
   "id": "d849469a",
   "metadata": {},
   "outputs": [
    {
     "data": {
      "image/png": "[encoded data removed]",
      "text/plain": [
       "<Figure size 1400x2000 with 3 Axes>"
      ]
     },
     "metadata": {},
     "output_type": "display_data"
    }
   ],
   "source": [
    "fig, ax = plt.subplots(nrows = 3,ncols = 1,figsize = (14,20))\n",
    "numeric_feat = ['Tenure_bins', 'MonthlyCharges_bins', 'TotalCharges_bins']\n",
    "\n",
    "for i in range(3):\n",
    "    plt.subplot(3,1,i+1)\n",
    "    sns.countplot(x=numeric_feat[i],data = df ,hue = \"Churn\",edgecolor = 'black')\n",
    "    plt.legend(['No Churn','Churn'],loc = 'upper left')\n",
    "    title = numeric_feat[i]\n",
    "    plt.title(title);"
   ]
  },
  {
   "cell_type": "markdown",
   "id": "61adcb62",
   "metadata": {},
   "source": [
    "**Noticeable Trend:**\n",
    "* The shorter the tenure, the more likely the user will churn. **Many churned users only have 5 or lower months of tenure**.\n",
    "* The higher the charges in total or monthly, the more likely the user will churn. **Noticeable increase proportion of churned users from having to pay $78 and above.**"
   ]
  },
  {
   "cell_type": "markdown",
   "id": "b7376f46",
   "metadata": {},
   "source": [
    "# 6.0 Feature Engineering\n",
    "<a id='FeatureEngineering'></a>"
   ]
  },
  {
   "cell_type": "markdown",
   "id": "fed8395d",
   "metadata": {},
   "source": [
    "## 6.1 Label Encoding"
   ]
  },
  {
   "cell_type": "code",
   "execution_count": 15,
   "id": "ffac9292",
   "metadata": {},
   "outputs": [
    {
     "name": "stdout",
     "output_type": "stream",
     "text": [
      "Label Encoder Transformation\n",
      "gender  :  [0 1]  =  ['Female' 'Male']\n",
      "SeniorCitizen  :  [0 1]  =  [0 1]\n",
      "Partner  :  [1 0]  =  ['Yes' 'No']\n",
      "Dependents  :  [0 1]  =  ['No' 'Yes']\n",
      "PhoneService  :  [0 1]  =  ['No' 'Yes']\n",
      "MultipleLines  :  [0 1]  =  ['No' 'Yes']\n",
      "InternetService  :  [0 1 2]  =  ['DSL' 'Fiber optic' 'No']\n",
      "OnlineSecurity  :  [0 1]  =  ['No' 'Yes']\n",
      "OnlineBackup  :  [1 0]  =  ['Yes' 'No']\n",
      "DeviceProtection  :  [0 1]  =  ['No' 'Yes']\n",
      "TechSupport  :  [0 1]  =  ['No' 'Yes']\n",
      "StreamingTV  :  [0 1]  =  ['No' 'Yes']\n",
      "StreamingMovies  :  [0 1]  =  ['No' 'Yes']\n",
      "Contract  :  [0 1 2]  =  ['Month-to-month' 'One year' 'Two year']\n",
      "PaperlessBilling  :  [1 0]  =  ['Yes' 'No']\n",
      "PaymentMethod  :  [2 3 0 1]  =  ['Electronic check' 'Mailed check' 'Bank transfer (automatic)'\n",
      " 'Credit card (automatic)']\n",
      "Churn  :  [0 1]  =  ['No' 'Yes']\n"
     ]
    }
   ],
   "source": [
    "df_final = df.copy()\n",
    "le = LabelEncoder()\n",
    "\n",
    "text_data_features = ['gender', 'SeniorCitizen', 'Partner', 'Dependents', 'PhoneService', 'MultipleLines',\n",
    "              'InternetService','OnlineSecurity', 'OnlineBackup', 'DeviceProtection', 'TechSupport', \n",
    "              'StreamingTV', 'StreamingMovies', 'Contract','PaperlessBilling', 'PaymentMethod', 'Churn']\n",
    "\n",
    "print('Label Encoder Transformation')\n",
    "for i in text_data_features :\n",
    "    df_final[i] = le.fit_transform(df_final[i])\n",
    "    print(i,' : ',df_final[i].unique(),' = ',le.inverse_transform(df_final[i].unique()))"
   ]
  },
  {
   "cell_type": "code",
   "execution_count": null,
   "id": "cd6e4e1e",
   "metadata": {},
   "outputs": [],
   "source": []
  },
  {
   "cell_type": "markdown",
   "id": "d283662f",
   "metadata": {},
   "source": [
    "## 6.2 Heatmap Correlation"
   ]
  },
  {
   "cell_type": "code",
   "execution_count": 16,
   "id": "7a3ca09c",
   "metadata": {},
   "outputs": [
    {
     "data": {
      "image/png": "[encoded data removed]",
      "text/plain": [
       "<Figure size 500x500 with 2 Axes>"
      ]
     },
     "metadata": {},
     "output_type": "display_data"
    }
   ],
   "source": [
    "corr = df_final.iloc[:, 1:20].corrwith(df_final['Churn']).sort_values(ascending=False).to_frame()\n",
    "corr.columns = ['Correlations']\n",
    "plt.subplots(figsize=(5, 5))\n",
    "sns.heatmap(corr, annot=True, linewidths=0.4, linecolor='black')\n",
    "plt.title('Correlation with Churn')\n",
    "plt.show()"
   ]
  },
  {
   "cell_type": "markdown",
   "id": "3747bd0d",
   "metadata": {},
   "source": [
    "* We can see certain features such as **`Contract`**, **`Tenure`**, **`Total Charges`** have stronger correlation with Churn of **0.2 to 0.4**."
   ]
  },
  {
   "cell_type": "markdown",
   "id": "a7e6ebfd",
   "metadata": {},
   "source": [
    "## 6.3 Chi Square Test"
   ]
  },
  {
   "cell_type": "code",
   "execution_count": 17,
   "id": "f06e6996",
   "metadata": {},
   "outputs": [
    {
     "data": {
      "image/png": "[encoded data removed]",
      "text/plain": [
       "<Figure size 500x500 with 2 Axes>"
      ]
     },
     "metadata": {},
     "output_type": "display_data"
    }
   ],
   "source": [
    "categorical_features = ['gender', 'SeniorCitizen', 'Partner', 'Dependents', 'PhoneService', 'MultipleLines',\n",
    "              'InternetService','OnlineSecurity', 'OnlineBackup', 'DeviceProtection', 'TechSupport', \n",
    "              'StreamingTV', 'StreamingMovies', 'Contract','PaperlessBilling', 'PaymentMethod', 'Churn']\n",
    "\n",
    "features = df_final.loc[:,categorical_features]\n",
    "target = df_final.loc[:,'Churn']\n",
    "\n",
    "best_features = SelectKBest(score_func = chi2,k = 'all')\n",
    "fit = best_features.fit(features,target)\n",
    "\n",
    "featureScores = pd.DataFrame(data = fit.scores_,index = list(features.columns),columns = ['Chi Squared Score']) \n",
    "\n",
    "plt.subplots(figsize = (5,5))\n",
    "sns.heatmap(featureScores.sort_values(ascending = False,by = 'Chi Squared Score'),annot = True,linewidths = 0.4,linecolor = 'black',fmt = '.2f');\n",
    "plt.title('Selection of Categorical Features');"
   ]
  },
  {
   "cell_type": "markdown",
   "id": "6af13ac3",
   "metadata": {},
   "source": [
    "* Using Chi Square Test to see relationship between categorical features to Target Feature (Churn).\n",
    "* We see that Contract does have signicant impact to Target Feature (Churn)."
   ]
  },
  {
   "cell_type": "code",
   "execution_count": 18,
   "id": "ccb38d8a",
   "metadata": {},
   "outputs": [
    {
     "data": {
      "text/html": [
       "<div>\n",
       "<style scoped>\n",
       "    .dataframe tbody tr th:only-of-type {\n",
       "        vertical-align: middle;\n",
       "    }\n",
       "\n",
       "    .dataframe tbody tr th {\n",
       "        vertical-align: top;\n",
       "    }\n",
       "\n",
       "    .dataframe thead th {\n",
       "        text-align: right;\n",
       "    }\n",
       "</style>\n",
       "<table border=\"1\" class=\"dataframe\">\n",
       "  <thead>\n",
       "    <tr style=\"text-align: right;\">\n",
       "      <th></th>\n",
       "      <th>customerID</th>\n",
       "      <th>gender</th>\n",
       "      <th>SeniorCitizen</th>\n",
       "      <th>Partner</th>\n",
       "      <th>Dependents</th>\n",
       "      <th>tenure</th>\n",
       "      <th>PhoneService</th>\n",
       "      <th>MultipleLines</th>\n",
       "      <th>InternetService</th>\n",
       "      <th>OnlineSecurity</th>\n",
       "      <th>OnlineBackup</th>\n",
       "      <th>DeviceProtection</th>\n",
       "      <th>TechSupport</th>\n",
       "      <th>StreamingTV</th>\n",
       "      <th>StreamingMovies</th>\n",
       "      <th>Contract</th>\n",
       "      <th>PaperlessBilling</th>\n",
       "      <th>PaymentMethod</th>\n",
       "      <th>MonthlyCharges</th>\n",
       "      <th>TotalCharges</th>\n",
       "      <th>Churn</th>\n",
       "      <th>Tenure_bins</th>\n",
       "      <th>MonthlyCharges_bins</th>\n",
       "      <th>TotalCharges_bins</th>\n",
       "    </tr>\n",
       "  </thead>\n",
       "  <tbody>\n",
       "    <tr>\n",
       "      <th>0</th>\n",
       "      <td>7590-VHVEG</td>\n",
       "      <td>0</td>\n",
       "      <td>0</td>\n",
       "      <td>1</td>\n",
       "      <td>0</td>\n",
       "      <td>1</td>\n",
       "      <td>0</td>\n",
       "      <td>0</td>\n",
       "      <td>0</td>\n",
       "      <td>0</td>\n",
       "      <td>1</td>\n",
       "      <td>0</td>\n",
       "      <td>0</td>\n",
       "      <td>0</td>\n",
       "      <td>0</td>\n",
       "      <td>0</td>\n",
       "      <td>1</td>\n",
       "      <td>2</td>\n",
       "      <td>29.85</td>\n",
       "      <td>29.85</td>\n",
       "      <td>0</td>\n",
       "      <td>5</td>\n",
       "      <td>38</td>\n",
       "      <td>1000</td>\n",
       "    </tr>\n",
       "    <tr>\n",
       "      <th>1</th>\n",
       "      <td>5575-GNVDE</td>\n",
       "      <td>1</td>\n",
       "      <td>0</td>\n",
       "      <td>0</td>\n",
       "      <td>0</td>\n",
       "      <td>34</td>\n",
       "      <td>1</td>\n",
       "      <td>0</td>\n",
       "      <td>0</td>\n",
       "      <td>1</td>\n",
       "      <td>0</td>\n",
       "      <td>1</td>\n",
       "      <td>0</td>\n",
       "      <td>0</td>\n",
       "      <td>0</td>\n",
       "      <td>1</td>\n",
       "      <td>0</td>\n",
       "      <td>3</td>\n",
       "      <td>56.95</td>\n",
       "      <td>1889.50</td>\n",
       "      <td>0</td>\n",
       "      <td>35</td>\n",
       "      <td>58</td>\n",
       "      <td>2000</td>\n",
       "    </tr>\n",
       "    <tr>\n",
       "      <th>2</th>\n",
       "      <td>3668-QPYBK</td>\n",
       "      <td>1</td>\n",
       "      <td>0</td>\n",
       "      <td>0</td>\n",
       "      <td>0</td>\n",
       "      <td>2</td>\n",
       "      <td>1</td>\n",
       "      <td>0</td>\n",
       "      <td>0</td>\n",
       "      <td>1</td>\n",
       "      <td>1</td>\n",
       "      <td>0</td>\n",
       "      <td>0</td>\n",
       "      <td>0</td>\n",
       "      <td>0</td>\n",
       "      <td>0</td>\n",
       "      <td>1</td>\n",
       "      <td>3</td>\n",
       "      <td>53.85</td>\n",
       "      <td>108.15</td>\n",
       "      <td>1</td>\n",
       "      <td>5</td>\n",
       "      <td>58</td>\n",
       "      <td>1000</td>\n",
       "    </tr>\n",
       "    <tr>\n",
       "      <th>3</th>\n",
       "      <td>7795-CFOCW</td>\n",
       "      <td>1</td>\n",
       "      <td>0</td>\n",
       "      <td>0</td>\n",
       "      <td>0</td>\n",
       "      <td>45</td>\n",
       "      <td>0</td>\n",
       "      <td>0</td>\n",
       "      <td>0</td>\n",
       "      <td>1</td>\n",
       "      <td>0</td>\n",
       "      <td>1</td>\n",
       "      <td>1</td>\n",
       "      <td>0</td>\n",
       "      <td>0</td>\n",
       "      <td>1</td>\n",
       "      <td>0</td>\n",
       "      <td>0</td>\n",
       "      <td>42.30</td>\n",
       "      <td>1840.75</td>\n",
       "      <td>0</td>\n",
       "      <td>50</td>\n",
       "      <td>48</td>\n",
       "      <td>2000</td>\n",
       "    </tr>\n",
       "    <tr>\n",
       "      <th>4</th>\n",
       "      <td>9237-HQITU</td>\n",
       "      <td>0</td>\n",
       "      <td>0</td>\n",
       "      <td>0</td>\n",
       "      <td>0</td>\n",
       "      <td>2</td>\n",
       "      <td>1</td>\n",
       "      <td>0</td>\n",
       "      <td>1</td>\n",
       "      <td>0</td>\n",
       "      <td>0</td>\n",
       "      <td>0</td>\n",
       "      <td>0</td>\n",
       "      <td>0</td>\n",
       "      <td>0</td>\n",
       "      <td>0</td>\n",
       "      <td>1</td>\n",
       "      <td>2</td>\n",
       "      <td>70.70</td>\n",
       "      <td>151.65</td>\n",
       "      <td>1</td>\n",
       "      <td>5</td>\n",
       "      <td>78</td>\n",
       "      <td>1000</td>\n",
       "    </tr>\n",
       "  </tbody>\n",
       "</table>\n",
       "</div>"
      ],
      "text/plain": [
       "   customerID  gender  SeniorCitizen  Partner  Dependents  tenure   \n",
       "0  7590-VHVEG       0              0        1           0       1  \\\n",
       "1  5575-GNVDE       1              0        0           0      34   \n",
       "2  3668-QPYBK       1              0        0           0       2   \n",
       "3  7795-CFOCW       1              0        0           0      45   \n",
       "4  9237-HQITU       0              0        0           0       2   \n",
       "\n",
       "   PhoneService  MultipleLines  InternetService  OnlineSecurity  OnlineBackup   \n",
       "0             0              0                0               0             1  \\\n",
       "1             1              0                0               1             0   \n",
       "2             1              0                0               1             1   \n",
       "3             0              0                0               1             0   \n",
       "4             1              0                1               0             0   \n",
       "\n",
       "   DeviceProtection  TechSupport  StreamingTV  StreamingMovies  Contract   \n",
       "0                 0            0            0                0         0  \\\n",
       "1                 1            0            0                0         1   \n",
       "2                 0            0            0                0         0   \n",
       "3                 1            1            0                0         1   \n",
       "4                 0            0            0                0         0   \n",
       "\n",
       "   PaperlessBilling  PaymentMethod  MonthlyCharges  TotalCharges  Churn   \n",
       "0                 1              2           29.85         29.85      0  \\\n",
       "1                 0              3           56.95       1889.50      0   \n",
       "2                 1              3           53.85        108.15      1   \n",
       "3                 0              0           42.30       1840.75      0   \n",
       "4                 1              2           70.70        151.65      1   \n",
       "\n",
       "  Tenure_bins MonthlyCharges_bins TotalCharges_bins  \n",
       "0           5                  38              1000  \n",
       "1          35                  58              2000  \n",
       "2           5                  58              1000  \n",
       "3          50                  48              2000  \n",
       "4           5                  78              1000  "
      ]
     },
     "execution_count": 18,
     "metadata": {},
     "output_type": "execute_result"
    }
   ],
   "source": [
    "df_final.head()"
   ]
  },
  {
   "cell_type": "code",
   "execution_count": 19,
   "id": "beeec96c",
   "metadata": {},
   "outputs": [
    {
     "name": "stdout",
     "output_type": "stream",
     "text": [
      "<class 'pandas.core.frame.DataFrame'>\n",
      "RangeIndex: 7032 entries, 0 to 7031\n",
      "Data columns (total 24 columns):\n",
      " #   Column               Non-Null Count  Dtype   \n",
      "---  ------               --------------  -----   \n",
      " 0   customerID           7032 non-null   object  \n",
      " 1   gender               7032 non-null   int32   \n",
      " 2   SeniorCitizen        7032 non-null   int64   \n",
      " 3   Partner              7032 non-null   int32   \n",
      " 4   Dependents           7032 non-null   int32   \n",
      " 5   tenure               7032 non-null   int64   \n",
      " 6   PhoneService         7032 non-null   int32   \n",
      " 7   MultipleLines        7032 non-null   int32   \n",
      " 8   InternetService      7032 non-null   int32   \n",
      " 9   OnlineSecurity       7032 non-null   int32   \n",
      " 10  OnlineBackup         7032 non-null   int32   \n",
      " 11  DeviceProtection     7032 non-null   int32   \n",
      " 12  TechSupport          7032 non-null   int32   \n",
      " 13  StreamingTV          7032 non-null   int32   \n",
      " 14  StreamingMovies      7032 non-null   int32   \n",
      " 15  Contract             7032 non-null   int32   \n",
      " 16  PaperlessBilling     7032 non-null   int32   \n",
      " 17  PaymentMethod        7032 non-null   int32   \n",
      " 18  MonthlyCharges       7032 non-null   float64 \n",
      " 19  TotalCharges         7032 non-null   float64 \n",
      " 20  Churn                7032 non-null   int32   \n",
      " 21  Tenure_bins          7032 non-null   category\n",
      " 22  MonthlyCharges_bins  5946 non-null   category\n",
      " 23  TotalCharges_bins    7032 non-null   category\n",
      "dtypes: category(3), float64(2), int32(16), int64(2), object(1)\n",
      "memory usage: 736.3+ KB\n"
     ]
    }
   ],
   "source": [
    "df_final.info()"
   ]
  },
  {
   "cell_type": "code",
   "execution_count": 20,
   "id": "dce0e859",
   "metadata": {},
   "outputs": [
    {
     "data": {
      "text/html": [
       "<div>\n",
       "<style scoped>\n",
       "    .dataframe tbody tr th:only-of-type {\n",
       "        vertical-align: middle;\n",
       "    }\n",
       "\n",
       "    .dataframe tbody tr th {\n",
       "        vertical-align: top;\n",
       "    }\n",
       "\n",
       "    .dataframe thead th {\n",
       "        text-align: right;\n",
       "    }\n",
       "</style>\n",
       "<table border=\"1\" class=\"dataframe\">\n",
       "  <thead>\n",
       "    <tr style=\"text-align: right;\">\n",
       "      <th></th>\n",
       "      <th>customerID</th>\n",
       "      <th>gender</th>\n",
       "      <th>SeniorCitizen</th>\n",
       "      <th>Partner</th>\n",
       "      <th>Dependents</th>\n",
       "      <th>tenure</th>\n",
       "      <th>PhoneService</th>\n",
       "      <th>MultipleLines</th>\n",
       "      <th>InternetService</th>\n",
       "      <th>OnlineSecurity</th>\n",
       "      <th>OnlineBackup</th>\n",
       "      <th>DeviceProtection</th>\n",
       "      <th>TechSupport</th>\n",
       "      <th>StreamingTV</th>\n",
       "      <th>StreamingMovies</th>\n",
       "      <th>Contract</th>\n",
       "      <th>PaperlessBilling</th>\n",
       "      <th>PaymentMethod</th>\n",
       "      <th>MonthlyCharges</th>\n",
       "      <th>TotalCharges</th>\n",
       "      <th>Churn</th>\n",
       "      <th>Tenure_bins</th>\n",
       "      <th>MonthlyCharges_bins</th>\n",
       "      <th>TotalCharges_bins</th>\n",
       "    </tr>\n",
       "  </thead>\n",
       "  <tbody>\n",
       "    <tr>\n",
       "      <th>5705</th>\n",
       "      <td>6108-OQZDQ</td>\n",
       "      <td>Female</td>\n",
       "      <td>0</td>\n",
       "      <td>Yes</td>\n",
       "      <td>Yes</td>\n",
       "      <td>4</td>\n",
       "      <td>Yes</td>\n",
       "      <td>Yes</td>\n",
       "      <td>Fiber optic</td>\n",
       "      <td>No</td>\n",
       "      <td>Yes</td>\n",
       "      <td>No</td>\n",
       "      <td>No</td>\n",
       "      <td>Yes</td>\n",
       "      <td>Yes</td>\n",
       "      <td>Month-to-month</td>\n",
       "      <td>Yes</td>\n",
       "      <td>Electronic check</td>\n",
       "      <td>97.95</td>\n",
       "      <td>384.50</td>\n",
       "      <td>Yes</td>\n",
       "      <td>5</td>\n",
       "      <td>98</td>\n",
       "      <td>1000</td>\n",
       "    </tr>\n",
       "    <tr>\n",
       "      <th>6557</th>\n",
       "      <td>3795-CAWEX</td>\n",
       "      <td>Male</td>\n",
       "      <td>0</td>\n",
       "      <td>Yes</td>\n",
       "      <td>Yes</td>\n",
       "      <td>70</td>\n",
       "      <td>Yes</td>\n",
       "      <td>Yes</td>\n",
       "      <td>Fiber optic</td>\n",
       "      <td>Yes</td>\n",
       "      <td>Yes</td>\n",
       "      <td>Yes</td>\n",
       "      <td>Yes</td>\n",
       "      <td>Yes</td>\n",
       "      <td>Yes</td>\n",
       "      <td>Two year</td>\n",
       "      <td>Yes</td>\n",
       "      <td>Credit card (automatic)</td>\n",
       "      <td>116.55</td>\n",
       "      <td>8152.30</td>\n",
       "      <td>No</td>\n",
       "      <td>70</td>\n",
       "      <td>NaN</td>\n",
       "      <td>9000</td>\n",
       "    </tr>\n",
       "    <tr>\n",
       "      <th>3801</th>\n",
       "      <td>8625-AZYZY</td>\n",
       "      <td>Male</td>\n",
       "      <td>0</td>\n",
       "      <td>Yes</td>\n",
       "      <td>No</td>\n",
       "      <td>24</td>\n",
       "      <td>Yes</td>\n",
       "      <td>Yes</td>\n",
       "      <td>Fiber optic</td>\n",
       "      <td>No</td>\n",
       "      <td>Yes</td>\n",
       "      <td>Yes</td>\n",
       "      <td>No</td>\n",
       "      <td>Yes</td>\n",
       "      <td>Yes</td>\n",
       "      <td>Month-to-month</td>\n",
       "      <td>Yes</td>\n",
       "      <td>Electronic check</td>\n",
       "      <td>104.65</td>\n",
       "      <td>2542.45</td>\n",
       "      <td>Yes</td>\n",
       "      <td>25</td>\n",
       "      <td>NaN</td>\n",
       "      <td>3000</td>\n",
       "    </tr>\n",
       "    <tr>\n",
       "      <th>6750</th>\n",
       "      <td>2369-FEVNO</td>\n",
       "      <td>Male</td>\n",
       "      <td>0</td>\n",
       "      <td>No</td>\n",
       "      <td>No</td>\n",
       "      <td>1</td>\n",
       "      <td>Yes</td>\n",
       "      <td>No</td>\n",
       "      <td>No</td>\n",
       "      <td>No</td>\n",
       "      <td>No</td>\n",
       "      <td>No</td>\n",
       "      <td>No</td>\n",
       "      <td>No</td>\n",
       "      <td>No</td>\n",
       "      <td>Month-to-month</td>\n",
       "      <td>Yes</td>\n",
       "      <td>Mailed check</td>\n",
       "      <td>19.90</td>\n",
       "      <td>19.90</td>\n",
       "      <td>No</td>\n",
       "      <td>5</td>\n",
       "      <td>28</td>\n",
       "      <td>1000</td>\n",
       "    </tr>\n",
       "    <tr>\n",
       "      <th>5017</th>\n",
       "      <td>7326-RIGQZ</td>\n",
       "      <td>Male</td>\n",
       "      <td>0</td>\n",
       "      <td>Yes</td>\n",
       "      <td>Yes</td>\n",
       "      <td>6</td>\n",
       "      <td>Yes</td>\n",
       "      <td>No</td>\n",
       "      <td>Fiber optic</td>\n",
       "      <td>No</td>\n",
       "      <td>No</td>\n",
       "      <td>No</td>\n",
       "      <td>No</td>\n",
       "      <td>No</td>\n",
       "      <td>No</td>\n",
       "      <td>Month-to-month</td>\n",
       "      <td>Yes</td>\n",
       "      <td>Electronic check</td>\n",
       "      <td>69.80</td>\n",
       "      <td>377.85</td>\n",
       "      <td>No</td>\n",
       "      <td>10</td>\n",
       "      <td>78</td>\n",
       "      <td>1000</td>\n",
       "    </tr>\n",
       "  </tbody>\n",
       "</table>\n",
       "</div>"
      ],
      "text/plain": [
       "      customerID  gender  SeniorCitizen Partner Dependents  tenure   \n",
       "5705  6108-OQZDQ  Female              0     Yes        Yes       4  \\\n",
       "6557  3795-CAWEX    Male              0     Yes        Yes      70   \n",
       "3801  8625-AZYZY    Male              0     Yes         No      24   \n",
       "6750  2369-FEVNO    Male              0      No         No       1   \n",
       "5017  7326-RIGQZ    Male              0     Yes        Yes       6   \n",
       "\n",
       "     PhoneService MultipleLines InternetService OnlineSecurity OnlineBackup   \n",
       "5705          Yes           Yes     Fiber optic             No          Yes  \\\n",
       "6557          Yes           Yes     Fiber optic            Yes          Yes   \n",
       "3801          Yes           Yes     Fiber optic             No          Yes   \n",
       "6750          Yes            No              No             No           No   \n",
       "5017          Yes            No     Fiber optic             No           No   \n",
       "\n",
       "     DeviceProtection TechSupport StreamingTV StreamingMovies        Contract   \n",
       "5705               No          No         Yes             Yes  Month-to-month  \\\n",
       "6557              Yes         Yes         Yes             Yes        Two year   \n",
       "3801              Yes          No         Yes             Yes  Month-to-month   \n",
       "6750               No          No          No              No  Month-to-month   \n",
       "5017               No          No          No              No  Month-to-month   \n",
       "\n",
       "     PaperlessBilling            PaymentMethod  MonthlyCharges  TotalCharges   \n",
       "5705              Yes         Electronic check           97.95        384.50  \\\n",
       "6557              Yes  Credit card (automatic)          116.55       8152.30   \n",
       "3801              Yes         Electronic check          104.65       2542.45   \n",
       "6750              Yes             Mailed check           19.90         19.90   \n",
       "5017              Yes         Electronic check           69.80        377.85   \n",
       "\n",
       "     Churn Tenure_bins MonthlyCharges_bins TotalCharges_bins  \n",
       "5705   Yes           5                  98              1000  \n",
       "6557    No          70                 NaN              9000  \n",
       "3801   Yes          25                 NaN              3000  \n",
       "6750    No           5                  28              1000  \n",
       "5017    No          10                  78              1000  "
      ]
     },
     "execution_count": 20,
     "metadata": {},
     "output_type": "execute_result"
    }
   ],
   "source": [
    "df.sample(5)"
   ]
  },
  {
   "cell_type": "markdown",
   "id": "6a1e8f13",
   "metadata": {},
   "source": [
    "# 7.0 Train Test Split\n",
    "<a id='TrainTestSplit'></a>"
   ]
  },
  {
   "cell_type": "code",
   "execution_count": 21,
   "id": "8a9034f7",
   "metadata": {},
   "outputs": [],
   "source": [
    "X = df_final.drop(['Churn','customerID','MonthlyCharges_bins','TotalCharges_bins','Tenure_bins'], axis=1).copy()\n",
    "y = df_final['Churn'].copy()\n",
    "X_train, X_test, y_train, y_test = train_test_split(X, y, random_state=42)"
   ]
  },
  {
   "cell_type": "markdown",
   "id": "c423ae62",
   "metadata": {},
   "source": [
    "# 8.0 Base Models\n",
    "<a id='BaseModels'></a>"
   ]
  },
  {
   "cell_type": "code",
   "execution_count": 22,
   "id": "923cd7e8",
   "metadata": {},
   "outputs": [],
   "source": [
    "models = []\n",
    "acc_lst = []\n",
    "prec_lst = []\n",
    "recall_lst = []\n",
    "f1_lst = []"
   ]
  },
  {
   "cell_type": "markdown",
   "id": "12472f22",
   "metadata": {},
   "source": [
    "## 8.1 Random Forest"
   ]
  },
  {
   "cell_type": "code",
   "execution_count": 23,
   "id": "7612d64e",
   "metadata": {},
   "outputs": [
    {
     "name": "stdout",
     "output_type": "stream",
     "text": [
      "Accuracy: 0.7838\n",
      "Precision: 0.6154\n",
      "Recall: 0.4541\n",
      "F1: 0.5226\n",
      "\n",
      "              precision    recall  f1-score   support\n",
      "\n",
      "           0       0.82      0.90      0.86      1300\n",
      "           1       0.62      0.45      0.52       458\n",
      "\n",
      "    accuracy                           0.78      1758\n",
      "   macro avg       0.72      0.68      0.69      1758\n",
      "weighted avg       0.77      0.78      0.77      1758\n",
      "\n"
     ]
    }
   ],
   "source": [
    "clf=RandomForestClassifier(n_estimators=100, class_weight={0:1,1:3})\n",
    "clf_fit = clf.fit(X_train,y_train)\n",
    "y_pred=clf.predict(X_test)\n",
    "\n",
    "models.append(\"Random Forest\")\n",
    "acc_lst.append(accuracy_score(y_test, y_pred))\n",
    "prec_lst.append(precision_score(y_test, y_pred))\n",
    "recall_lst.append(recall_score(y_test, y_pred))\n",
    "f1_lst.append(f1_score(y_test, y_pred))\n",
    "\n",
    "\n",
    "print(\"Accuracy:\", float(format(accuracy_score(y_test, y_pred), '.4f')))\n",
    "print(\"Precision:\", float(format(precision_score(y_test, y_pred), '.4f')))\n",
    "print(\"Recall:\", float(format(recall_score(y_test, y_pred), '.4f')))\n",
    "print(\"F1:\", float(format(f1_score(y_test, y_pred), '.4f')))\n",
    "print('')\n",
    "print(classification_report(y_test, y_pred))"
   ]
  },
  {
   "cell_type": "code",
   "execution_count": 24,
   "id": "6f0a915a",
   "metadata": {},
   "outputs": [
    {
     "data": {
      "image/png": "[encoded data removed]",
      "text/plain": [
       "<Figure size 640x480 with 2 Axes>"
      ]
     },
     "metadata": {},
     "output_type": "display_data"
    }
   ],
   "source": [
    "cm = confusion_matrix(y_test, y_pred,labels=clf.classes_)\n",
    "disp = ConfusionMatrixDisplay(confusion_matrix=cm, display_labels=['No Churn', 'Churn'])\n",
    "disp.plot()\n",
    "plt.show()"
   ]
  },
  {
   "cell_type": "markdown",
   "id": "8159d500",
   "metadata": {},
   "source": [
    "## 8.2 XGBoost"
   ]
  },
  {
   "cell_type": "code",
   "execution_count": 25,
   "id": "6a288372",
   "metadata": {},
   "outputs": [
    {
     "name": "stdout",
     "output_type": "stream",
     "text": [
      "Accuracy: 0.7685\n",
      "Precision: 0.5642\n",
      "Recall: 0.4891\n",
      "F1: 0.524\n",
      "\n",
      "              precision    recall  f1-score   support\n",
      "\n",
      "           0       0.83      0.87      0.85      1300\n",
      "           1       0.56      0.49      0.52       458\n",
      "\n",
      "    accuracy                           0.77      1758\n",
      "   macro avg       0.70      0.68      0.69      1758\n",
      "weighted avg       0.76      0.77      0.76      1758\n",
      "\n"
     ]
    }
   ],
   "source": [
    "xgb = XGBClassifier()\n",
    "xgb_fit = xgb.fit(X_train, y_train)\n",
    "y_pred = xgb.predict(X_test)\n",
    "\n",
    "\n",
    "models.append(\"XGBoost\")\n",
    "acc_lst.append(accuracy_score(y_test, y_pred))\n",
    "prec_lst.append(precision_score(y_test, y_pred))\n",
    "recall_lst.append(recall_score(y_test, y_pred))\n",
    "f1_lst.append(f1_score(y_test, y_pred))\n",
    "\n",
    "print(\"Accuracy:\", float(format(accuracy_score(y_test, y_pred), '.4f')))\n",
    "print(\"Precision:\", float(format(precision_score(y_test, y_pred), '.4f')))\n",
    "print(\"Recall:\", float(format(recall_score(y_test, y_pred), '.4f')))\n",
    "print(\"F1:\", float(format(f1_score(y_test, y_pred), '.4f')))\n",
    "\n",
    "print('')\n",
    "print(classification_report(y_test, y_pred))"
   ]
  },
  {
   "cell_type": "code",
   "execution_count": 26,
   "id": "ab080066",
   "metadata": {},
   "outputs": [
    {
     "data": {
      "image/png": "[encoded data removed]",
      "text/plain": [
       "<Figure size 640x480 with 2 Axes>"
      ]
     },
     "metadata": {},
     "output_type": "display_data"
    }
   ],
   "source": [
    "cm = confusion_matrix(y_test, y_pred,labels=xgb.classes_)\n",
    "disp = ConfusionMatrixDisplay(confusion_matrix=cm, display_labels=['No Churn', 'Churn'])\n",
    "disp.plot()\n",
    "plt.show()"
   ]
  },
  {
   "cell_type": "markdown",
   "id": "da1458f4",
   "metadata": {},
   "source": [
    "## 8.3 Light GBM"
   ]
  },
  {
   "cell_type": "code",
   "execution_count": 27,
   "id": "95897e39",
   "metadata": {},
   "outputs": [
    {
     "name": "stdout",
     "output_type": "stream",
     "text": [
      "Accuracy: 0.7361\n",
      "Precision: 0.4956\n",
      "Recall: 0.7402\n",
      "F1: 0.5937\n",
      "\n",
      "              precision    recall  f1-score   support\n",
      "\n",
      "           0       0.89      0.73      0.80      1300\n",
      "           1       0.50      0.74      0.59       458\n",
      "\n",
      "    accuracy                           0.74      1758\n",
      "   macro avg       0.69      0.74      0.70      1758\n",
      "weighted avg       0.79      0.74      0.75      1758\n",
      "\n"
     ]
    },
    {
     "name": "stderr",
     "output_type": "stream",
     "text": [
      "C:\\Users\\Aris Pitias\\anaconda3\\envs\\My_general_env\\lib\\site-packages\\lightgbm\\sklearn.py:736: UserWarning: 'verbose' argument is deprecated and will be removed in a future release of LightGBM. Pass 'log_evaluation()' callback via 'callbacks' argument instead.\n",
      "  _log_warning(\"'verbose' argument is deprecated and will be removed in a future release of LightGBM. \"\n"
     ]
    }
   ],
   "source": [
    "lgbs = lgbz.LGBMClassifier(learning_rate=0.09,max_depth=-5,scale_pos_weight =3, random_state=42, objective = 'binary')\n",
    "lgb_fit = lgbs.fit(X_train,y_train,eval_set=[(X_test,y_test),(X_train,y_train)],\n",
    "          verbose=-1,eval_metric='logloss')\n",
    "y_pred = lgbs.predict(X_test)\n",
    "\n",
    "models.append(\"LightGBM\")\n",
    "acc_lst.append(accuracy_score(y_test, y_pred))\n",
    "prec_lst.append(precision_score(y_test, y_pred))\n",
    "recall_lst.append(recall_score(y_test, y_pred))\n",
    "f1_lst.append(f1_score(y_test, y_pred))\n",
    "\n",
    "print(\"Accuracy:\", float(format(accuracy_score(y_test, y_pred), '.4f')))\n",
    "print(\"Precision:\", float(format(precision_score(y_test, y_pred), '.4f')))\n",
    "print(\"Recall:\", float(format(recall_score(y_test, y_pred), '.4f')))\n",
    "print(\"F1:\", float(format(f1_score(y_test, y_pred), '.4f')))\n",
    "\n",
    "print('')\n",
    "print(classification_report(y_test, y_pred))\n",
    "\n",
    "#print('Training accuracy {:.4f}'.format(lgbs.score(X_train,y_train)))\n",
    "#print('Testing accuracy {:.4f}'.format(lgbs.score(X_test,y_test)))"
   ]
  },
  {
   "cell_type": "code",
   "execution_count": 28,
   "id": "dba7c227",
   "metadata": {},
   "outputs": [
    {
     "data": {
      "image/png": "[encoded data removed]",
      "text/plain": [
       "<Figure size 640x480 with 2 Axes>"
      ]
     },
     "metadata": {},
     "output_type": "display_data"
    }
   ],
   "source": [
    "cm = confusion_matrix(y_test, y_pred,labels=lgbs.classes_)\n",
    "disp = ConfusionMatrixDisplay(confusion_matrix=cm, display_labels=['No Churn', 'Churn'])\n",
    "disp.plot()\n",
    "plt.show()"
   ]
  },
  {
   "cell_type": "markdown",
   "id": "f4ee8728",
   "metadata": {},
   "source": [
    "## 8.4 Model Results"
   ]
  },
  {
   "cell_type": "code",
   "execution_count": 29,
   "id": "e3ab5985",
   "metadata": {},
   "outputs": [],
   "source": [
    "data = {'models': models,\n",
    "        'accuracy': acc_lst,\n",
    "        'precision': prec_lst,\n",
    "        'recall': recall_lst,\n",
    "        'f1': f1_lst\n",
    "        }\n",
    "\n",
    "df_result_sum = pd.DataFrame(data)"
   ]
  },
  {
   "cell_type": "code",
   "execution_count": 30,
   "id": "0f5f0d82",
   "metadata": {},
   "outputs": [
    {
     "data": {
      "text/html": [
       "<div>\n",
       "<style scoped>\n",
       "    .dataframe tbody tr th:only-of-type {\n",
       "        vertical-align: middle;\n",
       "    }\n",
       "\n",
       "    .dataframe tbody tr th {\n",
       "        vertical-align: top;\n",
       "    }\n",
       "\n",
       "    .dataframe thead th {\n",
       "        text-align: right;\n",
       "    }\n",
       "</style>\n",
       "<table border=\"1\" class=\"dataframe\">\n",
       "  <thead>\n",
       "    <tr style=\"text-align: right;\">\n",
       "      <th></th>\n",
       "      <th>models</th>\n",
       "      <th>accuracy</th>\n",
       "      <th>precision</th>\n",
       "      <th>recall</th>\n",
       "      <th>f1</th>\n",
       "    </tr>\n",
       "  </thead>\n",
       "  <tbody>\n",
       "    <tr>\n",
       "      <th>0</th>\n",
       "      <td>Random Forest</td>\n",
       "      <td>0.783845</td>\n",
       "      <td>0.615385</td>\n",
       "      <td>0.454148</td>\n",
       "      <td>0.522613</td>\n",
       "    </tr>\n",
       "    <tr>\n",
       "      <th>1</th>\n",
       "      <td>XGBoost</td>\n",
       "      <td>0.768487</td>\n",
       "      <td>0.564232</td>\n",
       "      <td>0.489083</td>\n",
       "      <td>0.523977</td>\n",
       "    </tr>\n",
       "    <tr>\n",
       "      <th>2</th>\n",
       "      <td>LightGBM</td>\n",
       "      <td>0.736064</td>\n",
       "      <td>0.495614</td>\n",
       "      <td>0.740175</td>\n",
       "      <td>0.593695</td>\n",
       "    </tr>\n",
       "  </tbody>\n",
       "</table>\n",
       "</div>"
      ],
      "text/plain": [
       "          models  accuracy  precision    recall        f1\n",
       "0  Random Forest  0.783845   0.615385  0.454148  0.522613\n",
       "1        XGBoost  0.768487   0.564232  0.489083  0.523977\n",
       "2       LightGBM  0.736064   0.495614  0.740175  0.593695"
      ]
     },
     "execution_count": 30,
     "metadata": {},
     "output_type": "execute_result"
    }
   ],
   "source": [
    "df_result_sum"
   ]
  },
  {
   "cell_type": "markdown",
   "id": "0f59fd3a",
   "metadata": {},
   "source": [
    "* We can observe that **score is quite bad especially recall scores**.\n",
    "* This tells us that **model are missing a lot of actual churned users**.\n",
    "* This is most likely due to the imblaanced dataset of having only 26% of churned user data."
   ]
  },
  {
   "cell_type": "markdown",
   "id": "9ea699da",
   "metadata": {},
   "source": [
    "## 8.5 Feature Importance"
   ]
  },
  {
   "cell_type": "code",
   "execution_count": 31,
   "id": "e4643d00",
   "metadata": {},
   "outputs": [
    {
     "data": {
      "text/html": [
       "<div>\n",
       "<style scoped>\n",
       "    .dataframe tbody tr th:only-of-type {\n",
       "        vertical-align: middle;\n",
       "    }\n",
       "\n",
       "    .dataframe tbody tr th {\n",
       "        vertical-align: top;\n",
       "    }\n",
       "\n",
       "    .dataframe thead th {\n",
       "        text-align: right;\n",
       "    }\n",
       "</style>\n",
       "<table border=\"1\" class=\"dataframe\">\n",
       "  <thead>\n",
       "    <tr style=\"text-align: right;\">\n",
       "      <th></th>\n",
       "      <th>feature_names</th>\n",
       "      <th>clf_impt_rank</th>\n",
       "      <th>xgb_impt_rank</th>\n",
       "      <th>lgb_impt_rank</th>\n",
       "      <th>score</th>\n",
       "      <th>overall_rank</th>\n",
       "    </tr>\n",
       "  </thead>\n",
       "  <tbody>\n",
       "    <tr>\n",
       "      <th>17</th>\n",
       "      <td>MonthlyCharges</td>\n",
       "      <td>1.0</td>\n",
       "      <td>6.0</td>\n",
       "      <td>1.0</td>\n",
       "      <td>8.0</td>\n",
       "      <td>1.0</td>\n",
       "    </tr>\n",
       "    <tr>\n",
       "      <th>4</th>\n",
       "      <td>tenure</td>\n",
       "      <td>3.0</td>\n",
       "      <td>3.0</td>\n",
       "      <td>3.0</td>\n",
       "      <td>9.0</td>\n",
       "      <td>2.0</td>\n",
       "    </tr>\n",
       "    <tr>\n",
       "      <th>14</th>\n",
       "      <td>Contract</td>\n",
       "      <td>4.0</td>\n",
       "      <td>1.0</td>\n",
       "      <td>6.0</td>\n",
       "      <td>11.0</td>\n",
       "      <td>3.0</td>\n",
       "    </tr>\n",
       "    <tr>\n",
       "      <th>18</th>\n",
       "      <td>TotalCharges</td>\n",
       "      <td>2.0</td>\n",
       "      <td>8.0</td>\n",
       "      <td>2.0</td>\n",
       "      <td>12.0</td>\n",
       "      <td>4.0</td>\n",
       "    </tr>\n",
       "    <tr>\n",
       "      <th>16</th>\n",
       "      <td>PaymentMethod</td>\n",
       "      <td>5.0</td>\n",
       "      <td>10.0</td>\n",
       "      <td>4.0</td>\n",
       "      <td>19.0</td>\n",
       "      <td>5.0</td>\n",
       "    </tr>\n",
       "    <tr>\n",
       "      <th>8</th>\n",
       "      <td>OnlineSecurity</td>\n",
       "      <td>7.0</td>\n",
       "      <td>5.0</td>\n",
       "      <td>8.0</td>\n",
       "      <td>20.0</td>\n",
       "      <td>6.0</td>\n",
       "    </tr>\n",
       "    <tr>\n",
       "      <th>7</th>\n",
       "      <td>InternetService</td>\n",
       "      <td>6.0</td>\n",
       "      <td>2.0</td>\n",
       "      <td>13.0</td>\n",
       "      <td>21.0</td>\n",
       "      <td>7.0</td>\n",
       "    </tr>\n",
       "    <tr>\n",
       "      <th>15</th>\n",
       "      <td>PaperlessBilling</td>\n",
       "      <td>8.0</td>\n",
       "      <td>8.0</td>\n",
       "      <td>7.0</td>\n",
       "      <td>23.0</td>\n",
       "      <td>8.0</td>\n",
       "    </tr>\n",
       "    <tr>\n",
       "      <th>11</th>\n",
       "      <td>TechSupport</td>\n",
       "      <td>10.0</td>\n",
       "      <td>6.0</td>\n",
       "      <td>8.0</td>\n",
       "      <td>24.0</td>\n",
       "      <td>9.0</td>\n",
       "    </tr>\n",
       "    <tr>\n",
       "      <th>0</th>\n",
       "      <td>gender</td>\n",
       "      <td>9.0</td>\n",
       "      <td>11.0</td>\n",
       "      <td>5.0</td>\n",
       "      <td>25.0</td>\n",
       "      <td>10.0</td>\n",
       "    </tr>\n",
       "    <tr>\n",
       "      <th>1</th>\n",
       "      <td>SeniorCitizen</td>\n",
       "      <td>13.0</td>\n",
       "      <td>7.0</td>\n",
       "      <td>9.0</td>\n",
       "      <td>29.0</td>\n",
       "      <td>11.0</td>\n",
       "    </tr>\n",
       "    <tr>\n",
       "      <th>5</th>\n",
       "      <td>PhoneService</td>\n",
       "      <td>16.0</td>\n",
       "      <td>4.0</td>\n",
       "      <td>16.0</td>\n",
       "      <td>36.0</td>\n",
       "      <td>12.0</td>\n",
       "    </tr>\n",
       "    <tr>\n",
       "      <th>3</th>\n",
       "      <td>Dependents</td>\n",
       "      <td>12.0</td>\n",
       "      <td>12.0</td>\n",
       "      <td>12.0</td>\n",
       "      <td>36.0</td>\n",
       "      <td>12.0</td>\n",
       "    </tr>\n",
       "    <tr>\n",
       "      <th>6</th>\n",
       "      <td>MultipleLines</td>\n",
       "      <td>13.0</td>\n",
       "      <td>13.0</td>\n",
       "      <td>11.0</td>\n",
       "      <td>37.0</td>\n",
       "      <td>13.0</td>\n",
       "    </tr>\n",
       "    <tr>\n",
       "      <th>9</th>\n",
       "      <td>OnlineBackup</td>\n",
       "      <td>13.0</td>\n",
       "      <td>14.0</td>\n",
       "      <td>10.0</td>\n",
       "      <td>37.0</td>\n",
       "      <td>13.0</td>\n",
       "    </tr>\n",
       "    <tr>\n",
       "      <th>12</th>\n",
       "      <td>StreamingTV</td>\n",
       "      <td>15.0</td>\n",
       "      <td>9.0</td>\n",
       "      <td>14.0</td>\n",
       "      <td>38.0</td>\n",
       "      <td>14.0</td>\n",
       "    </tr>\n",
       "    <tr>\n",
       "      <th>2</th>\n",
       "      <td>Partner</td>\n",
       "      <td>11.0</td>\n",
       "      <td>15.0</td>\n",
       "      <td>14.0</td>\n",
       "      <td>40.0</td>\n",
       "      <td>15.0</td>\n",
       "    </tr>\n",
       "    <tr>\n",
       "      <th>13</th>\n",
       "      <td>StreamingMovies</td>\n",
       "      <td>14.0</td>\n",
       "      <td>11.0</td>\n",
       "      <td>17.0</td>\n",
       "      <td>42.0</td>\n",
       "      <td>16.0</td>\n",
       "    </tr>\n",
       "    <tr>\n",
       "      <th>10</th>\n",
       "      <td>DeviceProtection</td>\n",
       "      <td>14.0</td>\n",
       "      <td>15.0</td>\n",
       "      <td>15.0</td>\n",
       "      <td>44.0</td>\n",
       "      <td>17.0</td>\n",
       "    </tr>\n",
       "  </tbody>\n",
       "</table>\n",
       "</div>"
      ],
      "text/plain": [
       "       feature_names  clf_impt_rank  xgb_impt_rank  lgb_impt_rank  score   \n",
       "17    MonthlyCharges            1.0            6.0            1.0    8.0  \\\n",
       "4             tenure            3.0            3.0            3.0    9.0   \n",
       "14          Contract            4.0            1.0            6.0   11.0   \n",
       "18      TotalCharges            2.0            8.0            2.0   12.0   \n",
       "16     PaymentMethod            5.0           10.0            4.0   19.0   \n",
       "8     OnlineSecurity            7.0            5.0            8.0   20.0   \n",
       "7    InternetService            6.0            2.0           13.0   21.0   \n",
       "15  PaperlessBilling            8.0            8.0            7.0   23.0   \n",
       "11       TechSupport           10.0            6.0            8.0   24.0   \n",
       "0             gender            9.0           11.0            5.0   25.0   \n",
       "1      SeniorCitizen           13.0            7.0            9.0   29.0   \n",
       "5       PhoneService           16.0            4.0           16.0   36.0   \n",
       "3         Dependents           12.0           12.0           12.0   36.0   \n",
       "6      MultipleLines           13.0           13.0           11.0   37.0   \n",
       "9       OnlineBackup           13.0           14.0           10.0   37.0   \n",
       "12       StreamingTV           15.0            9.0           14.0   38.0   \n",
       "2            Partner           11.0           15.0           14.0   40.0   \n",
       "13   StreamingMovies           14.0           11.0           17.0   42.0   \n",
       "10  DeviceProtection           14.0           15.0           15.0   44.0   \n",
       "\n",
       "    overall_rank  \n",
       "17           1.0  \n",
       "4            2.0  \n",
       "14           3.0  \n",
       "18           4.0  \n",
       "16           5.0  \n",
       "8            6.0  \n",
       "7            7.0  \n",
       "15           8.0  \n",
       "11           9.0  \n",
       "0           10.0  \n",
       "1           11.0  \n",
       "5           12.0  \n",
       "3           12.0  \n",
       "6           13.0  \n",
       "9           13.0  \n",
       "12          14.0  \n",
       "2           15.0  \n",
       "13          16.0  \n",
       "10          17.0  "
      ]
     },
     "execution_count": 31,
     "metadata": {},
     "output_type": "execute_result"
    }
   ],
   "source": [
    "# clf importance\n",
    "clf_importance = clf.feature_importances_\n",
    "clf_names = clf.feature_names_in_\n",
    "\n",
    "clf_import_df = pd.DataFrame({\"feature_names\" : clf_names, \n",
    "                               \"clf_importances\" : clf_importance.round(3)})\n",
    "clf_import_df['clf_impt_rank'] = clf_import_df['clf_importances'].rank(method='dense', ascending=False)\n",
    "\n",
    "# xgb importance\n",
    "xgb_importance = xgb.feature_importances_\n",
    "xgb_names = xgb.feature_names_in_\n",
    "\n",
    "xgb_import_df = pd.DataFrame({\"feature_names\" : xgb_names, \n",
    "                               \"xgb_importances\" : xgb_importance.round(3)})\n",
    "xgb_import_df['xgb_impt_rank'] = xgb_import_df['xgb_importances'].rank(method='dense', ascending=False)\n",
    "\n",
    "# lgb importance\n",
    "lgb_importance = lgbs.feature_importances_\n",
    "boost = lgbs.booster_\n",
    "lgb_names = boost.feature_name()\n",
    "\n",
    "lgb_import_df = pd.DataFrame({\"feature_names\" : lgb_names, \n",
    "                               \"lgb_importances\" : lgb_importance.round(3)})\n",
    "lgb_import_df['lgb_impt_rank'] = lgb_import_df['lgb_importances'].rank(method='dense', ascending=False)\n",
    "\n",
    "\n",
    "# combine all importance score\n",
    "final_import1 = pd.merge(clf_import_df, xgb_import_df, on='feature_names', how='inner')\n",
    "final_import2 = pd.merge(final_import1, lgb_import_df, on='feature_names', how='inner')\n",
    "#final_import2[['feature_names', 'clf_impt_rank', 'xgb_impt_rank', 'lgb_impt_rank']]\n",
    "\n",
    "# compute overall ranking\n",
    "final_import2['score'] = final_import2['clf_impt_rank'] + final_import2['xgb_impt_rank'] + final_import2['lgb_impt_rank']\n",
    "final_import2['overall_rank'] = final_import2['score'].rank(method='dense', ascending=True)\n",
    "final_import2[['feature_names', 'clf_impt_rank', 'xgb_impt_rank', 'lgb_impt_rank','score', 'overall_rank']].sort_values(by = 'overall_rank', ascending=True)\n",
    "#plot_importance(lgbs, figsize=(10, 9));"
   ]
  },
  {
   "cell_type": "markdown",
   "id": "376a9fb5",
   "metadata": {},
   "source": [
    "* We can see that our **numerical features are the top 3 most impactful** based on feature importance across all 3 models. \n",
    "* We can also observed that **XGB model ranking is quite different as compared to LGB and RT Model**. As it ranks TotalCharges and Monthyl charges quite low while they score well in the other models"
   ]
  },
  {
   "cell_type": "markdown",
   "id": "87dfcb8f",
   "metadata": {},
   "source": [
    "# 9.0 Over Sampling\n",
    "<a id='OverSampling'></a>"
   ]
  },
  {
   "cell_type": "markdown",
   "id": "140ad266",
   "metadata": {},
   "source": [
    "* As our dataset is imbalanced where only 26% of the dataset are churned users, we can use **Over Sampling Technique to try to solve this**.\n",
    "* In this case we will use the **simplest oversampling method involves randomly duplicating examples from the minority class in the training dataset**."
   ]
  },
  {
   "cell_type": "code",
   "execution_count": 32,
   "id": "289a6f63",
   "metadata": {},
   "outputs": [
    {
     "name": "stdout",
     "output_type": "stream",
     "text": [
      "(7032, 24)\n",
      "Churns: 1869 (26.6%)\n",
      "No Churns: 5163 (73.4%)\n"
     ]
    }
   ],
   "source": [
    "churns = len(df_final.loc[df_final['Churn'] == 1])\n",
    "no_churns = len(df_final.loc[df_final['Churn'] == 0])\n",
    "churns_perc = round(len(df_final.loc[df_final['Churn'] == 1])/len(df_final)*100,1)\n",
    "no_churns_perc = round(len(df_final.loc[df_final['Churn'] == 0])/len(df_final)*100,1)\n",
    "\n",
    "print(df_final.shape)\n",
    "print('Churns: {} ({}%)'.format(churns, churns_perc))\n",
    "print('No Churns: {} ({}%)'.format(no_churns, no_churns_perc))\n",
    "#df.isnull().sum()"
   ]
  },
  {
   "cell_type": "code",
   "execution_count": 33,
   "id": "d4cb82f6",
   "metadata": {},
   "outputs": [],
   "source": [
    "# implementing random over sampling\n",
    "ros = RandomOverSampler(sampling_strategy=\"not majority\") \n",
    "x_res, y_res = ros.fit_resample(X,y)"
   ]
  },
  {
   "cell_type": "code",
   "execution_count": 34,
   "id": "f3bfeed2",
   "metadata": {},
   "outputs": [
    {
     "name": "stdout",
     "output_type": "stream",
     "text": [
      "(10326, 19)\n",
      "(10326,)\n",
      "Churns: 5163 (50.0%)\n",
      "No Churns: 5163 (50.0%)\n"
     ]
    }
   ],
   "source": [
    "churns = len(y_res[y_res == 1])\n",
    "no_churns = len(y_res[y_res == 0])\n",
    "churns_perc = round(len(y_res[y_res == 1])/len(y_res)*100,1)\n",
    "no_churns_perc = round(len(y_res[y_res == 0])/len(y_res)*100,1)\n",
    "\n",
    "print(x_res.shape)\n",
    "print(y_res.shape)\n",
    "print('Churns: {} ({}%)'.format(churns, churns_perc))\n",
    "print('No Churns: {} ({}%)'.format(no_churns, no_churns_perc))"
   ]
  },
  {
   "cell_type": "markdown",
   "id": "140c713b",
   "metadata": {},
   "source": [
    "* After doing random over sampling, **we can observe that the dataset have become balanced of 50/50.**"
   ]
  },
  {
   "cell_type": "markdown",
   "id": "f46473a7",
   "metadata": {},
   "source": [
    "## 9.1 Train Test Split Over Sampled Dataset"
   ]
  },
  {
   "cell_type": "code",
   "execution_count": 35,
   "id": "cdb2fa59",
   "metadata": {},
   "outputs": [],
   "source": [
    "X_train, X_test, y_train, y_test = train_test_split(x_res, y_res, random_state=42)"
   ]
  },
  {
   "cell_type": "markdown",
   "id": "ad8b1992",
   "metadata": {},
   "source": [
    "## 9.2 Random Forest\n"
   ]
  },
  {
   "cell_type": "code",
   "execution_count": 36,
   "id": "6a846800",
   "metadata": {},
   "outputs": [
    {
     "name": "stdout",
     "output_type": "stream",
     "text": [
      "Accuracy: 0.8927\n",
      "Precision: 0.8542\n",
      "Recall: 0.9444\n",
      "F1: 0.8971\n",
      "              precision    recall  f1-score   support\n",
      "\n",
      "           0       0.94      0.84      0.89      1304\n",
      "           1       0.85      0.94      0.90      1278\n",
      "\n",
      "    accuracy                           0.89      2582\n",
      "   macro avg       0.90      0.89      0.89      2582\n",
      "weighted avg       0.90      0.89      0.89      2582\n",
      "\n"
     ]
    }
   ],
   "source": [
    "clf = RandomForestClassifier(n_estimators=100, class_weight={0:1,1:3})\n",
    "clf_fit = clf.fit(X_train,y_train)\n",
    "y_pred=clf.predict(X_test)\n",
    "\n",
    "models.append(\"Random Forest (OS)\")\n",
    "acc_lst.append(accuracy_score(y_test, y_pred))\n",
    "prec_lst.append(precision_score(y_test, y_pred))\n",
    "recall_lst.append(recall_score(y_test, y_pred))\n",
    "f1_lst.append(f1_score(y_test, y_pred))\n",
    "\n",
    "print(\"Accuracy:\", float(format(accuracy_score(y_test, y_pred), '.4f')))\n",
    "print(\"Precision:\", float(format(precision_score(y_test, y_pred), '.4f')))\n",
    "print(\"Recall:\", float(format(recall_score(y_test, y_pred), '.4f')))\n",
    "print(\"F1:\", float(format(f1_score(y_test, y_pred), '.4f')))\n",
    "\n",
    "print(classification_report(y_test, y_pred))\n"
   ]
  },
  {
   "cell_type": "markdown",
   "id": "f72d5a52",
   "metadata": {},
   "source": [
    "## 9.3 XG Boost"
   ]
  },
  {
   "cell_type": "code",
   "execution_count": 38,
   "id": "180e23a0",
   "metadata": {},
   "outputs": [
    {
     "name": "stdout",
     "output_type": "stream",
     "text": [
      "Accuracy: 0.8466\n",
      "Precision: 0.8004\n",
      "Recall: 0.9194\n",
      "F1: 0.8558\n",
      "              precision    recall  f1-score   support\n",
      "\n",
      "           0       0.91      0.78      0.84      1304\n",
      "           1       0.80      0.92      0.86      1278\n",
      "\n",
      "    accuracy                           0.85      2582\n",
      "   macro avg       0.85      0.85      0.85      2582\n",
      "weighted avg       0.85      0.85      0.85      2582\n",
      "\n"
     ]
    }
   ],
   "source": [
    "xgb = XGBClassifier()\n",
    "xgb_fit = xgb.fit(X_train, y_train)\n",
    "y_pred = xgb.predict(X_test)\n",
    "\n",
    "\n",
    "models.append(\"XGBoost (OS)\")\n",
    "acc_lst.append(accuracy_score(y_test, y_pred))\n",
    "prec_lst.append(precision_score(y_test, y_pred))\n",
    "recall_lst.append(recall_score(y_test, y_pred))\n",
    "f1_lst.append(f1_score(y_test, y_pred))\n",
    "\n",
    "print(\"Accuracy:\", float(format(accuracy_score(y_test, y_pred), '.4f')))\n",
    "print(\"Precision:\", float(format(precision_score(y_test, y_pred), '.4f')))\n",
    "print(\"Recall:\", float(format(recall_score(y_test, y_pred), '.4f')))\n",
    "print(\"F1:\", float(format(f1_score(y_test, y_pred), '.4f')))\n",
    "\n",
    "print(classification_report(y_test, y_pred))"
   ]
  },
  {
   "cell_type": "markdown",
   "id": "a4cc8179",
   "metadata": {},
   "source": [
    "## 9.4 Light GMB"
   ]
  },
  {
   "cell_type": "markdown",
   "id": "ff4bf3e5",
   "metadata": {},
   "source": [
    "## 9.5 Model Results (Initial Dataset vs Over Sample Dataset)"
   ]
  },
  {
   "cell_type": "code",
   "execution_count": 39,
   "id": "2b3f5db7",
   "metadata": {},
   "outputs": [
    {
     "data": {
      "text/html": [
       "<div>\n",
       "<style scoped>\n",
       "    .dataframe tbody tr th:only-of-type {\n",
       "        vertical-align: middle;\n",
       "    }\n",
       "\n",
       "    .dataframe tbody tr th {\n",
       "        vertical-align: top;\n",
       "    }\n",
       "\n",
       "    .dataframe thead th {\n",
       "        text-align: right;\n",
       "    }\n",
       "</style>\n",
       "<table border=\"1\" class=\"dataframe\">\n",
       "  <thead>\n",
       "    <tr style=\"text-align: right;\">\n",
       "      <th></th>\n",
       "      <th>models</th>\n",
       "      <th>accuracy</th>\n",
       "      <th>precision</th>\n",
       "      <th>recall</th>\n",
       "      <th>f1</th>\n",
       "    </tr>\n",
       "  </thead>\n",
       "  <tbody>\n",
       "    <tr>\n",
       "      <th>0</th>\n",
       "      <td>Random Forest</td>\n",
       "      <td>0.783845</td>\n",
       "      <td>0.615385</td>\n",
       "      <td>0.454148</td>\n",
       "      <td>0.522613</td>\n",
       "    </tr>\n",
       "    <tr>\n",
       "      <th>1</th>\n",
       "      <td>XGBoost</td>\n",
       "      <td>0.768487</td>\n",
       "      <td>0.564232</td>\n",
       "      <td>0.489083</td>\n",
       "      <td>0.523977</td>\n",
       "    </tr>\n",
       "    <tr>\n",
       "      <th>2</th>\n",
       "      <td>LightGBM</td>\n",
       "      <td>0.736064</td>\n",
       "      <td>0.495614</td>\n",
       "      <td>0.740175</td>\n",
       "      <td>0.593695</td>\n",
       "    </tr>\n",
       "    <tr>\n",
       "      <th>3</th>\n",
       "      <td>Random Forest (OS)</td>\n",
       "      <td>0.892719</td>\n",
       "      <td>0.854211</td>\n",
       "      <td>0.944444</td>\n",
       "      <td>0.897064</td>\n",
       "    </tr>\n",
       "    <tr>\n",
       "      <th>4</th>\n",
       "      <td>XGBoost (OS)</td>\n",
       "      <td>0.846631</td>\n",
       "      <td>0.800409</td>\n",
       "      <td>0.919405</td>\n",
       "      <td>0.855790</td>\n",
       "    </tr>\n",
       "  </tbody>\n",
       "</table>\n",
       "</div>"
      ],
      "text/plain": [
       "               models  accuracy  precision    recall        f1\n",
       "0       Random Forest  0.783845   0.615385  0.454148  0.522613\n",
       "1             XGBoost  0.768487   0.564232  0.489083  0.523977\n",
       "2            LightGBM  0.736064   0.495614  0.740175  0.593695\n",
       "3  Random Forest (OS)  0.892719   0.854211  0.944444  0.897064\n",
       "4        XGBoost (OS)  0.846631   0.800409  0.919405  0.855790"
      ]
     },
     "execution_count": 39,
     "metadata": {},
     "output_type": "execute_result"
    }
   ],
   "source": [
    "data = {'models': models,\n",
    "        'accuracy': acc_lst,\n",
    "        'precision': prec_lst,\n",
    "        'recall': recall_lst,\n",
    "        'f1': f1_lst\n",
    "        }\n",
    "\n",
    "df_result_sum = pd.DataFrame(data)\n",
    "df_result_sum"
   ]
  },
  {
   "cell_type": "markdown",
   "id": "1ce37331",
   "metadata": {},
   "source": [
    "## 9.6 Feature Importance"
   ]
  },
  {
   "cell_type": "code",
   "execution_count": 40,
   "id": "57e5880b",
   "metadata": {},
   "outputs": [
    {
     "data": {
      "text/html": [
       "<div>\n",
       "<style scoped>\n",
       "    .dataframe tbody tr th:only-of-type {\n",
       "        vertical-align: middle;\n",
       "    }\n",
       "\n",
       "    .dataframe tbody tr th {\n",
       "        vertical-align: top;\n",
       "    }\n",
       "\n",
       "    .dataframe thead th {\n",
       "        text-align: right;\n",
       "    }\n",
       "</style>\n",
       "<table border=\"1\" class=\"dataframe\">\n",
       "  <thead>\n",
       "    <tr style=\"text-align: right;\">\n",
       "      <th></th>\n",
       "      <th>feature_names</th>\n",
       "      <th>clf_impt_rank</th>\n",
       "      <th>xgb_impt_rank</th>\n",
       "      <th>lgb_impt_rank</th>\n",
       "      <th>score</th>\n",
       "      <th>overall_rank</th>\n",
       "    </tr>\n",
       "  </thead>\n",
       "  <tbody>\n",
       "    <tr>\n",
       "      <th>17</th>\n",
       "      <td>MonthlyCharges</td>\n",
       "      <td>1.0</td>\n",
       "      <td>7.0</td>\n",
       "      <td>1.0</td>\n",
       "      <td>9.0</td>\n",
       "      <td>1.0</td>\n",
       "    </tr>\n",
       "    <tr>\n",
       "      <th>14</th>\n",
       "      <td>Contract</td>\n",
       "      <td>4.0</td>\n",
       "      <td>1.0</td>\n",
       "      <td>6.0</td>\n",
       "      <td>11.0</td>\n",
       "      <td>2.0</td>\n",
       "    </tr>\n",
       "    <tr>\n",
       "      <th>4</th>\n",
       "      <td>tenure</td>\n",
       "      <td>3.0</td>\n",
       "      <td>5.0</td>\n",
       "      <td>3.0</td>\n",
       "      <td>11.0</td>\n",
       "      <td>2.0</td>\n",
       "    </tr>\n",
       "    <tr>\n",
       "      <th>18</th>\n",
       "      <td>TotalCharges</td>\n",
       "      <td>2.0</td>\n",
       "      <td>9.0</td>\n",
       "      <td>2.0</td>\n",
       "      <td>13.0</td>\n",
       "      <td>3.0</td>\n",
       "    </tr>\n",
       "    <tr>\n",
       "      <th>16</th>\n",
       "      <td>PaymentMethod</td>\n",
       "      <td>6.0</td>\n",
       "      <td>10.0</td>\n",
       "      <td>4.0</td>\n",
       "      <td>20.0</td>\n",
       "      <td>4.0</td>\n",
       "    </tr>\n",
       "    <tr>\n",
       "      <th>7</th>\n",
       "      <td>InternetService</td>\n",
       "      <td>5.0</td>\n",
       "      <td>2.0</td>\n",
       "      <td>13.0</td>\n",
       "      <td>20.0</td>\n",
       "      <td>4.0</td>\n",
       "    </tr>\n",
       "    <tr>\n",
       "      <th>15</th>\n",
       "      <td>PaperlessBilling</td>\n",
       "      <td>7.0</td>\n",
       "      <td>8.0</td>\n",
       "      <td>7.0</td>\n",
       "      <td>22.0</td>\n",
       "      <td>5.0</td>\n",
       "    </tr>\n",
       "    <tr>\n",
       "      <th>8</th>\n",
       "      <td>OnlineSecurity</td>\n",
       "      <td>9.0</td>\n",
       "      <td>7.0</td>\n",
       "      <td>8.0</td>\n",
       "      <td>24.0</td>\n",
       "      <td>6.0</td>\n",
       "    </tr>\n",
       "    <tr>\n",
       "      <th>0</th>\n",
       "      <td>gender</td>\n",
       "      <td>8.0</td>\n",
       "      <td>12.0</td>\n",
       "      <td>5.0</td>\n",
       "      <td>25.0</td>\n",
       "      <td>7.0</td>\n",
       "    </tr>\n",
       "    <tr>\n",
       "      <th>11</th>\n",
       "      <td>TechSupport</td>\n",
       "      <td>12.0</td>\n",
       "      <td>7.0</td>\n",
       "      <td>8.0</td>\n",
       "      <td>27.0</td>\n",
       "      <td>8.0</td>\n",
       "    </tr>\n",
       "    <tr>\n",
       "      <th>13</th>\n",
       "      <td>StreamingMovies</td>\n",
       "      <td>11.0</td>\n",
       "      <td>4.0</td>\n",
       "      <td>17.0</td>\n",
       "      <td>32.0</td>\n",
       "      <td>9.0</td>\n",
       "    </tr>\n",
       "    <tr>\n",
       "      <th>6</th>\n",
       "      <td>MultipleLines</td>\n",
       "      <td>15.0</td>\n",
       "      <td>6.0</td>\n",
       "      <td>11.0</td>\n",
       "      <td>32.0</td>\n",
       "      <td>9.0</td>\n",
       "    </tr>\n",
       "    <tr>\n",
       "      <th>3</th>\n",
       "      <td>Dependents</td>\n",
       "      <td>11.0</td>\n",
       "      <td>11.0</td>\n",
       "      <td>12.0</td>\n",
       "      <td>34.0</td>\n",
       "      <td>10.0</td>\n",
       "    </tr>\n",
       "    <tr>\n",
       "      <th>1</th>\n",
       "      <td>SeniorCitizen</td>\n",
       "      <td>15.0</td>\n",
       "      <td>10.0</td>\n",
       "      <td>9.0</td>\n",
       "      <td>34.0</td>\n",
       "      <td>10.0</td>\n",
       "    </tr>\n",
       "    <tr>\n",
       "      <th>9</th>\n",
       "      <td>OnlineBackup</td>\n",
       "      <td>13.0</td>\n",
       "      <td>11.0</td>\n",
       "      <td>10.0</td>\n",
       "      <td>34.0</td>\n",
       "      <td>10.0</td>\n",
       "    </tr>\n",
       "    <tr>\n",
       "      <th>5</th>\n",
       "      <td>PhoneService</td>\n",
       "      <td>16.0</td>\n",
       "      <td>3.0</td>\n",
       "      <td>16.0</td>\n",
       "      <td>35.0</td>\n",
       "      <td>11.0</td>\n",
       "    </tr>\n",
       "    <tr>\n",
       "      <th>2</th>\n",
       "      <td>Partner</td>\n",
       "      <td>10.0</td>\n",
       "      <td>13.0</td>\n",
       "      <td>14.0</td>\n",
       "      <td>37.0</td>\n",
       "      <td>12.0</td>\n",
       "    </tr>\n",
       "    <tr>\n",
       "      <th>12</th>\n",
       "      <td>StreamingTV</td>\n",
       "      <td>14.0</td>\n",
       "      <td>13.0</td>\n",
       "      <td>14.0</td>\n",
       "      <td>41.0</td>\n",
       "      <td>13.0</td>\n",
       "    </tr>\n",
       "    <tr>\n",
       "      <th>10</th>\n",
       "      <td>DeviceProtection</td>\n",
       "      <td>15.0</td>\n",
       "      <td>12.0</td>\n",
       "      <td>15.0</td>\n",
       "      <td>42.0</td>\n",
       "      <td>14.0</td>\n",
       "    </tr>\n",
       "  </tbody>\n",
       "</table>\n",
       "</div>"
      ],
      "text/plain": [
       "       feature_names  clf_impt_rank  xgb_impt_rank  lgb_impt_rank  score   \n",
       "17    MonthlyCharges            1.0            7.0            1.0    9.0  \\\n",
       "14          Contract            4.0            1.0            6.0   11.0   \n",
       "4             tenure            3.0            5.0            3.0   11.0   \n",
       "18      TotalCharges            2.0            9.0            2.0   13.0   \n",
       "16     PaymentMethod            6.0           10.0            4.0   20.0   \n",
       "7    InternetService            5.0            2.0           13.0   20.0   \n",
       "15  PaperlessBilling            7.0            8.0            7.0   22.0   \n",
       "8     OnlineSecurity            9.0            7.0            8.0   24.0   \n",
       "0             gender            8.0           12.0            5.0   25.0   \n",
       "11       TechSupport           12.0            7.0            8.0   27.0   \n",
       "13   StreamingMovies           11.0            4.0           17.0   32.0   \n",
       "6      MultipleLines           15.0            6.0           11.0   32.0   \n",
       "3         Dependents           11.0           11.0           12.0   34.0   \n",
       "1      SeniorCitizen           15.0           10.0            9.0   34.0   \n",
       "9       OnlineBackup           13.0           11.0           10.0   34.0   \n",
       "5       PhoneService           16.0            3.0           16.0   35.0   \n",
       "2            Partner           10.0           13.0           14.0   37.0   \n",
       "12       StreamingTV           14.0           13.0           14.0   41.0   \n",
       "10  DeviceProtection           15.0           12.0           15.0   42.0   \n",
       "\n",
       "    overall_rank  \n",
       "17           1.0  \n",
       "14           2.0  \n",
       "4            2.0  \n",
       "18           3.0  \n",
       "16           4.0  \n",
       "7            4.0  \n",
       "15           5.0  \n",
       "8            6.0  \n",
       "0            7.0  \n",
       "11           8.0  \n",
       "13           9.0  \n",
       "6            9.0  \n",
       "3           10.0  \n",
       "1           10.0  \n",
       "9           10.0  \n",
       "5           11.0  \n",
       "2           12.0  \n",
       "12          13.0  \n",
       "10          14.0  "
      ]
     },
     "execution_count": 40,
     "metadata": {},
     "output_type": "execute_result"
    }
   ],
   "source": [
    "# clf importance\n",
    "clf_importance = clf.feature_importances_\n",
    "clf_names = clf.feature_names_in_\n",
    "\n",
    "clf_import_df = pd.DataFrame({\"feature_names\" : clf_names, \n",
    "                               \"clf_importances\" : clf_importance.round(3)})\n",
    "clf_import_df['clf_impt_rank'] = clf_import_df['clf_importances'].rank(method='dense', ascending=False)\n",
    "\n",
    "# xgb importance\n",
    "xgb_importance = xgb.feature_importances_\n",
    "xgb_names = xgb.feature_names_in_\n",
    "\n",
    "xgb_import_df = pd.DataFrame({\"feature_names\" : xgb_names, \n",
    "                               \"xgb_importances\" : xgb_importance.round(3)})\n",
    "xgb_import_df['xgb_impt_rank'] = xgb_import_df['xgb_importances'].rank(method='dense', ascending=False)\n",
    "\n",
    "# lgb importance\n",
    "lgb_importance = lgbs.feature_importances_\n",
    "boost = lgbs.booster_\n",
    "lgb_names = boost.feature_name()\n",
    "\n",
    "lgb_import_df = pd.DataFrame({\"feature_names\" : lgb_names, \n",
    "                               \"lgb_importances\" : lgb_importance.round(3)})\n",
    "lgb_import_df['lgb_impt_rank'] = lgb_import_df['lgb_importances'].rank(method='dense', ascending=False)\n",
    "\n",
    "\n",
    "# combine all importance score\n",
    "final_import1 = pd.merge(clf_import_df, xgb_import_df, on='feature_names', how='inner')\n",
    "final_import3 = pd.merge(final_import1, lgb_import_df, on='feature_names', how='inner')\n",
    "#final_import2[['feature_names', 'clf_impt_rank', 'xgb_impt_rank', 'lgb_impt_rank']]\n",
    "\n",
    "# compute overall ranking\n",
    "final_import3['score'] = final_import3['clf_impt_rank'] + final_import3['xgb_impt_rank'] + final_import3['lgb_impt_rank']\n",
    "final_import3['overall_rank'] = final_import3['score'].rank(method='dense', ascending=True)\n",
    "final_import3[['feature_names', 'clf_impt_rank', 'xgb_impt_rank', 'lgb_impt_rank', 'score', 'overall_rank']].sort_values(by = 'overall_rank', ascending=True)\n",
    "#plot_importance(lgbs, figsize=(10, 9));"
   ]
  },
  {
   "cell_type": "markdown",
   "id": "2519d183",
   "metadata": {},
   "source": [
    "# 10.0 Hyperparameter Tuning\n",
    "<a id='HyperParameterTunning'></a>"
   ]
  },
  {
   "cell_type": "markdown",
   "id": "6c8fbe88",
   "metadata": {},
   "source": [
    "## 10.1 Random Forest"
   ]
  },
  {
   "cell_type": "code",
   "execution_count": 41,
   "id": "35e7977e",
   "metadata": {},
   "outputs": [
    {
     "name": "stdout",
     "output_type": "stream",
     "text": [
      "{'n_estimators': [200, 266, 333, 400, 466, 533, 600, 666, 733, 800], 'max_features': ['auto', 'sqrt'], 'max_depth': [10, 12, 15, 17, 18, 20, 22], 'min_samples_split': [2, 5, 7, 10, 20, 30, 40, 50], 'min_samples_leaf': [2, 3, 4, 5, 7, 10], 'bootstrap': [True, False]}\n"
     ]
    }
   ],
   "source": [
    "n_estimators = [int(x) for x in np.linspace(start=200,stop=800,num=10)] # Number of trees in random forest\n",
    "max_features = ['auto', 'sqrt'] # Number of features to consider at every split\n",
    "max_depth = [10,12,15,17,18,20,22] # Max number of levels in tree\n",
    "min_samples_split = [2,5,7,10,20,30,40,50] # Min number of samples required to split a node\n",
    "min_samples_leaf = [2,3,4,5,7,10] # Min number of samples requred at each leaft node\n",
    "bootstrap = [True, False] # Mth of selecting samples for training each tree\n",
    "\n",
    "rf_param_grid = {\n",
    "    \n",
    "    'n_estimators': n_estimators,\n",
    "    'max_features': max_features, \n",
    "    'max_depth': max_depth, \n",
    "    'min_samples_split': min_samples_split,\n",
    "    'min_samples_leaf': min_samples_leaf,\n",
    "    'bootstrap': bootstrap\n",
    "}\n",
    "\n",
    "print(rf_param_grid)"
   ]
  },
  {
   "cell_type": "code",
   "execution_count": 42,
   "id": "12697b71",
   "metadata": {},
   "outputs": [
    {
     "name": "stdout",
     "output_type": "stream",
     "text": [
      "Fitting 3 folds for each of 80 candidates, totalling 240 fits\n",
      "[CV] END bootstrap=False, max_depth=10, max_features=sqrt, min_samples_leaf=2, min_samples_split=50, n_estimators=533; total time=   3.3s\n",
      "[CV] END bootstrap=False, max_depth=10, max_features=sqrt, min_samples_leaf=2, min_samples_split=50, n_estimators=533; total time=   2.8s\n",
      "[CV] END bootstrap=False, max_depth=10, max_features=sqrt, min_samples_leaf=2, min_samples_split=50, n_estimators=533; total time=   2.7s\n"
     ]
    },
    {
     "name": "stderr",
     "output_type": "stream",
     "text": [
      "C:\\Users\\Aris Pitias\\anaconda3\\envs\\My_general_env\\lib\\site-packages\\sklearn\\ensemble\\_forest.py:424: FutureWarning: `max_features='auto'` has been deprecated in 1.1 and will be removed in 1.3. To keep the past behaviour, explicitly set `max_features='sqrt'` or remove this parameter as it is also the default value for RandomForestClassifiers and ExtraTreesClassifiers.\n",
      "  warn(\n"
     ]
    },
    {
     "name": "stdout",
     "output_type": "stream",
     "text": [
      "[CV] END bootstrap=True, max_depth=10, max_features=auto, min_samples_leaf=4, min_samples_split=5, n_estimators=733; total time=   3.5s\n"
     ]
    },
    {
     "name": "stderr",
     "output_type": "stream",
     "text": [
      "C:\\Users\\Aris Pitias\\anaconda3\\envs\\My_general_env\\lib\\site-packages\\sklearn\\ensemble\\_forest.py:424: FutureWarning: `max_features='auto'` has been deprecated in 1.1 and will be removed in 1.3. To keep the past behaviour, explicitly set `max_features='sqrt'` or remove this parameter as it is also the default value for RandomForestClassifiers and ExtraTreesClassifiers.\n",
      "  warn(\n"
     ]
    },
    {
     "name": "stdout",
     "output_type": "stream",
     "text": [
      "[CV] END bootstrap=True, max_depth=10, max_features=auto, min_samples_leaf=4, min_samples_split=5, n_estimators=733; total time=   3.4s\n"
     ]
    },
    {
     "name": "stderr",
     "output_type": "stream",
     "text": [
      "C:\\Users\\Aris Pitias\\anaconda3\\envs\\My_general_env\\lib\\site-packages\\sklearn\\ensemble\\_forest.py:424: FutureWarning: `max_features='auto'` has been deprecated in 1.1 and will be removed in 1.3. To keep the past behaviour, explicitly set `max_features='sqrt'` or remove this parameter as it is also the default value for RandomForestClassifiers and ExtraTreesClassifiers.\n",
      "  warn(\n"
     ]
    },
    {
     "name": "stdout",
     "output_type": "stream",
     "text": [
      "[CV] END bootstrap=True, max_depth=10, max_features=auto, min_samples_leaf=4, min_samples_split=5, n_estimators=733; total time=   3.4s\n",
      "[CV] END bootstrap=False, max_depth=17, max_features=sqrt, min_samples_leaf=7, min_samples_split=20, n_estimators=266; total time=   1.5s\n",
      "[CV] END bootstrap=False, max_depth=17, max_features=sqrt, min_samples_leaf=7, min_samples_split=20, n_estimators=266; total time=   1.5s\n",
      "[CV] END bootstrap=False, max_depth=17, max_features=sqrt, min_samples_leaf=7, min_samples_split=20, n_estimators=266; total time=   1.5s\n"
     ]
    },
    {
     "name": "stderr",
     "output_type": "stream",
     "text": [
      "C:\\Users\\Aris Pitias\\anaconda3\\envs\\My_general_env\\lib\\site-packages\\sklearn\\ensemble\\_forest.py:424: FutureWarning: `max_features='auto'` has been deprecated in 1.1 and will be removed in 1.3. To keep the past behaviour, explicitly set `max_features='sqrt'` or remove this parameter as it is also the default value for RandomForestClassifiers and ExtraTreesClassifiers.\n",
      "  warn(\n"
     ]
    },
    {
     "name": "stdout",
     "output_type": "stream",
     "text": [
      "[CV] END bootstrap=False, max_depth=20, max_features=auto, min_samples_leaf=7, min_samples_split=50, n_estimators=533; total time=   2.9s\n"
     ]
    },
    {
     "name": "stderr",
     "output_type": "stream",
     "text": [
      "C:\\Users\\Aris Pitias\\anaconda3\\envs\\My_general_env\\lib\\site-packages\\sklearn\\ensemble\\_forest.py:424: FutureWarning: `max_features='auto'` has been deprecated in 1.1 and will be removed in 1.3. To keep the past behaviour, explicitly set `max_features='sqrt'` or remove this parameter as it is also the default value for RandomForestClassifiers and ExtraTreesClassifiers.\n",
      "  warn(\n"
     ]
    },
    {
     "name": "stdout",
     "output_type": "stream",
     "text": [
      "[CV] END bootstrap=False, max_depth=20, max_features=auto, min_samples_leaf=7, min_samples_split=50, n_estimators=533; total time=   2.9s\n"
     ]
    },
    {
     "name": "stderr",
     "output_type": "stream",
     "text": [
      "C:\\Users\\Aris Pitias\\anaconda3\\envs\\My_general_env\\lib\\site-packages\\sklearn\\ensemble\\_forest.py:424: FutureWarning: `max_features='auto'` has been deprecated in 1.1 and will be removed in 1.3. To keep the past behaviour, explicitly set `max_features='sqrt'` or remove this parameter as it is also the default value for RandomForestClassifiers and ExtraTreesClassifiers.\n",
      "  warn(\n"
     ]
    },
    {
     "name": "stdout",
     "output_type": "stream",
     "text": [
      "[CV] END bootstrap=False, max_depth=20, max_features=auto, min_samples_leaf=7, min_samples_split=50, n_estimators=533; total time=   2.9s\n"
     ]
    },
    {
     "name": "stderr",
     "output_type": "stream",
     "text": [
      "C:\\Users\\Aris Pitias\\anaconda3\\envs\\My_general_env\\lib\\site-packages\\sklearn\\ensemble\\_forest.py:424: FutureWarning: `max_features='auto'` has been deprecated in 1.1 and will be removed in 1.3. To keep the past behaviour, explicitly set `max_features='sqrt'` or remove this parameter as it is also the default value for RandomForestClassifiers and ExtraTreesClassifiers.\n",
      "  warn(\n"
     ]
    },
    {
     "name": "stdout",
     "output_type": "stream",
     "text": [
      "[CV] END bootstrap=False, max_depth=10, max_features=auto, min_samples_leaf=4, min_samples_split=30, n_estimators=666; total time=   3.7s\n"
     ]
    },
    {
     "name": "stderr",
     "output_type": "stream",
     "text": [
      "C:\\Users\\Aris Pitias\\anaconda3\\envs\\My_general_env\\lib\\site-packages\\sklearn\\ensemble\\_forest.py:424: FutureWarning: `max_features='auto'` has been deprecated in 1.1 and will be removed in 1.3. To keep the past behaviour, explicitly set `max_features='sqrt'` or remove this parameter as it is also the default value for RandomForestClassifiers and ExtraTreesClassifiers.\n",
      "  warn(\n"
     ]
    },
    {
     "name": "stdout",
     "output_type": "stream",
     "text": [
      "[CV] END bootstrap=False, max_depth=10, max_features=auto, min_samples_leaf=4, min_samples_split=30, n_estimators=666; total time=   3.6s\n"
     ]
    },
    {
     "name": "stderr",
     "output_type": "stream",
     "text": [
      "C:\\Users\\Aris Pitias\\anaconda3\\envs\\My_general_env\\lib\\site-packages\\sklearn\\ensemble\\_forest.py:424: FutureWarning: `max_features='auto'` has been deprecated in 1.1 and will be removed in 1.3. To keep the past behaviour, explicitly set `max_features='sqrt'` or remove this parameter as it is also the default value for RandomForestClassifiers and ExtraTreesClassifiers.\n",
      "  warn(\n"
     ]
    },
    {
     "name": "stdout",
     "output_type": "stream",
     "text": [
      "[CV] END bootstrap=False, max_depth=10, max_features=auto, min_samples_leaf=4, min_samples_split=30, n_estimators=666; total time=   3.6s\n",
      "[CV] END bootstrap=True, max_depth=10, max_features=sqrt, min_samples_leaf=4, min_samples_split=5, n_estimators=600; total time=   2.7s\n",
      "[CV] END bootstrap=True, max_depth=10, max_features=sqrt, min_samples_leaf=4, min_samples_split=5, n_estimators=600; total time=   2.6s\n",
      "[CV] END bootstrap=True, max_depth=10, max_features=sqrt, min_samples_leaf=4, min_samples_split=5, n_estimators=600; total time=   2.8s\n",
      "[CV] END bootstrap=False, max_depth=12, max_features=sqrt, min_samples_leaf=7, min_samples_split=2, n_estimators=400; total time=   2.3s\n",
      "[CV] END bootstrap=False, max_depth=12, max_features=sqrt, min_samples_leaf=7, min_samples_split=2, n_estimators=400; total time=   2.2s\n",
      "[CV] END bootstrap=False, max_depth=12, max_features=sqrt, min_samples_leaf=7, min_samples_split=2, n_estimators=400; total time=   2.3s\n",
      "[CV] END bootstrap=True, max_depth=22, max_features=sqrt, min_samples_leaf=5, min_samples_split=50, n_estimators=200; total time=   0.8s\n",
      "[CV] END bootstrap=True, max_depth=22, max_features=sqrt, min_samples_leaf=5, min_samples_split=50, n_estimators=200; total time=   0.8s\n",
      "[CV] END bootstrap=True, max_depth=22, max_features=sqrt, min_samples_leaf=5, min_samples_split=50, n_estimators=200; total time=   0.8s\n"
     ]
    },
    {
     "name": "stderr",
     "output_type": "stream",
     "text": [
      "C:\\Users\\Aris Pitias\\anaconda3\\envs\\My_general_env\\lib\\site-packages\\sklearn\\ensemble\\_forest.py:424: FutureWarning: `max_features='auto'` has been deprecated in 1.1 and will be removed in 1.3. To keep the past behaviour, explicitly set `max_features='sqrt'` or remove this parameter as it is also the default value for RandomForestClassifiers and ExtraTreesClassifiers.\n",
      "  warn(\n"
     ]
    },
    {
     "name": "stdout",
     "output_type": "stream",
     "text": [
      "[CV] END bootstrap=True, max_depth=10, max_features=auto, min_samples_leaf=5, min_samples_split=10, n_estimators=733; total time=   3.3s\n"
     ]
    },
    {
     "name": "stderr",
     "output_type": "stream",
     "text": [
      "C:\\Users\\Aris Pitias\\anaconda3\\envs\\My_general_env\\lib\\site-packages\\sklearn\\ensemble\\_forest.py:424: FutureWarning: `max_features='auto'` has been deprecated in 1.1 and will be removed in 1.3. To keep the past behaviour, explicitly set `max_features='sqrt'` or remove this parameter as it is also the default value for RandomForestClassifiers and ExtraTreesClassifiers.\n",
      "  warn(\n"
     ]
    },
    {
     "name": "stdout",
     "output_type": "stream",
     "text": [
      "[CV] END bootstrap=True, max_depth=10, max_features=auto, min_samples_leaf=5, min_samples_split=10, n_estimators=733; total time=   3.4s\n"
     ]
    },
    {
     "name": "stderr",
     "output_type": "stream",
     "text": [
      "C:\\Users\\Aris Pitias\\anaconda3\\envs\\My_general_env\\lib\\site-packages\\sklearn\\ensemble\\_forest.py:424: FutureWarning: `max_features='auto'` has been deprecated in 1.1 and will be removed in 1.3. To keep the past behaviour, explicitly set `max_features='sqrt'` or remove this parameter as it is also the default value for RandomForestClassifiers and ExtraTreesClassifiers.\n",
      "  warn(\n"
     ]
    },
    {
     "name": "stdout",
     "output_type": "stream",
     "text": [
      "[CV] END bootstrap=True, max_depth=10, max_features=auto, min_samples_leaf=5, min_samples_split=10, n_estimators=733; total time=   3.3s\n",
      "[CV] END bootstrap=True, max_depth=18, max_features=sqrt, min_samples_leaf=2, min_samples_split=2, n_estimators=200; total time=   1.0s\n",
      "[CV] END bootstrap=True, max_depth=18, max_features=sqrt, min_samples_leaf=2, min_samples_split=2, n_estimators=200; total time=   1.0s\n",
      "[CV] END bootstrap=True, max_depth=18, max_features=sqrt, min_samples_leaf=2, min_samples_split=2, n_estimators=200; total time=   1.0s\n",
      "[CV] END bootstrap=True, max_depth=22, max_features=sqrt, min_samples_leaf=5, min_samples_split=2, n_estimators=666; total time=   3.2s\n",
      "[CV] END bootstrap=True, max_depth=22, max_features=sqrt, min_samples_leaf=5, min_samples_split=2, n_estimators=666; total time=   3.3s\n",
      "[CV] END bootstrap=True, max_depth=22, max_features=sqrt, min_samples_leaf=5, min_samples_split=2, n_estimators=666; total time=   3.3s\n",
      "[CV] END bootstrap=True, max_depth=10, max_features=sqrt, min_samples_leaf=5, min_samples_split=2, n_estimators=200; total time=   0.8s\n",
      "[CV] END bootstrap=True, max_depth=10, max_features=sqrt, min_samples_leaf=5, min_samples_split=2, n_estimators=200; total time=   0.8s\n",
      "[CV] END bootstrap=True, max_depth=10, max_features=sqrt, min_samples_leaf=5, min_samples_split=2, n_estimators=200; total time=   0.8s\n",
      "[CV] END bootstrap=False, max_depth=12, max_features=sqrt, min_samples_leaf=7, min_samples_split=30, n_estimators=666; total time=   3.7s\n",
      "[CV] END bootstrap=False, max_depth=12, max_features=sqrt, min_samples_leaf=7, min_samples_split=30, n_estimators=666; total time=   3.6s\n",
      "[CV] END bootstrap=False, max_depth=12, max_features=sqrt, min_samples_leaf=7, min_samples_split=30, n_estimators=666; total time=   3.8s\n"
     ]
    },
    {
     "name": "stderr",
     "output_type": "stream",
     "text": [
      "C:\\Users\\Aris Pitias\\anaconda3\\envs\\My_general_env\\lib\\site-packages\\sklearn\\ensemble\\_forest.py:424: FutureWarning: `max_features='auto'` has been deprecated in 1.1 and will be removed in 1.3. To keep the past behaviour, explicitly set `max_features='sqrt'` or remove this parameter as it is also the default value for RandomForestClassifiers and ExtraTreesClassifiers.\n",
      "  warn(\n"
     ]
    },
    {
     "name": "stdout",
     "output_type": "stream",
     "text": [
      "[CV] END bootstrap=False, max_depth=17, max_features=auto, min_samples_leaf=5, min_samples_split=10, n_estimators=600; total time=   3.9s\n"
     ]
    },
    {
     "name": "stderr",
     "output_type": "stream",
     "text": [
      "C:\\Users\\Aris Pitias\\anaconda3\\envs\\My_general_env\\lib\\site-packages\\sklearn\\ensemble\\_forest.py:424: FutureWarning: `max_features='auto'` has been deprecated in 1.1 and will be removed in 1.3. To keep the past behaviour, explicitly set `max_features='sqrt'` or remove this parameter as it is also the default value for RandomForestClassifiers and ExtraTreesClassifiers.\n",
      "  warn(\n"
     ]
    },
    {
     "name": "stdout",
     "output_type": "stream",
     "text": [
      "[CV] END bootstrap=False, max_depth=17, max_features=auto, min_samples_leaf=5, min_samples_split=10, n_estimators=600; total time=   3.8s\n"
     ]
    },
    {
     "name": "stderr",
     "output_type": "stream",
     "text": [
      "C:\\Users\\Aris Pitias\\anaconda3\\envs\\My_general_env\\lib\\site-packages\\sklearn\\ensemble\\_forest.py:424: FutureWarning: `max_features='auto'` has been deprecated in 1.1 and will be removed in 1.3. To keep the past behaviour, explicitly set `max_features='sqrt'` or remove this parameter as it is also the default value for RandomForestClassifiers and ExtraTreesClassifiers.\n",
      "  warn(\n"
     ]
    },
    {
     "name": "stdout",
     "output_type": "stream",
     "text": [
      "[CV] END bootstrap=False, max_depth=17, max_features=auto, min_samples_leaf=5, min_samples_split=10, n_estimators=600; total time=   3.8s\n"
     ]
    },
    {
     "name": "stderr",
     "output_type": "stream",
     "text": [
      "C:\\Users\\Aris Pitias\\anaconda3\\envs\\My_general_env\\lib\\site-packages\\sklearn\\ensemble\\_forest.py:424: FutureWarning: `max_features='auto'` has been deprecated in 1.1 and will be removed in 1.3. To keep the past behaviour, explicitly set `max_features='sqrt'` or remove this parameter as it is also the default value for RandomForestClassifiers and ExtraTreesClassifiers.\n",
      "  warn(\n"
     ]
    },
    {
     "name": "stdout",
     "output_type": "stream",
     "text": [
      "[CV] END bootstrap=False, max_depth=10, max_features=auto, min_samples_leaf=3, min_samples_split=50, n_estimators=333; total time=   1.6s\n"
     ]
    },
    {
     "name": "stderr",
     "output_type": "stream",
     "text": [
      "C:\\Users\\Aris Pitias\\anaconda3\\envs\\My_general_env\\lib\\site-packages\\sklearn\\ensemble\\_forest.py:424: FutureWarning: `max_features='auto'` has been deprecated in 1.1 and will be removed in 1.3. To keep the past behaviour, explicitly set `max_features='sqrt'` or remove this parameter as it is also the default value for RandomForestClassifiers and ExtraTreesClassifiers.\n",
      "  warn(\n"
     ]
    },
    {
     "name": "stdout",
     "output_type": "stream",
     "text": [
      "[CV] END bootstrap=False, max_depth=10, max_features=auto, min_samples_leaf=3, min_samples_split=50, n_estimators=333; total time=   1.7s\n"
     ]
    },
    {
     "name": "stderr",
     "output_type": "stream",
     "text": [
      "C:\\Users\\Aris Pitias\\anaconda3\\envs\\My_general_env\\lib\\site-packages\\sklearn\\ensemble\\_forest.py:424: FutureWarning: `max_features='auto'` has been deprecated in 1.1 and will be removed in 1.3. To keep the past behaviour, explicitly set `max_features='sqrt'` or remove this parameter as it is also the default value for RandomForestClassifiers and ExtraTreesClassifiers.\n",
      "  warn(\n"
     ]
    },
    {
     "name": "stdout",
     "output_type": "stream",
     "text": [
      "[CV] END bootstrap=False, max_depth=10, max_features=auto, min_samples_leaf=3, min_samples_split=50, n_estimators=333; total time=   1.7s\n",
      "[CV] END bootstrap=True, max_depth=20, max_features=sqrt, min_samples_leaf=7, min_samples_split=2, n_estimators=466; total time=   2.2s\n",
      "[CV] END bootstrap=True, max_depth=20, max_features=sqrt, min_samples_leaf=7, min_samples_split=2, n_estimators=466; total time=   2.1s\n",
      "[CV] END bootstrap=True, max_depth=20, max_features=sqrt, min_samples_leaf=7, min_samples_split=2, n_estimators=466; total time=   2.1s\n",
      "[CV] END bootstrap=False, max_depth=12, max_features=sqrt, min_samples_leaf=7, min_samples_split=50, n_estimators=333; total time=   1.7s\n",
      "[CV] END bootstrap=False, max_depth=12, max_features=sqrt, min_samples_leaf=7, min_samples_split=50, n_estimators=333; total time=   1.7s\n",
      "[CV] END bootstrap=False, max_depth=12, max_features=sqrt, min_samples_leaf=7, min_samples_split=50, n_estimators=333; total time=   1.7s\n",
      "[CV] END bootstrap=False, max_depth=15, max_features=sqrt, min_samples_leaf=3, min_samples_split=20, n_estimators=466; total time=   2.9s\n",
      "[CV] END bootstrap=False, max_depth=15, max_features=sqrt, min_samples_leaf=3, min_samples_split=20, n_estimators=466; total time=   2.8s\n",
      "[CV] END bootstrap=False, max_depth=15, max_features=sqrt, min_samples_leaf=3, min_samples_split=20, n_estimators=466; total time=   2.8s\n",
      "[CV] END bootstrap=True, max_depth=18, max_features=sqrt, min_samples_leaf=4, min_samples_split=50, n_estimators=400; total time=   1.6s\n",
      "[CV] END bootstrap=True, max_depth=18, max_features=sqrt, min_samples_leaf=4, min_samples_split=50, n_estimators=400; total time=   1.6s\n",
      "[CV] END bootstrap=True, max_depth=18, max_features=sqrt, min_samples_leaf=4, min_samples_split=50, n_estimators=400; total time=   1.6s\n",
      "[CV] END bootstrap=True, max_depth=20, max_features=sqrt, min_samples_leaf=5, min_samples_split=2, n_estimators=533; total time=   2.6s\n",
      "[CV] END bootstrap=True, max_depth=20, max_features=sqrt, min_samples_leaf=5, min_samples_split=2, n_estimators=533; total time=   2.6s\n",
      "[CV] END bootstrap=True, max_depth=20, max_features=sqrt, min_samples_leaf=5, min_samples_split=2, n_estimators=533; total time=   2.5s\n",
      "[CV] END bootstrap=False, max_depth=10, max_features=sqrt, min_samples_leaf=10, min_samples_split=10, n_estimators=666; total time=   3.5s\n",
      "[CV] END bootstrap=False, max_depth=10, max_features=sqrt, min_samples_leaf=10, min_samples_split=10, n_estimators=666; total time=   3.5s\n",
      "[CV] END bootstrap=False, max_depth=10, max_features=sqrt, min_samples_leaf=10, min_samples_split=10, n_estimators=666; total time=   3.5s\n",
      "[CV] END bootstrap=False, max_depth=10, max_features=sqrt, min_samples_leaf=4, min_samples_split=10, n_estimators=666; total time=   3.7s\n",
      "[CV] END bootstrap=False, max_depth=10, max_features=sqrt, min_samples_leaf=4, min_samples_split=10, n_estimators=666; total time=   3.6s\n",
      "[CV] END bootstrap=False, max_depth=10, max_features=sqrt, min_samples_leaf=4, min_samples_split=10, n_estimators=666; total time=   3.6s\n",
      "[CV] END bootstrap=False, max_depth=20, max_features=sqrt, min_samples_leaf=10, min_samples_split=2, n_estimators=666; total time=   3.8s\n",
      "[CV] END bootstrap=False, max_depth=20, max_features=sqrt, min_samples_leaf=10, min_samples_split=2, n_estimators=666; total time=   3.9s\n",
      "[CV] END bootstrap=False, max_depth=20, max_features=sqrt, min_samples_leaf=10, min_samples_split=2, n_estimators=666; total time=   3.8s\n"
     ]
    },
    {
     "name": "stderr",
     "output_type": "stream",
     "text": [
      "C:\\Users\\Aris Pitias\\anaconda3\\envs\\My_general_env\\lib\\site-packages\\sklearn\\ensemble\\_forest.py:424: FutureWarning: `max_features='auto'` has been deprecated in 1.1 and will be removed in 1.3. To keep the past behaviour, explicitly set `max_features='sqrt'` or remove this parameter as it is also the default value for RandomForestClassifiers and ExtraTreesClassifiers.\n",
      "  warn(\n"
     ]
    },
    {
     "name": "stdout",
     "output_type": "stream",
     "text": [
      "[CV] END bootstrap=True, max_depth=22, max_features=auto, min_samples_leaf=10, min_samples_split=7, n_estimators=400; total time=   1.7s\n"
     ]
    },
    {
     "name": "stderr",
     "output_type": "stream",
     "text": [
      "C:\\Users\\Aris Pitias\\anaconda3\\envs\\My_general_env\\lib\\site-packages\\sklearn\\ensemble\\_forest.py:424: FutureWarning: `max_features='auto'` has been deprecated in 1.1 and will be removed in 1.3. To keep the past behaviour, explicitly set `max_features='sqrt'` or remove this parameter as it is also the default value for RandomForestClassifiers and ExtraTreesClassifiers.\n",
      "  warn(\n"
     ]
    },
    {
     "name": "stdout",
     "output_type": "stream",
     "text": [
      "[CV] END bootstrap=True, max_depth=22, max_features=auto, min_samples_leaf=10, min_samples_split=7, n_estimators=400; total time=   1.7s\n"
     ]
    },
    {
     "name": "stderr",
     "output_type": "stream",
     "text": [
      "C:\\Users\\Aris Pitias\\anaconda3\\envs\\My_general_env\\lib\\site-packages\\sklearn\\ensemble\\_forest.py:424: FutureWarning: `max_features='auto'` has been deprecated in 1.1 and will be removed in 1.3. To keep the past behaviour, explicitly set `max_features='sqrt'` or remove this parameter as it is also the default value for RandomForestClassifiers and ExtraTreesClassifiers.\n",
      "  warn(\n"
     ]
    },
    {
     "name": "stdout",
     "output_type": "stream",
     "text": [
      "[CV] END bootstrap=True, max_depth=22, max_features=auto, min_samples_leaf=10, min_samples_split=7, n_estimators=400; total time=   1.7s\n"
     ]
    },
    {
     "name": "stderr",
     "output_type": "stream",
     "text": [
      "C:\\Users\\Aris Pitias\\anaconda3\\envs\\My_general_env\\lib\\site-packages\\sklearn\\ensemble\\_forest.py:424: FutureWarning: `max_features='auto'` has been deprecated in 1.1 and will be removed in 1.3. To keep the past behaviour, explicitly set `max_features='sqrt'` or remove this parameter as it is also the default value for RandomForestClassifiers and ExtraTreesClassifiers.\n",
      "  warn(\n"
     ]
    },
    {
     "name": "stdout",
     "output_type": "stream",
     "text": [
      "[CV] END bootstrap=True, max_depth=22, max_features=auto, min_samples_leaf=4, min_samples_split=50, n_estimators=600; total time=   2.5s\n"
     ]
    },
    {
     "name": "stderr",
     "output_type": "stream",
     "text": [
      "C:\\Users\\Aris Pitias\\anaconda3\\envs\\My_general_env\\lib\\site-packages\\sklearn\\ensemble\\_forest.py:424: FutureWarning: `max_features='auto'` has been deprecated in 1.1 and will be removed in 1.3. To keep the past behaviour, explicitly set `max_features='sqrt'` or remove this parameter as it is also the default value for RandomForestClassifiers and ExtraTreesClassifiers.\n",
      "  warn(\n"
     ]
    },
    {
     "name": "stdout",
     "output_type": "stream",
     "text": [
      "[CV] END bootstrap=True, max_depth=22, max_features=auto, min_samples_leaf=4, min_samples_split=50, n_estimators=600; total time=   2.7s\n"
     ]
    },
    {
     "name": "stderr",
     "output_type": "stream",
     "text": [
      "C:\\Users\\Aris Pitias\\anaconda3\\envs\\My_general_env\\lib\\site-packages\\sklearn\\ensemble\\_forest.py:424: FutureWarning: `max_features='auto'` has been deprecated in 1.1 and will be removed in 1.3. To keep the past behaviour, explicitly set `max_features='sqrt'` or remove this parameter as it is also the default value for RandomForestClassifiers and ExtraTreesClassifiers.\n",
      "  warn(\n"
     ]
    },
    {
     "name": "stdout",
     "output_type": "stream",
     "text": [
      "[CV] END bootstrap=True, max_depth=22, max_features=auto, min_samples_leaf=4, min_samples_split=50, n_estimators=600; total time=   2.5s\n",
      "[CV] END bootstrap=True, max_depth=18, max_features=sqrt, min_samples_leaf=5, min_samples_split=20, n_estimators=533; total time=   2.4s\n",
      "[CV] END bootstrap=True, max_depth=18, max_features=sqrt, min_samples_leaf=5, min_samples_split=20, n_estimators=533; total time=   2.4s\n",
      "[CV] END bootstrap=True, max_depth=18, max_features=sqrt, min_samples_leaf=5, min_samples_split=20, n_estimators=533; total time=   2.4s\n",
      "[CV] END bootstrap=False, max_depth=15, max_features=sqrt, min_samples_leaf=5, min_samples_split=30, n_estimators=200; total time=   1.1s\n",
      "[CV] END bootstrap=False, max_depth=15, max_features=sqrt, min_samples_leaf=5, min_samples_split=30, n_estimators=200; total time=   1.1s\n",
      "[CV] END bootstrap=False, max_depth=15, max_features=sqrt, min_samples_leaf=5, min_samples_split=30, n_estimators=200; total time=   1.1s\n"
     ]
    },
    {
     "name": "stderr",
     "output_type": "stream",
     "text": [
      "C:\\Users\\Aris Pitias\\anaconda3\\envs\\My_general_env\\lib\\site-packages\\sklearn\\ensemble\\_forest.py:424: FutureWarning: `max_features='auto'` has been deprecated in 1.1 and will be removed in 1.3. To keep the past behaviour, explicitly set `max_features='sqrt'` or remove this parameter as it is also the default value for RandomForestClassifiers and ExtraTreesClassifiers.\n",
      "  warn(\n"
     ]
    },
    {
     "name": "stdout",
     "output_type": "stream",
     "text": [
      "[CV] END bootstrap=True, max_depth=15, max_features=auto, min_samples_leaf=5, min_samples_split=40, n_estimators=333; total time=   1.4s\n"
     ]
    },
    {
     "name": "stderr",
     "output_type": "stream",
     "text": [
      "C:\\Users\\Aris Pitias\\anaconda3\\envs\\My_general_env\\lib\\site-packages\\sklearn\\ensemble\\_forest.py:424: FutureWarning: `max_features='auto'` has been deprecated in 1.1 and will be removed in 1.3. To keep the past behaviour, explicitly set `max_features='sqrt'` or remove this parameter as it is also the default value for RandomForestClassifiers and ExtraTreesClassifiers.\n",
      "  warn(\n"
     ]
    },
    {
     "name": "stdout",
     "output_type": "stream",
     "text": [
      "[CV] END bootstrap=True, max_depth=15, max_features=auto, min_samples_leaf=5, min_samples_split=40, n_estimators=333; total time=   1.5s\n"
     ]
    },
    {
     "name": "stderr",
     "output_type": "stream",
     "text": [
      "C:\\Users\\Aris Pitias\\anaconda3\\envs\\My_general_env\\lib\\site-packages\\sklearn\\ensemble\\_forest.py:424: FutureWarning: `max_features='auto'` has been deprecated in 1.1 and will be removed in 1.3. To keep the past behaviour, explicitly set `max_features='sqrt'` or remove this parameter as it is also the default value for RandomForestClassifiers and ExtraTreesClassifiers.\n",
      "  warn(\n"
     ]
    },
    {
     "name": "stdout",
     "output_type": "stream",
     "text": [
      "[CV] END bootstrap=True, max_depth=15, max_features=auto, min_samples_leaf=5, min_samples_split=40, n_estimators=333; total time=   1.4s\n"
     ]
    },
    {
     "name": "stderr",
     "output_type": "stream",
     "text": [
      "C:\\Users\\Aris Pitias\\anaconda3\\envs\\My_general_env\\lib\\site-packages\\sklearn\\ensemble\\_forest.py:424: FutureWarning: `max_features='auto'` has been deprecated in 1.1 and will be removed in 1.3. To keep the past behaviour, explicitly set `max_features='sqrt'` or remove this parameter as it is also the default value for RandomForestClassifiers and ExtraTreesClassifiers.\n",
      "  warn(\n"
     ]
    },
    {
     "name": "stdout",
     "output_type": "stream",
     "text": [
      "[CV] END bootstrap=False, max_depth=15, max_features=auto, min_samples_leaf=4, min_samples_split=30, n_estimators=800; total time=   4.7s\n"
     ]
    },
    {
     "name": "stderr",
     "output_type": "stream",
     "text": [
      "C:\\Users\\Aris Pitias\\anaconda3\\envs\\My_general_env\\lib\\site-packages\\sklearn\\ensemble\\_forest.py:424: FutureWarning: `max_features='auto'` has been deprecated in 1.1 and will be removed in 1.3. To keep the past behaviour, explicitly set `max_features='sqrt'` or remove this parameter as it is also the default value for RandomForestClassifiers and ExtraTreesClassifiers.\n",
      "  warn(\n"
     ]
    },
    {
     "name": "stdout",
     "output_type": "stream",
     "text": [
      "[CV] END bootstrap=False, max_depth=15, max_features=auto, min_samples_leaf=4, min_samples_split=30, n_estimators=800; total time=   4.6s\n"
     ]
    },
    {
     "name": "stderr",
     "output_type": "stream",
     "text": [
      "C:\\Users\\Aris Pitias\\anaconda3\\envs\\My_general_env\\lib\\site-packages\\sklearn\\ensemble\\_forest.py:424: FutureWarning: `max_features='auto'` has been deprecated in 1.1 and will be removed in 1.3. To keep the past behaviour, explicitly set `max_features='sqrt'` or remove this parameter as it is also the default value for RandomForestClassifiers and ExtraTreesClassifiers.\n",
      "  warn(\n"
     ]
    },
    {
     "name": "stdout",
     "output_type": "stream",
     "text": [
      "[CV] END bootstrap=False, max_depth=15, max_features=auto, min_samples_leaf=4, min_samples_split=30, n_estimators=800; total time=   4.7s\n",
      "[CV] END bootstrap=False, max_depth=15, max_features=sqrt, min_samples_leaf=3, min_samples_split=50, n_estimators=333; total time=   1.7s\n",
      "[CV] END bootstrap=False, max_depth=15, max_features=sqrt, min_samples_leaf=3, min_samples_split=50, n_estimators=333; total time=   1.8s\n",
      "[CV] END bootstrap=False, max_depth=15, max_features=sqrt, min_samples_leaf=3, min_samples_split=50, n_estimators=333; total time=   1.8s\n",
      "[CV] END bootstrap=True, max_depth=22, max_features=sqrt, min_samples_leaf=7, min_samples_split=20, n_estimators=600; total time=   2.7s\n",
      "[CV] END bootstrap=True, max_depth=22, max_features=sqrt, min_samples_leaf=7, min_samples_split=20, n_estimators=600; total time=   2.7s\n",
      "[CV] END bootstrap=True, max_depth=22, max_features=sqrt, min_samples_leaf=7, min_samples_split=20, n_estimators=600; total time=   2.8s\n",
      "[CV] END bootstrap=True, max_depth=20, max_features=sqrt, min_samples_leaf=5, min_samples_split=10, n_estimators=200; total time=   1.0s\n",
      "[CV] END bootstrap=True, max_depth=20, max_features=sqrt, min_samples_leaf=5, min_samples_split=10, n_estimators=200; total time=   0.9s\n",
      "[CV] END bootstrap=True, max_depth=20, max_features=sqrt, min_samples_leaf=5, min_samples_split=10, n_estimators=200; total time=   0.9s\n"
     ]
    },
    {
     "name": "stderr",
     "output_type": "stream",
     "text": [
      "C:\\Users\\Aris Pitias\\anaconda3\\envs\\My_general_env\\lib\\site-packages\\sklearn\\ensemble\\_forest.py:424: FutureWarning: `max_features='auto'` has been deprecated in 1.1 and will be removed in 1.3. To keep the past behaviour, explicitly set `max_features='sqrt'` or remove this parameter as it is also the default value for RandomForestClassifiers and ExtraTreesClassifiers.\n",
      "  warn(\n"
     ]
    },
    {
     "name": "stdout",
     "output_type": "stream",
     "text": [
      "[CV] END bootstrap=False, max_depth=18, max_features=auto, min_samples_leaf=3, min_samples_split=30, n_estimators=533; total time=   3.2s\n"
     ]
    },
    {
     "name": "stderr",
     "output_type": "stream",
     "text": [
      "C:\\Users\\Aris Pitias\\anaconda3\\envs\\My_general_env\\lib\\site-packages\\sklearn\\ensemble\\_forest.py:424: FutureWarning: `max_features='auto'` has been deprecated in 1.1 and will be removed in 1.3. To keep the past behaviour, explicitly set `max_features='sqrt'` or remove this parameter as it is also the default value for RandomForestClassifiers and ExtraTreesClassifiers.\n",
      "  warn(\n"
     ]
    },
    {
     "name": "stdout",
     "output_type": "stream",
     "text": [
      "[CV] END bootstrap=False, max_depth=18, max_features=auto, min_samples_leaf=3, min_samples_split=30, n_estimators=533; total time=   3.2s\n"
     ]
    },
    {
     "name": "stderr",
     "output_type": "stream",
     "text": [
      "C:\\Users\\Aris Pitias\\anaconda3\\envs\\My_general_env\\lib\\site-packages\\sklearn\\ensemble\\_forest.py:424: FutureWarning: `max_features='auto'` has been deprecated in 1.1 and will be removed in 1.3. To keep the past behaviour, explicitly set `max_features='sqrt'` or remove this parameter as it is also the default value for RandomForestClassifiers and ExtraTreesClassifiers.\n",
      "  warn(\n"
     ]
    },
    {
     "name": "stdout",
     "output_type": "stream",
     "text": [
      "[CV] END bootstrap=False, max_depth=18, max_features=auto, min_samples_leaf=3, min_samples_split=30, n_estimators=533; total time=   3.2s\n",
      "[CV] END bootstrap=True, max_depth=22, max_features=sqrt, min_samples_leaf=10, min_samples_split=5, n_estimators=200; total time=   0.8s\n",
      "[CV] END bootstrap=True, max_depth=22, max_features=sqrt, min_samples_leaf=10, min_samples_split=5, n_estimators=200; total time=   0.8s\n",
      "[CV] END bootstrap=True, max_depth=22, max_features=sqrt, min_samples_leaf=10, min_samples_split=5, n_estimators=200; total time=   0.8s\n"
     ]
    },
    {
     "name": "stderr",
     "output_type": "stream",
     "text": [
      "C:\\Users\\Aris Pitias\\anaconda3\\envs\\My_general_env\\lib\\site-packages\\sklearn\\ensemble\\_forest.py:424: FutureWarning: `max_features='auto'` has been deprecated in 1.1 and will be removed in 1.3. To keep the past behaviour, explicitly set `max_features='sqrt'` or remove this parameter as it is also the default value for RandomForestClassifiers and ExtraTreesClassifiers.\n",
      "  warn(\n"
     ]
    },
    {
     "name": "stdout",
     "output_type": "stream",
     "text": [
      "[CV] END bootstrap=False, max_depth=17, max_features=auto, min_samples_leaf=4, min_samples_split=7, n_estimators=600; total time=   4.0s\n"
     ]
    },
    {
     "name": "stderr",
     "output_type": "stream",
     "text": [
      "C:\\Users\\Aris Pitias\\anaconda3\\envs\\My_general_env\\lib\\site-packages\\sklearn\\ensemble\\_forest.py:424: FutureWarning: `max_features='auto'` has been deprecated in 1.1 and will be removed in 1.3. To keep the past behaviour, explicitly set `max_features='sqrt'` or remove this parameter as it is also the default value for RandomForestClassifiers and ExtraTreesClassifiers.\n",
      "  warn(\n"
     ]
    },
    {
     "name": "stdout",
     "output_type": "stream",
     "text": [
      "[CV] END bootstrap=False, max_depth=17, max_features=auto, min_samples_leaf=4, min_samples_split=7, n_estimators=600; total time=   4.0s\n"
     ]
    },
    {
     "name": "stderr",
     "output_type": "stream",
     "text": [
      "C:\\Users\\Aris Pitias\\anaconda3\\envs\\My_general_env\\lib\\site-packages\\sklearn\\ensemble\\_forest.py:424: FutureWarning: `max_features='auto'` has been deprecated in 1.1 and will be removed in 1.3. To keep the past behaviour, explicitly set `max_features='sqrt'` or remove this parameter as it is also the default value for RandomForestClassifiers and ExtraTreesClassifiers.\n",
      "  warn(\n"
     ]
    },
    {
     "name": "stdout",
     "output_type": "stream",
     "text": [
      "[CV] END bootstrap=False, max_depth=17, max_features=auto, min_samples_leaf=4, min_samples_split=7, n_estimators=600; total time=   3.9s\n",
      "[CV] END bootstrap=True, max_depth=15, max_features=sqrt, min_samples_leaf=10, min_samples_split=10, n_estimators=800; total time=   3.5s\n",
      "[CV] END bootstrap=True, max_depth=15, max_features=sqrt, min_samples_leaf=10, min_samples_split=10, n_estimators=800; total time=   3.6s\n",
      "[CV] END bootstrap=True, max_depth=15, max_features=sqrt, min_samples_leaf=10, min_samples_split=10, n_estimators=800; total time=   3.5s\n",
      "[CV] END bootstrap=True, max_depth=20, max_features=sqrt, min_samples_leaf=5, min_samples_split=40, n_estimators=733; total time=   3.2s\n",
      "[CV] END bootstrap=True, max_depth=20, max_features=sqrt, min_samples_leaf=5, min_samples_split=40, n_estimators=733; total time=   3.2s\n",
      "[CV] END bootstrap=True, max_depth=20, max_features=sqrt, min_samples_leaf=5, min_samples_split=40, n_estimators=733; total time=   3.3s\n",
      "[CV] END bootstrap=False, max_depth=17, max_features=sqrt, min_samples_leaf=3, min_samples_split=40, n_estimators=666; total time=   3.8s\n",
      "[CV] END bootstrap=False, max_depth=17, max_features=sqrt, min_samples_leaf=3, min_samples_split=40, n_estimators=666; total time=   3.8s\n",
      "[CV] END bootstrap=False, max_depth=17, max_features=sqrt, min_samples_leaf=3, min_samples_split=40, n_estimators=666; total time=   3.7s\n",
      "[CV] END bootstrap=False, max_depth=12, max_features=sqrt, min_samples_leaf=4, min_samples_split=10, n_estimators=400; total time=   2.4s\n",
      "[CV] END bootstrap=False, max_depth=12, max_features=sqrt, min_samples_leaf=4, min_samples_split=10, n_estimators=400; total time=   2.4s\n",
      "[CV] END bootstrap=False, max_depth=12, max_features=sqrt, min_samples_leaf=4, min_samples_split=10, n_estimators=400; total time=   2.4s\n"
     ]
    },
    {
     "name": "stderr",
     "output_type": "stream",
     "text": [
      "C:\\Users\\Aris Pitias\\anaconda3\\envs\\My_general_env\\lib\\site-packages\\sklearn\\ensemble\\_forest.py:424: FutureWarning: `max_features='auto'` has been deprecated in 1.1 and will be removed in 1.3. To keep the past behaviour, explicitly set `max_features='sqrt'` or remove this parameter as it is also the default value for RandomForestClassifiers and ExtraTreesClassifiers.\n",
      "  warn(\n"
     ]
    },
    {
     "name": "stdout",
     "output_type": "stream",
     "text": [
      "[CV] END bootstrap=False, max_depth=22, max_features=auto, min_samples_leaf=7, min_samples_split=20, n_estimators=800; total time=   4.8s\n"
     ]
    },
    {
     "name": "stderr",
     "output_type": "stream",
     "text": [
      "C:\\Users\\Aris Pitias\\anaconda3\\envs\\My_general_env\\lib\\site-packages\\sklearn\\ensemble\\_forest.py:424: FutureWarning: `max_features='auto'` has been deprecated in 1.1 and will be removed in 1.3. To keep the past behaviour, explicitly set `max_features='sqrt'` or remove this parameter as it is also the default value for RandomForestClassifiers and ExtraTreesClassifiers.\n",
      "  warn(\n"
     ]
    },
    {
     "name": "stdout",
     "output_type": "stream",
     "text": [
      "[CV] END bootstrap=False, max_depth=22, max_features=auto, min_samples_leaf=7, min_samples_split=20, n_estimators=800; total time=   4.8s\n"
     ]
    },
    {
     "name": "stderr",
     "output_type": "stream",
     "text": [
      "C:\\Users\\Aris Pitias\\anaconda3\\envs\\My_general_env\\lib\\site-packages\\sklearn\\ensemble\\_forest.py:424: FutureWarning: `max_features='auto'` has been deprecated in 1.1 and will be removed in 1.3. To keep the past behaviour, explicitly set `max_features='sqrt'` or remove this parameter as it is also the default value for RandomForestClassifiers and ExtraTreesClassifiers.\n",
      "  warn(\n"
     ]
    },
    {
     "name": "stdout",
     "output_type": "stream",
     "text": [
      "[CV] END bootstrap=False, max_depth=22, max_features=auto, min_samples_leaf=7, min_samples_split=20, n_estimators=800; total time=   4.9s\n",
      "[CV] END bootstrap=False, max_depth=15, max_features=sqrt, min_samples_leaf=3, min_samples_split=40, n_estimators=333; total time=   1.8s\n",
      "[CV] END bootstrap=False, max_depth=15, max_features=sqrt, min_samples_leaf=3, min_samples_split=40, n_estimators=333; total time=   1.8s\n",
      "[CV] END bootstrap=False, max_depth=15, max_features=sqrt, min_samples_leaf=3, min_samples_split=40, n_estimators=333; total time=   1.8s\n",
      "[CV] END bootstrap=False, max_depth=22, max_features=sqrt, min_samples_leaf=4, min_samples_split=20, n_estimators=200; total time=   1.1s\n",
      "[CV] END bootstrap=False, max_depth=22, max_features=sqrt, min_samples_leaf=4, min_samples_split=20, n_estimators=200; total time=   1.2s\n",
      "[CV] END bootstrap=False, max_depth=22, max_features=sqrt, min_samples_leaf=4, min_samples_split=20, n_estimators=200; total time=   1.1s\n",
      "[CV] END bootstrap=False, max_depth=17, max_features=sqrt, min_samples_leaf=7, min_samples_split=40, n_estimators=333; total time=   1.8s\n",
      "[CV] END bootstrap=False, max_depth=17, max_features=sqrt, min_samples_leaf=7, min_samples_split=40, n_estimators=333; total time=   1.8s\n",
      "[CV] END bootstrap=False, max_depth=17, max_features=sqrt, min_samples_leaf=7, min_samples_split=40, n_estimators=333; total time=   1.9s\n",
      "[CV] END bootstrap=True, max_depth=10, max_features=sqrt, min_samples_leaf=5, min_samples_split=2, n_estimators=666; total time=   3.0s\n",
      "[CV] END bootstrap=True, max_depth=10, max_features=sqrt, min_samples_leaf=5, min_samples_split=2, n_estimators=666; total time=   2.9s\n",
      "[CV] END bootstrap=True, max_depth=10, max_features=sqrt, min_samples_leaf=5, min_samples_split=2, n_estimators=666; total time=   3.0s\n",
      "[CV] END bootstrap=True, max_depth=17, max_features=sqrt, min_samples_leaf=3, min_samples_split=20, n_estimators=800; total time=   3.8s\n",
      "[CV] END bootstrap=True, max_depth=17, max_features=sqrt, min_samples_leaf=3, min_samples_split=20, n_estimators=800; total time=   4.0s\n",
      "[CV] END bootstrap=True, max_depth=17, max_features=sqrt, min_samples_leaf=3, min_samples_split=20, n_estimators=800; total time=   3.8s\n"
     ]
    },
    {
     "name": "stderr",
     "output_type": "stream",
     "text": [
      "C:\\Users\\Aris Pitias\\anaconda3\\envs\\My_general_env\\lib\\site-packages\\sklearn\\ensemble\\_forest.py:424: FutureWarning: `max_features='auto'` has been deprecated in 1.1 and will be removed in 1.3. To keep the past behaviour, explicitly set `max_features='sqrt'` or remove this parameter as it is also the default value for RandomForestClassifiers and ExtraTreesClassifiers.\n",
      "  warn(\n"
     ]
    },
    {
     "name": "stdout",
     "output_type": "stream",
     "text": [
      "[CV] END bootstrap=False, max_depth=12, max_features=auto, min_samples_leaf=5, min_samples_split=20, n_estimators=733; total time=   4.3s\n"
     ]
    },
    {
     "name": "stderr",
     "output_type": "stream",
     "text": [
      "C:\\Users\\Aris Pitias\\anaconda3\\envs\\My_general_env\\lib\\site-packages\\sklearn\\ensemble\\_forest.py:424: FutureWarning: `max_features='auto'` has been deprecated in 1.1 and will be removed in 1.3. To keep the past behaviour, explicitly set `max_features='sqrt'` or remove this parameter as it is also the default value for RandomForestClassifiers and ExtraTreesClassifiers.\n",
      "  warn(\n"
     ]
    },
    {
     "name": "stdout",
     "output_type": "stream",
     "text": [
      "[CV] END bootstrap=False, max_depth=12, max_features=auto, min_samples_leaf=5, min_samples_split=20, n_estimators=733; total time=   4.2s\n"
     ]
    },
    {
     "name": "stderr",
     "output_type": "stream",
     "text": [
      "C:\\Users\\Aris Pitias\\anaconda3\\envs\\My_general_env\\lib\\site-packages\\sklearn\\ensemble\\_forest.py:424: FutureWarning: `max_features='auto'` has been deprecated in 1.1 and will be removed in 1.3. To keep the past behaviour, explicitly set `max_features='sqrt'` or remove this parameter as it is also the default value for RandomForestClassifiers and ExtraTreesClassifiers.\n",
      "  warn(\n"
     ]
    },
    {
     "name": "stdout",
     "output_type": "stream",
     "text": [
      "[CV] END bootstrap=False, max_depth=12, max_features=auto, min_samples_leaf=5, min_samples_split=20, n_estimators=733; total time=   4.3s\n"
     ]
    },
    {
     "name": "stderr",
     "output_type": "stream",
     "text": [
      "C:\\Users\\Aris Pitias\\anaconda3\\envs\\My_general_env\\lib\\site-packages\\sklearn\\ensemble\\_forest.py:424: FutureWarning: `max_features='auto'` has been deprecated in 1.1 and will be removed in 1.3. To keep the past behaviour, explicitly set `max_features='sqrt'` or remove this parameter as it is also the default value for RandomForestClassifiers and ExtraTreesClassifiers.\n",
      "  warn(\n"
     ]
    },
    {
     "name": "stdout",
     "output_type": "stream",
     "text": [
      "[CV] END bootstrap=False, max_depth=17, max_features=auto, min_samples_leaf=4, min_samples_split=50, n_estimators=466; total time=   2.5s\n"
     ]
    },
    {
     "name": "stderr",
     "output_type": "stream",
     "text": [
      "C:\\Users\\Aris Pitias\\anaconda3\\envs\\My_general_env\\lib\\site-packages\\sklearn\\ensemble\\_forest.py:424: FutureWarning: `max_features='auto'` has been deprecated in 1.1 and will be removed in 1.3. To keep the past behaviour, explicitly set `max_features='sqrt'` or remove this parameter as it is also the default value for RandomForestClassifiers and ExtraTreesClassifiers.\n",
      "  warn(\n"
     ]
    },
    {
     "name": "stdout",
     "output_type": "stream",
     "text": [
      "[CV] END bootstrap=False, max_depth=17, max_features=auto, min_samples_leaf=4, min_samples_split=50, n_estimators=466; total time=   2.5s\n"
     ]
    },
    {
     "name": "stderr",
     "output_type": "stream",
     "text": [
      "C:\\Users\\Aris Pitias\\anaconda3\\envs\\My_general_env\\lib\\site-packages\\sklearn\\ensemble\\_forest.py:424: FutureWarning: `max_features='auto'` has been deprecated in 1.1 and will be removed in 1.3. To keep the past behaviour, explicitly set `max_features='sqrt'` or remove this parameter as it is also the default value for RandomForestClassifiers and ExtraTreesClassifiers.\n",
      "  warn(\n"
     ]
    },
    {
     "name": "stdout",
     "output_type": "stream",
     "text": [
      "[CV] END bootstrap=False, max_depth=17, max_features=auto, min_samples_leaf=4, min_samples_split=50, n_estimators=466; total time=   2.5s\n"
     ]
    },
    {
     "name": "stderr",
     "output_type": "stream",
     "text": [
      "C:\\Users\\Aris Pitias\\anaconda3\\envs\\My_general_env\\lib\\site-packages\\sklearn\\ensemble\\_forest.py:424: FutureWarning: `max_features='auto'` has been deprecated in 1.1 and will be removed in 1.3. To keep the past behaviour, explicitly set `max_features='sqrt'` or remove this parameter as it is also the default value for RandomForestClassifiers and ExtraTreesClassifiers.\n",
      "  warn(\n"
     ]
    },
    {
     "name": "stdout",
     "output_type": "stream",
     "text": [
      "[CV] END bootstrap=False, max_depth=10, max_features=auto, min_samples_leaf=5, min_samples_split=50, n_estimators=400; total time=   2.0s\n"
     ]
    },
    {
     "name": "stderr",
     "output_type": "stream",
     "text": [
      "C:\\Users\\Aris Pitias\\anaconda3\\envs\\My_general_env\\lib\\site-packages\\sklearn\\ensemble\\_forest.py:424: FutureWarning: `max_features='auto'` has been deprecated in 1.1 and will be removed in 1.3. To keep the past behaviour, explicitly set `max_features='sqrt'` or remove this parameter as it is also the default value for RandomForestClassifiers and ExtraTreesClassifiers.\n",
      "  warn(\n"
     ]
    },
    {
     "name": "stdout",
     "output_type": "stream",
     "text": [
      "[CV] END bootstrap=False, max_depth=10, max_features=auto, min_samples_leaf=5, min_samples_split=50, n_estimators=400; total time=   2.1s\n"
     ]
    },
    {
     "name": "stderr",
     "output_type": "stream",
     "text": [
      "C:\\Users\\Aris Pitias\\anaconda3\\envs\\My_general_env\\lib\\site-packages\\sklearn\\ensemble\\_forest.py:424: FutureWarning: `max_features='auto'` has been deprecated in 1.1 and will be removed in 1.3. To keep the past behaviour, explicitly set `max_features='sqrt'` or remove this parameter as it is also the default value for RandomForestClassifiers and ExtraTreesClassifiers.\n",
      "  warn(\n"
     ]
    },
    {
     "name": "stdout",
     "output_type": "stream",
     "text": [
      "[CV] END bootstrap=False, max_depth=10, max_features=auto, min_samples_leaf=5, min_samples_split=50, n_estimators=400; total time=   2.0s\n",
      "[CV] END bootstrap=False, max_depth=20, max_features=sqrt, min_samples_leaf=10, min_samples_split=20, n_estimators=800; total time=   4.5s\n",
      "[CV] END bootstrap=False, max_depth=20, max_features=sqrt, min_samples_leaf=10, min_samples_split=20, n_estimators=800; total time=   4.6s\n",
      "[CV] END bootstrap=False, max_depth=20, max_features=sqrt, min_samples_leaf=10, min_samples_split=20, n_estimators=800; total time=   4.6s\n"
     ]
    },
    {
     "name": "stderr",
     "output_type": "stream",
     "text": [
      "C:\\Users\\Aris Pitias\\anaconda3\\envs\\My_general_env\\lib\\site-packages\\sklearn\\ensemble\\_forest.py:424: FutureWarning: `max_features='auto'` has been deprecated in 1.1 and will be removed in 1.3. To keep the past behaviour, explicitly set `max_features='sqrt'` or remove this parameter as it is also the default value for RandomForestClassifiers and ExtraTreesClassifiers.\n",
      "  warn(\n"
     ]
    },
    {
     "name": "stdout",
     "output_type": "stream",
     "text": [
      "[CV] END bootstrap=False, max_depth=17, max_features=auto, min_samples_leaf=3, min_samples_split=2, n_estimators=200; total time=   1.3s\n"
     ]
    },
    {
     "name": "stderr",
     "output_type": "stream",
     "text": [
      "C:\\Users\\Aris Pitias\\anaconda3\\envs\\My_general_env\\lib\\site-packages\\sklearn\\ensemble\\_forest.py:424: FutureWarning: `max_features='auto'` has been deprecated in 1.1 and will be removed in 1.3. To keep the past behaviour, explicitly set `max_features='sqrt'` or remove this parameter as it is also the default value for RandomForestClassifiers and ExtraTreesClassifiers.\n",
      "  warn(\n"
     ]
    },
    {
     "name": "stdout",
     "output_type": "stream",
     "text": [
      "[CV] END bootstrap=False, max_depth=17, max_features=auto, min_samples_leaf=3, min_samples_split=2, n_estimators=200; total time=   1.3s\n"
     ]
    },
    {
     "name": "stderr",
     "output_type": "stream",
     "text": [
      "C:\\Users\\Aris Pitias\\anaconda3\\envs\\My_general_env\\lib\\site-packages\\sklearn\\ensemble\\_forest.py:424: FutureWarning: `max_features='auto'` has been deprecated in 1.1 and will be removed in 1.3. To keep the past behaviour, explicitly set `max_features='sqrt'` or remove this parameter as it is also the default value for RandomForestClassifiers and ExtraTreesClassifiers.\n",
      "  warn(\n"
     ]
    },
    {
     "name": "stdout",
     "output_type": "stream",
     "text": [
      "[CV] END bootstrap=False, max_depth=17, max_features=auto, min_samples_leaf=3, min_samples_split=2, n_estimators=200; total time=   1.3s\n",
      "[CV] END bootstrap=True, max_depth=22, max_features=sqrt, min_samples_leaf=5, min_samples_split=30, n_estimators=333; total time=   1.4s\n",
      "[CV] END bootstrap=True, max_depth=22, max_features=sqrt, min_samples_leaf=5, min_samples_split=30, n_estimators=333; total time=   1.4s\n",
      "[CV] END bootstrap=True, max_depth=22, max_features=sqrt, min_samples_leaf=5, min_samples_split=30, n_estimators=333; total time=   1.4s\n",
      "[CV] END bootstrap=False, max_depth=22, max_features=sqrt, min_samples_leaf=7, min_samples_split=40, n_estimators=733; total time=   4.0s\n",
      "[CV] END bootstrap=False, max_depth=22, max_features=sqrt, min_samples_leaf=7, min_samples_split=40, n_estimators=733; total time=   4.1s\n",
      "[CV] END bootstrap=False, max_depth=22, max_features=sqrt, min_samples_leaf=7, min_samples_split=40, n_estimators=733; total time=   4.0s\n"
     ]
    },
    {
     "name": "stderr",
     "output_type": "stream",
     "text": [
      "C:\\Users\\Aris Pitias\\anaconda3\\envs\\My_general_env\\lib\\site-packages\\sklearn\\ensemble\\_forest.py:424: FutureWarning: `max_features='auto'` has been deprecated in 1.1 and will be removed in 1.3. To keep the past behaviour, explicitly set `max_features='sqrt'` or remove this parameter as it is also the default value for RandomForestClassifiers and ExtraTreesClassifiers.\n",
      "  warn(\n"
     ]
    },
    {
     "name": "stdout",
     "output_type": "stream",
     "text": [
      "[CV] END bootstrap=True, max_depth=18, max_features=auto, min_samples_leaf=4, min_samples_split=10, n_estimators=266; total time=   1.3s\n"
     ]
    },
    {
     "name": "stderr",
     "output_type": "stream",
     "text": [
      "C:\\Users\\Aris Pitias\\anaconda3\\envs\\My_general_env\\lib\\site-packages\\sklearn\\ensemble\\_forest.py:424: FutureWarning: `max_features='auto'` has been deprecated in 1.1 and will be removed in 1.3. To keep the past behaviour, explicitly set `max_features='sqrt'` or remove this parameter as it is also the default value for RandomForestClassifiers and ExtraTreesClassifiers.\n",
      "  warn(\n"
     ]
    },
    {
     "name": "stdout",
     "output_type": "stream",
     "text": [
      "[CV] END bootstrap=True, max_depth=18, max_features=auto, min_samples_leaf=4, min_samples_split=10, n_estimators=266; total time=   1.3s\n"
     ]
    },
    {
     "name": "stderr",
     "output_type": "stream",
     "text": [
      "C:\\Users\\Aris Pitias\\anaconda3\\envs\\My_general_env\\lib\\site-packages\\sklearn\\ensemble\\_forest.py:424: FutureWarning: `max_features='auto'` has been deprecated in 1.1 and will be removed in 1.3. To keep the past behaviour, explicitly set `max_features='sqrt'` or remove this parameter as it is also the default value for RandomForestClassifiers and ExtraTreesClassifiers.\n",
      "  warn(\n"
     ]
    },
    {
     "name": "stdout",
     "output_type": "stream",
     "text": [
      "[CV] END bootstrap=True, max_depth=18, max_features=auto, min_samples_leaf=4, min_samples_split=10, n_estimators=266; total time=   1.3s\n"
     ]
    },
    {
     "name": "stderr",
     "output_type": "stream",
     "text": [
      "C:\\Users\\Aris Pitias\\anaconda3\\envs\\My_general_env\\lib\\site-packages\\sklearn\\ensemble\\_forest.py:424: FutureWarning: `max_features='auto'` has been deprecated in 1.1 and will be removed in 1.3. To keep the past behaviour, explicitly set `max_features='sqrt'` or remove this parameter as it is also the default value for RandomForestClassifiers and ExtraTreesClassifiers.\n",
      "  warn(\n"
     ]
    },
    {
     "name": "stdout",
     "output_type": "stream",
     "text": [
      "[CV] END bootstrap=False, max_depth=17, max_features=auto, min_samples_leaf=7, min_samples_split=2, n_estimators=333; total time=   2.0s\n"
     ]
    },
    {
     "name": "stderr",
     "output_type": "stream",
     "text": [
      "C:\\Users\\Aris Pitias\\anaconda3\\envs\\My_general_env\\lib\\site-packages\\sklearn\\ensemble\\_forest.py:424: FutureWarning: `max_features='auto'` has been deprecated in 1.1 and will be removed in 1.3. To keep the past behaviour, explicitly set `max_features='sqrt'` or remove this parameter as it is also the default value for RandomForestClassifiers and ExtraTreesClassifiers.\n",
      "  warn(\n"
     ]
    },
    {
     "name": "stdout",
     "output_type": "stream",
     "text": [
      "[CV] END bootstrap=False, max_depth=17, max_features=auto, min_samples_leaf=7, min_samples_split=2, n_estimators=333; total time=   2.0s\n"
     ]
    },
    {
     "name": "stderr",
     "output_type": "stream",
     "text": [
      "C:\\Users\\Aris Pitias\\anaconda3\\envs\\My_general_env\\lib\\site-packages\\sklearn\\ensemble\\_forest.py:424: FutureWarning: `max_features='auto'` has been deprecated in 1.1 and will be removed in 1.3. To keep the past behaviour, explicitly set `max_features='sqrt'` or remove this parameter as it is also the default value for RandomForestClassifiers and ExtraTreesClassifiers.\n",
      "  warn(\n"
     ]
    },
    {
     "name": "stdout",
     "output_type": "stream",
     "text": [
      "[CV] END bootstrap=False, max_depth=17, max_features=auto, min_samples_leaf=7, min_samples_split=2, n_estimators=333; total time=   2.0s\n"
     ]
    },
    {
     "name": "stderr",
     "output_type": "stream",
     "text": [
      "C:\\Users\\Aris Pitias\\anaconda3\\envs\\My_general_env\\lib\\site-packages\\sklearn\\ensemble\\_forest.py:424: FutureWarning: `max_features='auto'` has been deprecated in 1.1 and will be removed in 1.3. To keep the past behaviour, explicitly set `max_features='sqrt'` or remove this parameter as it is also the default value for RandomForestClassifiers and ExtraTreesClassifiers.\n",
      "  warn(\n"
     ]
    },
    {
     "name": "stdout",
     "output_type": "stream",
     "text": [
      "[CV] END bootstrap=False, max_depth=20, max_features=auto, min_samples_leaf=4, min_samples_split=30, n_estimators=800; total time=   4.8s\n"
     ]
    },
    {
     "name": "stderr",
     "output_type": "stream",
     "text": [
      "C:\\Users\\Aris Pitias\\anaconda3\\envs\\My_general_env\\lib\\site-packages\\sklearn\\ensemble\\_forest.py:424: FutureWarning: `max_features='auto'` has been deprecated in 1.1 and will be removed in 1.3. To keep the past behaviour, explicitly set `max_features='sqrt'` or remove this parameter as it is also the default value for RandomForestClassifiers and ExtraTreesClassifiers.\n",
      "  warn(\n"
     ]
    },
    {
     "name": "stdout",
     "output_type": "stream",
     "text": [
      "[CV] END bootstrap=False, max_depth=20, max_features=auto, min_samples_leaf=4, min_samples_split=30, n_estimators=800; total time=   4.7s\n"
     ]
    },
    {
     "name": "stderr",
     "output_type": "stream",
     "text": [
      "C:\\Users\\Aris Pitias\\anaconda3\\envs\\My_general_env\\lib\\site-packages\\sklearn\\ensemble\\_forest.py:424: FutureWarning: `max_features='auto'` has been deprecated in 1.1 and will be removed in 1.3. To keep the past behaviour, explicitly set `max_features='sqrt'` or remove this parameter as it is also the default value for RandomForestClassifiers and ExtraTreesClassifiers.\n",
      "  warn(\n"
     ]
    },
    {
     "name": "stdout",
     "output_type": "stream",
     "text": [
      "[CV] END bootstrap=False, max_depth=20, max_features=auto, min_samples_leaf=4, min_samples_split=30, n_estimators=800; total time=   4.7s\n",
      "[CV] END bootstrap=False, max_depth=15, max_features=sqrt, min_samples_leaf=5, min_samples_split=30, n_estimators=600; total time=   3.5s\n",
      "[CV] END bootstrap=False, max_depth=15, max_features=sqrt, min_samples_leaf=5, min_samples_split=30, n_estimators=600; total time=   3.4s\n",
      "[CV] END bootstrap=False, max_depth=15, max_features=sqrt, min_samples_leaf=5, min_samples_split=30, n_estimators=600; total time=   3.4s\n",
      "[CV] END bootstrap=True, max_depth=10, max_features=sqrt, min_samples_leaf=2, min_samples_split=2, n_estimators=200; total time=   0.9s\n",
      "[CV] END bootstrap=True, max_depth=10, max_features=sqrt, min_samples_leaf=2, min_samples_split=2, n_estimators=200; total time=   0.8s\n",
      "[CV] END bootstrap=True, max_depth=10, max_features=sqrt, min_samples_leaf=2, min_samples_split=2, n_estimators=200; total time=   0.9s\n",
      "[CV] END bootstrap=True, max_depth=12, max_features=sqrt, min_samples_leaf=2, min_samples_split=2, n_estimators=266; total time=   1.3s\n",
      "[CV] END bootstrap=True, max_depth=12, max_features=sqrt, min_samples_leaf=2, min_samples_split=2, n_estimators=266; total time=   1.2s\n",
      "[CV] END bootstrap=True, max_depth=12, max_features=sqrt, min_samples_leaf=2, min_samples_split=2, n_estimators=266; total time=   1.3s\n"
     ]
    },
    {
     "name": "stderr",
     "output_type": "stream",
     "text": [
      "C:\\Users\\Aris Pitias\\anaconda3\\envs\\My_general_env\\lib\\site-packages\\sklearn\\ensemble\\_forest.py:424: FutureWarning: `max_features='auto'` has been deprecated in 1.1 and will be removed in 1.3. To keep the past behaviour, explicitly set `max_features='sqrt'` or remove this parameter as it is also the default value for RandomForestClassifiers and ExtraTreesClassifiers.\n",
      "  warn(\n"
     ]
    },
    {
     "name": "stdout",
     "output_type": "stream",
     "text": [
      "[CV] END bootstrap=True, max_depth=18, max_features=auto, min_samples_leaf=2, min_samples_split=2, n_estimators=533; total time=   3.0s\n"
     ]
    },
    {
     "name": "stderr",
     "output_type": "stream",
     "text": [
      "C:\\Users\\Aris Pitias\\anaconda3\\envs\\My_general_env\\lib\\site-packages\\sklearn\\ensemble\\_forest.py:424: FutureWarning: `max_features='auto'` has been deprecated in 1.1 and will be removed in 1.3. To keep the past behaviour, explicitly set `max_features='sqrt'` or remove this parameter as it is also the default value for RandomForestClassifiers and ExtraTreesClassifiers.\n",
      "  warn(\n"
     ]
    },
    {
     "name": "stdout",
     "output_type": "stream",
     "text": [
      "[CV] END bootstrap=True, max_depth=18, max_features=auto, min_samples_leaf=2, min_samples_split=2, n_estimators=533; total time=   2.9s\n"
     ]
    },
    {
     "name": "stderr",
     "output_type": "stream",
     "text": [
      "C:\\Users\\Aris Pitias\\anaconda3\\envs\\My_general_env\\lib\\site-packages\\sklearn\\ensemble\\_forest.py:424: FutureWarning: `max_features='auto'` has been deprecated in 1.1 and will be removed in 1.3. To keep the past behaviour, explicitly set `max_features='sqrt'` or remove this parameter as it is also the default value for RandomForestClassifiers and ExtraTreesClassifiers.\n",
      "  warn(\n"
     ]
    },
    {
     "name": "stdout",
     "output_type": "stream",
     "text": [
      "[CV] END bootstrap=True, max_depth=18, max_features=auto, min_samples_leaf=2, min_samples_split=2, n_estimators=533; total time=   2.9s\n",
      "[CV] END bootstrap=False, max_depth=20, max_features=sqrt, min_samples_leaf=7, min_samples_split=40, n_estimators=400; total time=   2.1s\n",
      "[CV] END bootstrap=False, max_depth=20, max_features=sqrt, min_samples_leaf=7, min_samples_split=40, n_estimators=400; total time=   2.1s\n",
      "[CV] END bootstrap=False, max_depth=20, max_features=sqrt, min_samples_leaf=7, min_samples_split=40, n_estimators=400; total time=   2.2s\n"
     ]
    },
    {
     "name": "stderr",
     "output_type": "stream",
     "text": [
      "C:\\Users\\Aris Pitias\\anaconda3\\envs\\My_general_env\\lib\\site-packages\\sklearn\\ensemble\\_forest.py:424: FutureWarning: `max_features='auto'` has been deprecated in 1.1 and will be removed in 1.3. To keep the past behaviour, explicitly set `max_features='sqrt'` or remove this parameter as it is also the default value for RandomForestClassifiers and ExtraTreesClassifiers.\n",
      "  warn(\n"
     ]
    },
    {
     "name": "stdout",
     "output_type": "stream",
     "text": [
      "[CV] END bootstrap=False, max_depth=17, max_features=auto, min_samples_leaf=7, min_samples_split=30, n_estimators=266; total time=   1.5s\n"
     ]
    },
    {
     "name": "stderr",
     "output_type": "stream",
     "text": [
      "C:\\Users\\Aris Pitias\\anaconda3\\envs\\My_general_env\\lib\\site-packages\\sklearn\\ensemble\\_forest.py:424: FutureWarning: `max_features='auto'` has been deprecated in 1.1 and will be removed in 1.3. To keep the past behaviour, explicitly set `max_features='sqrt'` or remove this parameter as it is also the default value for RandomForestClassifiers and ExtraTreesClassifiers.\n",
      "  warn(\n"
     ]
    },
    {
     "name": "stdout",
     "output_type": "stream",
     "text": [
      "[CV] END bootstrap=False, max_depth=17, max_features=auto, min_samples_leaf=7, min_samples_split=30, n_estimators=266; total time=   1.5s\n"
     ]
    },
    {
     "name": "stderr",
     "output_type": "stream",
     "text": [
      "C:\\Users\\Aris Pitias\\anaconda3\\envs\\My_general_env\\lib\\site-packages\\sklearn\\ensemble\\_forest.py:424: FutureWarning: `max_features='auto'` has been deprecated in 1.1 and will be removed in 1.3. To keep the past behaviour, explicitly set `max_features='sqrt'` or remove this parameter as it is also the default value for RandomForestClassifiers and ExtraTreesClassifiers.\n",
      "  warn(\n"
     ]
    },
    {
     "name": "stdout",
     "output_type": "stream",
     "text": [
      "[CV] END bootstrap=False, max_depth=17, max_features=auto, min_samples_leaf=7, min_samples_split=30, n_estimators=266; total time=   1.4s\n",
      "[CV] END bootstrap=True, max_depth=10, max_features=sqrt, min_samples_leaf=2, min_samples_split=30, n_estimators=666; total time=   2.8s\n",
      "[CV] END bootstrap=True, max_depth=10, max_features=sqrt, min_samples_leaf=2, min_samples_split=30, n_estimators=666; total time=   2.8s\n",
      "[CV] END bootstrap=True, max_depth=10, max_features=sqrt, min_samples_leaf=2, min_samples_split=30, n_estimators=666; total time=   2.8s\n",
      "[CV] END bootstrap=True, max_depth=18, max_features=sqrt, min_samples_leaf=7, min_samples_split=20, n_estimators=466; total time=   2.1s\n",
      "[CV] END bootstrap=True, max_depth=18, max_features=sqrt, min_samples_leaf=7, min_samples_split=20, n_estimators=466; total time=   2.1s\n",
      "[CV] END bootstrap=True, max_depth=18, max_features=sqrt, min_samples_leaf=7, min_samples_split=20, n_estimators=466; total time=   2.0s\n"
     ]
    },
    {
     "name": "stderr",
     "output_type": "stream",
     "text": [
      "C:\\Users\\Aris Pitias\\anaconda3\\envs\\My_general_env\\lib\\site-packages\\sklearn\\ensemble\\_forest.py:424: FutureWarning: `max_features='auto'` has been deprecated in 1.1 and will be removed in 1.3. To keep the past behaviour, explicitly set `max_features='sqrt'` or remove this parameter as it is also the default value for RandomForestClassifiers and ExtraTreesClassifiers.\n",
      "  warn(\n"
     ]
    },
    {
     "name": "stdout",
     "output_type": "stream",
     "text": [
      "[CV] END bootstrap=True, max_depth=15, max_features=auto, min_samples_leaf=10, min_samples_split=40, n_estimators=666; total time=   2.8s\n"
     ]
    },
    {
     "name": "stderr",
     "output_type": "stream",
     "text": [
      "C:\\Users\\Aris Pitias\\anaconda3\\envs\\My_general_env\\lib\\site-packages\\sklearn\\ensemble\\_forest.py:424: FutureWarning: `max_features='auto'` has been deprecated in 1.1 and will be removed in 1.3. To keep the past behaviour, explicitly set `max_features='sqrt'` or remove this parameter as it is also the default value for RandomForestClassifiers and ExtraTreesClassifiers.\n",
      "  warn(\n"
     ]
    },
    {
     "name": "stdout",
     "output_type": "stream",
     "text": [
      "[CV] END bootstrap=True, max_depth=15, max_features=auto, min_samples_leaf=10, min_samples_split=40, n_estimators=666; total time=   2.8s\n"
     ]
    },
    {
     "name": "stderr",
     "output_type": "stream",
     "text": [
      "C:\\Users\\Aris Pitias\\anaconda3\\envs\\My_general_env\\lib\\site-packages\\sklearn\\ensemble\\_forest.py:424: FutureWarning: `max_features='auto'` has been deprecated in 1.1 and will be removed in 1.3. To keep the past behaviour, explicitly set `max_features='sqrt'` or remove this parameter as it is also the default value for RandomForestClassifiers and ExtraTreesClassifiers.\n",
      "  warn(\n"
     ]
    },
    {
     "name": "stdout",
     "output_type": "stream",
     "text": [
      "[CV] END bootstrap=True, max_depth=15, max_features=auto, min_samples_leaf=10, min_samples_split=40, n_estimators=666; total time=   2.8s\n",
      "[CV] END bootstrap=False, max_depth=15, max_features=sqrt, min_samples_leaf=5, min_samples_split=10, n_estimators=400; total time=   2.5s\n",
      "[CV] END bootstrap=False, max_depth=15, max_features=sqrt, min_samples_leaf=5, min_samples_split=10, n_estimators=400; total time=   2.5s\n",
      "[CV] END bootstrap=False, max_depth=15, max_features=sqrt, min_samples_leaf=5, min_samples_split=10, n_estimators=400; total time=   2.4s\n",
      "[CV] END bootstrap=True, max_depth=18, max_features=sqrt, min_samples_leaf=2, min_samples_split=7, n_estimators=600; total time=   3.2s\n",
      "[CV] END bootstrap=True, max_depth=18, max_features=sqrt, min_samples_leaf=2, min_samples_split=7, n_estimators=600; total time=   3.1s\n",
      "[CV] END bootstrap=True, max_depth=18, max_features=sqrt, min_samples_leaf=2, min_samples_split=7, n_estimators=600; total time=   3.2s\n",
      "[CV] END bootstrap=True, max_depth=20, max_features=sqrt, min_samples_leaf=4, min_samples_split=50, n_estimators=800; total time=   3.4s\n",
      "[CV] END bootstrap=True, max_depth=20, max_features=sqrt, min_samples_leaf=4, min_samples_split=50, n_estimators=800; total time=   3.4s\n",
      "[CV] END bootstrap=True, max_depth=20, max_features=sqrt, min_samples_leaf=4, min_samples_split=50, n_estimators=800; total time=   3.3s\n"
     ]
    },
    {
     "name": "stderr",
     "output_type": "stream",
     "text": [
      "C:\\Users\\Aris Pitias\\anaconda3\\envs\\My_general_env\\lib\\site-packages\\sklearn\\ensemble\\_forest.py:424: FutureWarning: `max_features='auto'` has been deprecated in 1.1 and will be removed in 1.3. To keep the past behaviour, explicitly set `max_features='sqrt'` or remove this parameter as it is also the default value for RandomForestClassifiers and ExtraTreesClassifiers.\n",
      "  warn(\n"
     ]
    },
    {
     "name": "stdout",
     "output_type": "stream",
     "text": [
      "[CV] END bootstrap=True, max_depth=20, max_features=auto, min_samples_leaf=5, min_samples_split=2, n_estimators=733; total time=   3.6s\n"
     ]
    },
    {
     "name": "stderr",
     "output_type": "stream",
     "text": [
      "C:\\Users\\Aris Pitias\\anaconda3\\envs\\My_general_env\\lib\\site-packages\\sklearn\\ensemble\\_forest.py:424: FutureWarning: `max_features='auto'` has been deprecated in 1.1 and will be removed in 1.3. To keep the past behaviour, explicitly set `max_features='sqrt'` or remove this parameter as it is also the default value for RandomForestClassifiers and ExtraTreesClassifiers.\n",
      "  warn(\n"
     ]
    },
    {
     "name": "stdout",
     "output_type": "stream",
     "text": [
      "[CV] END bootstrap=True, max_depth=20, max_features=auto, min_samples_leaf=5, min_samples_split=2, n_estimators=733; total time=   3.6s\n"
     ]
    },
    {
     "name": "stderr",
     "output_type": "stream",
     "text": [
      "C:\\Users\\Aris Pitias\\anaconda3\\envs\\My_general_env\\lib\\site-packages\\sklearn\\ensemble\\_forest.py:424: FutureWarning: `max_features='auto'` has been deprecated in 1.1 and will be removed in 1.3. To keep the past behaviour, explicitly set `max_features='sqrt'` or remove this parameter as it is also the default value for RandomForestClassifiers and ExtraTreesClassifiers.\n",
      "  warn(\n"
     ]
    },
    {
     "name": "stdout",
     "output_type": "stream",
     "text": [
      "[CV] END bootstrap=True, max_depth=20, max_features=auto, min_samples_leaf=5, min_samples_split=2, n_estimators=733; total time=   3.6s\n",
      "[CV] END bootstrap=False, max_depth=12, max_features=sqrt, min_samples_leaf=5, min_samples_split=10, n_estimators=666; total time=   3.9s\n",
      "[CV] END bootstrap=False, max_depth=12, max_features=sqrt, min_samples_leaf=5, min_samples_split=10, n_estimators=666; total time=   3.9s\n",
      "[CV] END bootstrap=False, max_depth=12, max_features=sqrt, min_samples_leaf=5, min_samples_split=10, n_estimators=666; total time=   3.9s\n",
      "[CV] END bootstrap=False, max_depth=15, max_features=sqrt, min_samples_leaf=4, min_samples_split=10, n_estimators=533; total time=   3.4s\n",
      "[CV] END bootstrap=False, max_depth=15, max_features=sqrt, min_samples_leaf=4, min_samples_split=10, n_estimators=533; total time=   3.3s\n",
      "[CV] END bootstrap=False, max_depth=15, max_features=sqrt, min_samples_leaf=4, min_samples_split=10, n_estimators=533; total time=   3.3s\n",
      "[CV] END bootstrap=True, max_depth=17, max_features=sqrt, min_samples_leaf=10, min_samples_split=2, n_estimators=400; total time=   1.7s\n",
      "[CV] END bootstrap=True, max_depth=17, max_features=sqrt, min_samples_leaf=10, min_samples_split=2, n_estimators=400; total time=   1.7s\n",
      "[CV] END bootstrap=True, max_depth=17, max_features=sqrt, min_samples_leaf=10, min_samples_split=2, n_estimators=400; total time=   1.7s\n",
      "[CV] END bootstrap=True, max_depth=10, max_features=sqrt, min_samples_leaf=10, min_samples_split=50, n_estimators=533; total time=   2.2s\n",
      "[CV] END bootstrap=True, max_depth=10, max_features=sqrt, min_samples_leaf=10, min_samples_split=50, n_estimators=533; total time=   2.1s\n",
      "[CV] END bootstrap=True, max_depth=10, max_features=sqrt, min_samples_leaf=10, min_samples_split=50, n_estimators=533; total time=   2.1s\n",
      "[CV] END bootstrap=True, max_depth=18, max_features=sqrt, min_samples_leaf=4, min_samples_split=2, n_estimators=533; total time=   2.6s\n",
      "[CV] END bootstrap=True, max_depth=18, max_features=sqrt, min_samples_leaf=4, min_samples_split=2, n_estimators=533; total time=   2.6s\n",
      "[CV] END bootstrap=True, max_depth=18, max_features=sqrt, min_samples_leaf=4, min_samples_split=2, n_estimators=533; total time=   2.8s\n",
      "[CV] END bootstrap=False, max_depth=10, max_features=sqrt, min_samples_leaf=4, min_samples_split=5, n_estimators=533; total time=   3.0s\n",
      "[CV] END bootstrap=False, max_depth=10, max_features=sqrt, min_samples_leaf=4, min_samples_split=5, n_estimators=533; total time=   2.9s\n",
      "[CV] END bootstrap=False, max_depth=10, max_features=sqrt, min_samples_leaf=4, min_samples_split=5, n_estimators=533; total time=   2.9s\n"
     ]
    },
    {
     "name": "stderr",
     "output_type": "stream",
     "text": [
      "C:\\Users\\Aris Pitias\\anaconda3\\envs\\My_general_env\\lib\\site-packages\\sklearn\\ensemble\\_forest.py:424: FutureWarning: `max_features='auto'` has been deprecated in 1.1 and will be removed in 1.3. To keep the past behaviour, explicitly set `max_features='sqrt'` or remove this parameter as it is also the default value for RandomForestClassifiers and ExtraTreesClassifiers.\n",
      "  warn(\n"
     ]
    },
    {
     "name": "stdout",
     "output_type": "stream",
     "text": [
      "[CV] END bootstrap=True, max_depth=10, max_features=auto, min_samples_leaf=2, min_samples_split=7, n_estimators=733; total time=   3.3s\n"
     ]
    },
    {
     "name": "stderr",
     "output_type": "stream",
     "text": [
      "C:\\Users\\Aris Pitias\\anaconda3\\envs\\My_general_env\\lib\\site-packages\\sklearn\\ensemble\\_forest.py:424: FutureWarning: `max_features='auto'` has been deprecated in 1.1 and will be removed in 1.3. To keep the past behaviour, explicitly set `max_features='sqrt'` or remove this parameter as it is also the default value for RandomForestClassifiers and ExtraTreesClassifiers.\n",
      "  warn(\n"
     ]
    },
    {
     "name": "stdout",
     "output_type": "stream",
     "text": [
      "[CV] END bootstrap=True, max_depth=10, max_features=auto, min_samples_leaf=2, min_samples_split=7, n_estimators=733; total time=   3.3s\n"
     ]
    },
    {
     "name": "stderr",
     "output_type": "stream",
     "text": [
      "C:\\Users\\Aris Pitias\\anaconda3\\envs\\My_general_env\\lib\\site-packages\\sklearn\\ensemble\\_forest.py:424: FutureWarning: `max_features='auto'` has been deprecated in 1.1 and will be removed in 1.3. To keep the past behaviour, explicitly set `max_features='sqrt'` or remove this parameter as it is also the default value for RandomForestClassifiers and ExtraTreesClassifiers.\n",
      "  warn(\n"
     ]
    },
    {
     "name": "stdout",
     "output_type": "stream",
     "text": [
      "[CV] END bootstrap=True, max_depth=10, max_features=auto, min_samples_leaf=2, min_samples_split=7, n_estimators=733; total time=   3.8s\n"
     ]
    },
    {
     "name": "stderr",
     "output_type": "stream",
     "text": [
      "C:\\Users\\Aris Pitias\\anaconda3\\envs\\My_general_env\\lib\\site-packages\\sklearn\\ensemble\\_forest.py:424: FutureWarning: `max_features='auto'` has been deprecated in 1.1 and will be removed in 1.3. To keep the past behaviour, explicitly set `max_features='sqrt'` or remove this parameter as it is also the default value for RandomForestClassifiers and ExtraTreesClassifiers.\n",
      "  warn(\n"
     ]
    },
    {
     "name": "stdout",
     "output_type": "stream",
     "text": [
      "[CV] END bootstrap=False, max_depth=15, max_features=auto, min_samples_leaf=10, min_samples_split=30, n_estimators=200; total time=   1.1s\n"
     ]
    },
    {
     "name": "stderr",
     "output_type": "stream",
     "text": [
      "C:\\Users\\Aris Pitias\\anaconda3\\envs\\My_general_env\\lib\\site-packages\\sklearn\\ensemble\\_forest.py:424: FutureWarning: `max_features='auto'` has been deprecated in 1.1 and will be removed in 1.3. To keep the past behaviour, explicitly set `max_features='sqrt'` or remove this parameter as it is also the default value for RandomForestClassifiers and ExtraTreesClassifiers.\n",
      "  warn(\n"
     ]
    },
    {
     "name": "stdout",
     "output_type": "stream",
     "text": [
      "[CV] END bootstrap=False, max_depth=15, max_features=auto, min_samples_leaf=10, min_samples_split=30, n_estimators=200; total time=   1.0s\n"
     ]
    },
    {
     "name": "stderr",
     "output_type": "stream",
     "text": [
      "C:\\Users\\Aris Pitias\\anaconda3\\envs\\My_general_env\\lib\\site-packages\\sklearn\\ensemble\\_forest.py:424: FutureWarning: `max_features='auto'` has been deprecated in 1.1 and will be removed in 1.3. To keep the past behaviour, explicitly set `max_features='sqrt'` or remove this parameter as it is also the default value for RandomForestClassifiers and ExtraTreesClassifiers.\n",
      "  warn(\n"
     ]
    },
    {
     "name": "stdout",
     "output_type": "stream",
     "text": [
      "[CV] END bootstrap=False, max_depth=15, max_features=auto, min_samples_leaf=10, min_samples_split=30, n_estimators=200; total time=   1.0s\n"
     ]
    },
    {
     "name": "stderr",
     "output_type": "stream",
     "text": [
      "C:\\Users\\Aris Pitias\\anaconda3\\envs\\My_general_env\\lib\\site-packages\\sklearn\\ensemble\\_forest.py:424: FutureWarning: `max_features='auto'` has been deprecated in 1.1 and will be removed in 1.3. To keep the past behaviour, explicitly set `max_features='sqrt'` or remove this parameter as it is also the default value for RandomForestClassifiers and ExtraTreesClassifiers.\n",
      "  warn(\n"
     ]
    },
    {
     "name": "stdout",
     "output_type": "stream",
     "text": [
      "[CV] END bootstrap=False, max_depth=20, max_features=auto, min_samples_leaf=7, min_samples_split=20, n_estimators=733; total time=   4.4s\n"
     ]
    },
    {
     "name": "stderr",
     "output_type": "stream",
     "text": [
      "C:\\Users\\Aris Pitias\\anaconda3\\envs\\My_general_env\\lib\\site-packages\\sklearn\\ensemble\\_forest.py:424: FutureWarning: `max_features='auto'` has been deprecated in 1.1 and will be removed in 1.3. To keep the past behaviour, explicitly set `max_features='sqrt'` or remove this parameter as it is also the default value for RandomForestClassifiers and ExtraTreesClassifiers.\n",
      "  warn(\n"
     ]
    },
    {
     "name": "stdout",
     "output_type": "stream",
     "text": [
      "[CV] END bootstrap=False, max_depth=20, max_features=auto, min_samples_leaf=7, min_samples_split=20, n_estimators=733; total time=   4.5s\n"
     ]
    },
    {
     "name": "stderr",
     "output_type": "stream",
     "text": [
      "C:\\Users\\Aris Pitias\\anaconda3\\envs\\My_general_env\\lib\\site-packages\\sklearn\\ensemble\\_forest.py:424: FutureWarning: `max_features='auto'` has been deprecated in 1.1 and will be removed in 1.3. To keep the past behaviour, explicitly set `max_features='sqrt'` or remove this parameter as it is also the default value for RandomForestClassifiers and ExtraTreesClassifiers.\n",
      "  warn(\n"
     ]
    },
    {
     "name": "stdout",
     "output_type": "stream",
     "text": [
      "[CV] END bootstrap=False, max_depth=20, max_features=auto, min_samples_leaf=7, min_samples_split=20, n_estimators=733; total time=   5.7s\n"
     ]
    },
    {
     "name": "stderr",
     "output_type": "stream",
     "text": [
      "C:\\Users\\Aris Pitias\\anaconda3\\envs\\My_general_env\\lib\\site-packages\\sklearn\\ensemble\\_forest.py:424: FutureWarning: `max_features='auto'` has been deprecated in 1.1 and will be removed in 1.3. To keep the past behaviour, explicitly set `max_features='sqrt'` or remove this parameter as it is also the default value for RandomForestClassifiers and ExtraTreesClassifiers.\n",
      "  warn(\n"
     ]
    },
    {
     "name": "stdout",
     "output_type": "stream",
     "text": [
      "[CV] END bootstrap=True, max_depth=12, max_features=auto, min_samples_leaf=3, min_samples_split=5, n_estimators=800; total time=   4.0s\n"
     ]
    },
    {
     "name": "stderr",
     "output_type": "stream",
     "text": [
      "C:\\Users\\Aris Pitias\\anaconda3\\envs\\My_general_env\\lib\\site-packages\\sklearn\\ensemble\\_forest.py:424: FutureWarning: `max_features='auto'` has been deprecated in 1.1 and will be removed in 1.3. To keep the past behaviour, explicitly set `max_features='sqrt'` or remove this parameter as it is also the default value for RandomForestClassifiers and ExtraTreesClassifiers.\n",
      "  warn(\n"
     ]
    },
    {
     "name": "stdout",
     "output_type": "stream",
     "text": [
      "[CV] END bootstrap=True, max_depth=12, max_features=auto, min_samples_leaf=3, min_samples_split=5, n_estimators=800; total time=   4.1s\n"
     ]
    },
    {
     "name": "stderr",
     "output_type": "stream",
     "text": [
      "C:\\Users\\Aris Pitias\\anaconda3\\envs\\My_general_env\\lib\\site-packages\\sklearn\\ensemble\\_forest.py:424: FutureWarning: `max_features='auto'` has been deprecated in 1.1 and will be removed in 1.3. To keep the past behaviour, explicitly set `max_features='sqrt'` or remove this parameter as it is also the default value for RandomForestClassifiers and ExtraTreesClassifiers.\n",
      "  warn(\n"
     ]
    },
    {
     "name": "stdout",
     "output_type": "stream",
     "text": [
      "[CV] END bootstrap=True, max_depth=12, max_features=auto, min_samples_leaf=3, min_samples_split=5, n_estimators=800; total time=   4.1s\n",
      "[CV] END bootstrap=False, max_depth=15, max_features=sqrt, min_samples_leaf=2, min_samples_split=2, n_estimators=266; total time=   1.8s\n",
      "[CV] END bootstrap=False, max_depth=15, max_features=sqrt, min_samples_leaf=2, min_samples_split=2, n_estimators=266; total time=   1.8s\n",
      "[CV] END bootstrap=False, max_depth=15, max_features=sqrt, min_samples_leaf=2, min_samples_split=2, n_estimators=266; total time=   1.8s\n",
      "[CV] END bootstrap=True, max_depth=18, max_features=sqrt, min_samples_leaf=7, min_samples_split=7, n_estimators=400; total time=   1.9s\n",
      "[CV] END bootstrap=True, max_depth=18, max_features=sqrt, min_samples_leaf=7, min_samples_split=7, n_estimators=400; total time=   1.8s\n",
      "[CV] END bootstrap=True, max_depth=18, max_features=sqrt, min_samples_leaf=7, min_samples_split=7, n_estimators=400; total time=   1.9s\n"
     ]
    },
    {
     "data": {
      "text/html": [
       "<style>#sk-container-id-1 {color: black;background-color: white;}#sk-container-id-1 pre{padding: 0;}#sk-container-id-1 div.sk-toggleable {background-color: white;}#sk-container-id-1 label.sk-toggleable__label {cursor: pointer;display: block;width: 100%;margin-bottom: 0;padding: 0.3em;box-sizing: border-box;text-align: center;}#sk-container-id-1 label.sk-toggleable__label-arrow:before {content: \"▸\";float: left;margin-right: 0.25em;color: #696969;}#sk-container-id-1 label.sk-toggleable__label-arrow:hover:before {color: black;}#sk-container-id-1 div.sk-estimator:hover label.sk-toggleable__label-arrow:before {color: black;}#sk-container-id-1 div.sk-toggleable__content {max-height: 0;max-width: 0;overflow: hidden;text-align: left;background-color: #f0f8ff;}#sk-container-id-1 div.sk-toggleable__content pre {margin: 0.2em;color: black;border-radius: 0.25em;background-color: #f0f8ff;}#sk-container-id-1 input.sk-toggleable__control:checked~div.sk-toggleable__content {max-height: 200px;max-width: 100%;overflow: auto;}#sk-container-id-1 input.sk-toggleable__control:checked~label.sk-toggleable__label-arrow:before {content: \"▾\";}#sk-container-id-1 div.sk-estimator input.sk-toggleable__control:checked~label.sk-toggleable__label {background-color: #d4ebff;}#sk-container-id-1 div.sk-label input.sk-toggleable__control:checked~label.sk-toggleable__label {background-color: #d4ebff;}#sk-container-id-1 input.sk-hidden--visually {border: 0;clip: rect(1px 1px 1px 1px);clip: rect(1px, 1px, 1px, 1px);height: 1px;margin: -1px;overflow: hidden;padding: 0;position: absolute;width: 1px;}#sk-container-id-1 div.sk-estimator {font-family: monospace;background-color: #f0f8ff;border: 1px dotted black;border-radius: 0.25em;box-sizing: border-box;margin-bottom: 0.5em;}#sk-container-id-1 div.sk-estimator:hover {background-color: #d4ebff;}#sk-container-id-1 div.sk-parallel-item::after {content: \"\";width: 100%;border-bottom: 1px solid gray;flex-grow: 1;}#sk-container-id-1 div.sk-label:hover label.sk-toggleable__label {background-color: #d4ebff;}#sk-container-id-1 div.sk-serial::before {content: \"\";position: absolute;border-left: 1px solid gray;box-sizing: border-box;top: 0;bottom: 0;left: 50%;z-index: 0;}#sk-container-id-1 div.sk-serial {display: flex;flex-direction: column;align-items: center;background-color: white;padding-right: 0.2em;padding-left: 0.2em;position: relative;}#sk-container-id-1 div.sk-item {position: relative;z-index: 1;}#sk-container-id-1 div.sk-parallel {display: flex;align-items: stretch;justify-content: center;background-color: white;position: relative;}#sk-container-id-1 div.sk-item::before, #sk-container-id-1 div.sk-parallel-item::before {content: \"\";position: absolute;border-left: 1px solid gray;box-sizing: border-box;top: 0;bottom: 0;left: 50%;z-index: -1;}#sk-container-id-1 div.sk-parallel-item {display: flex;flex-direction: column;z-index: 1;position: relative;background-color: white;}#sk-container-id-1 div.sk-parallel-item:first-child::after {align-self: flex-end;width: 50%;}#sk-container-id-1 div.sk-parallel-item:last-child::after {align-self: flex-start;width: 50%;}#sk-container-id-1 div.sk-parallel-item:only-child::after {width: 0;}#sk-container-id-1 div.sk-dashed-wrapped {border: 1px dashed gray;margin: 0 0.4em 0.5em 0.4em;box-sizing: border-box;padding-bottom: 0.4em;background-color: white;}#sk-container-id-1 div.sk-label label {font-family: monospace;font-weight: bold;display: inline-block;line-height: 1.2em;}#sk-container-id-1 div.sk-label-container {text-align: center;}#sk-container-id-1 div.sk-container {/* jupyter's `normalize.less` sets `[hidden] { display: none; }` but bootstrap.min.css set `[hidden] { display: none !important; }` so we also need the `!important` here to be able to override the default hidden behavior on the sphinx rendered scikit-learn.org. See: https://github.com/scikit-learn/scikit-learn/issues/21755 */display: inline-block !important;position: relative;}#sk-container-id-1 div.sk-text-repr-fallback {display: none;}</style><div id=\"sk-container-id-1\" class=\"sk-top-container\"><div class=\"sk-text-repr-fallback\"><pre>RandomizedSearchCV(cv=3,\n",
       "                   estimator=RandomForestClassifier(class_weight={0: 1, 1: 3}),\n",
       "                   n_iter=80, n_jobs=1,\n",
       "                   param_distributions={&#x27;bootstrap&#x27;: [True, False],\n",
       "                                        &#x27;max_depth&#x27;: [10, 12, 15, 17, 18, 20,\n",
       "                                                      22],\n",
       "                                        &#x27;max_features&#x27;: [&#x27;auto&#x27;, &#x27;sqrt&#x27;],\n",
       "                                        &#x27;min_samples_leaf&#x27;: [2, 3, 4, 5, 7, 10],\n",
       "                                        &#x27;min_samples_split&#x27;: [2, 5, 7, 10, 20,\n",
       "                                                              30, 40, 50],\n",
       "                                        &#x27;n_estimators&#x27;: [200, 266, 333, 400,\n",
       "                                                         466, 533, 600, 666,\n",
       "                                                         733, 800]},\n",
       "                   scoring=&#x27;roc_auc&#x27;, verbose=2)</pre><b>In a Jupyter environment, please rerun this cell to show the HTML representation or trust the notebook. <br />On GitHub, the HTML representation is unable to render, please try loading this page with nbviewer.org.</b></div><div class=\"sk-container\" hidden><div class=\"sk-item sk-dashed-wrapped\"><div class=\"sk-label-container\"><div class=\"sk-label sk-toggleable\"><input class=\"sk-toggleable__control sk-hidden--visually\" id=\"sk-estimator-id-1\" type=\"checkbox\" ><label for=\"sk-estimator-id-1\" class=\"sk-toggleable__label sk-toggleable__label-arrow\">RandomizedSearchCV</label><div class=\"sk-toggleable__content\"><pre>RandomizedSearchCV(cv=3,\n",
       "                   estimator=RandomForestClassifier(class_weight={0: 1, 1: 3}),\n",
       "                   n_iter=80, n_jobs=1,\n",
       "                   param_distributions={&#x27;bootstrap&#x27;: [True, False],\n",
       "                                        &#x27;max_depth&#x27;: [10, 12, 15, 17, 18, 20,\n",
       "                                                      22],\n",
       "                                        &#x27;max_features&#x27;: [&#x27;auto&#x27;, &#x27;sqrt&#x27;],\n",
       "                                        &#x27;min_samples_leaf&#x27;: [2, 3, 4, 5, 7, 10],\n",
       "                                        &#x27;min_samples_split&#x27;: [2, 5, 7, 10, 20,\n",
       "                                                              30, 40, 50],\n",
       "                                        &#x27;n_estimators&#x27;: [200, 266, 333, 400,\n",
       "                                                         466, 533, 600, 666,\n",
       "                                                         733, 800]},\n",
       "                   scoring=&#x27;roc_auc&#x27;, verbose=2)</pre></div></div></div><div class=\"sk-parallel\"><div class=\"sk-parallel-item\"><div class=\"sk-item\"><div class=\"sk-label-container\"><div class=\"sk-label sk-toggleable\"><input class=\"sk-toggleable__control sk-hidden--visually\" id=\"sk-estimator-id-2\" type=\"checkbox\" ><label for=\"sk-estimator-id-2\" class=\"sk-toggleable__label sk-toggleable__label-arrow\">estimator: RandomForestClassifier</label><div class=\"sk-toggleable__content\"><pre>RandomForestClassifier(class_weight={0: 1, 1: 3})</pre></div></div></div><div class=\"sk-serial\"><div class=\"sk-item\"><div class=\"sk-estimator sk-toggleable\"><input class=\"sk-toggleable__control sk-hidden--visually\" id=\"sk-estimator-id-3\" type=\"checkbox\" ><label for=\"sk-estimator-id-3\" class=\"sk-toggleable__label sk-toggleable__label-arrow\">RandomForestClassifier</label><div class=\"sk-toggleable__content\"><pre>RandomForestClassifier(class_weight={0: 1, 1: 3})</pre></div></div></div></div></div></div></div></div></div></div>"
      ],
      "text/plain": [
       "RandomizedSearchCV(cv=3,\n",
       "                   estimator=RandomForestClassifier(class_weight={0: 1, 1: 3}),\n",
       "                   n_iter=80, n_jobs=1,\n",
       "                   param_distributions={'bootstrap': [True, False],\n",
       "                                        'max_depth': [10, 12, 15, 17, 18, 20,\n",
       "                                                      22],\n",
       "                                        'max_features': ['auto', 'sqrt'],\n",
       "                                        'min_samples_leaf': [2, 3, 4, 5, 7, 10],\n",
       "                                        'min_samples_split': [2, 5, 7, 10, 20,\n",
       "                                                              30, 40, 50],\n",
       "                                        'n_estimators': [200, 266, 333, 400,\n",
       "                                                         466, 533, 600, 666,\n",
       "                                                         733, 800]},\n",
       "                   scoring='roc_auc', verbose=2)"
      ]
     },
     "execution_count": 42,
     "metadata": {},
     "output_type": "execute_result"
    }
   ],
   "source": [
    "clf=RandomForestClassifier(n_estimators=100, class_weight={0:1,1:3})\n",
    "\n",
    "rf_rand = RandomizedSearchCV(estimator = clf, param_distributions = rf_param_grid, n_iter=80, scoring='roc_auc', cv=3,verbose=2,n_jobs=1)\n",
    "rf_rand.fit(X_train,y_train)"
   ]
  },
  {
   "cell_type": "code",
   "execution_count": 43,
   "id": "4f73b0a3",
   "metadata": {},
   "outputs": [
    {
     "data": {
      "text/plain": [
       "{'n_estimators': 266,\n",
       " 'min_samples_split': 2,\n",
       " 'min_samples_leaf': 2,\n",
       " 'max_features': 'sqrt',\n",
       " 'max_depth': 15,\n",
       " 'bootstrap': False}"
      ]
     },
     "execution_count": 43,
     "metadata": {},
     "output_type": "execute_result"
    }
   ],
   "source": [
    "# showing best parameters\n",
    "rf_rand.best_params_"
   ]
  },
  {
   "cell_type": "code",
   "execution_count": 44,
   "id": "a2d229ac",
   "metadata": {},
   "outputs": [
    {
     "name": "stdout",
     "output_type": "stream",
     "text": [
      "Accuracy: 0.8606\n",
      "Precision: 0.7981\n",
      "Recall: 0.9617\n",
      "F1: 0.8722\n",
      "              precision    recall  f1-score   support\n",
      "\n",
      "           0       0.95      0.76      0.85      1304\n",
      "           1       0.80      0.96      0.87      1278\n",
      "\n",
      "    accuracy                           0.86      2582\n",
      "   macro avg       0.88      0.86      0.86      2582\n",
      "weighted avg       0.88      0.86      0.86      2582\n",
      "\n"
     ]
    }
   ],
   "source": [
    "rf_best_param = rf_rand.best_estimator_\n",
    "y_pred = rf_best_param.predict(X_test)\n",
    "\n",
    "models.append(\"Random Forest (HT)\")\n",
    "acc_lst.append(accuracy_score(y_test, y_pred))\n",
    "prec_lst.append(precision_score(y_test, y_pred))\n",
    "recall_lst.append(recall_score(y_test, y_pred))\n",
    "f1_lst.append(f1_score(y_test, y_pred))\n",
    "\n",
    "print(\"Accuracy:\", float(format(accuracy_score(y_test, y_pred), '.4f')))\n",
    "print(\"Precision:\", float(format(precision_score(y_test, y_pred), '.4f')))\n",
    "print(\"Recall:\", float(format(recall_score(y_test, y_pred), '.4f')))\n",
    "print(\"F1:\", float(format(f1_score(y_test, y_pred), '.4f')))\n",
    "print(classification_report(y_test, y_pred))"
   ]
  },
  {
   "cell_type": "markdown",
   "id": "c4213456",
   "metadata": {},
   "source": [
    "## 10.2 XG Boost"
   ]
  },
  {
   "cell_type": "code",
   "execution_count": 46,
   "id": "7de35dd6",
   "metadata": {},
   "outputs": [],
   "source": [
    "\n",
    "xgb_param_grid = {\n",
    "    \n",
    "    'n_estimators': [int(x) for x in np.linspace(start=200,stop=800,num=10)],\n",
    "    'learning_rate': [0.05, 0.10, 0.15, 0.20, 0.25, 0.30],\n",
    "    'max_depth': [3,4,5,6,8,10,12,15], \n",
    "    'min_child_weight': [1,3,5,7],\n",
    "    'gamma': [0.0, 0.1, 0.2, 0.3, 0.4],\n",
    "    'colsample_bytree': [0.3, 0.4, 0.5, 0.7] \n",
    "}"
   ]
  },
  {
   "cell_type": "code",
   "execution_count": 47,
   "id": "b3c48920",
   "metadata": {},
   "outputs": [
    {
     "name": "stdout",
     "output_type": "stream",
     "text": [
      "Fitting 3 folds for each of 80 candidates, totalling 240 fits\n",
      "[CV] END colsample_bytree=0.4, gamma=0.1, learning_rate=0.15, max_depth=10, min_child_weight=3, n_estimators=400; total time=   0.8s\n",
      "[CV] END colsample_bytree=0.4, gamma=0.1, learning_rate=0.15, max_depth=10, min_child_weight=3, n_estimators=400; total time=   0.8s\n",
      "[CV] END colsample_bytree=0.4, gamma=0.1, learning_rate=0.15, max_depth=10, min_child_weight=3, n_estimators=400; total time=   0.8s\n",
      "[CV] END colsample_bytree=0.5, gamma=0.4, learning_rate=0.05, max_depth=15, min_child_weight=3, n_estimators=600; total time=   2.2s\n",
      "[CV] END colsample_bytree=0.5, gamma=0.4, learning_rate=0.05, max_depth=15, min_child_weight=3, n_estimators=600; total time=   2.4s\n",
      "[CV] END colsample_bytree=0.5, gamma=0.4, learning_rate=0.05, max_depth=15, min_child_weight=3, n_estimators=600; total time=   2.3s\n",
      "[CV] END colsample_bytree=0.3, gamma=0.3, learning_rate=0.25, max_depth=12, min_child_weight=1, n_estimators=400; total time=   0.9s\n",
      "[CV] END colsample_bytree=0.3, gamma=0.3, learning_rate=0.25, max_depth=12, min_child_weight=1, n_estimators=400; total time=   0.9s\n",
      "[CV] END colsample_bytree=0.3, gamma=0.3, learning_rate=0.25, max_depth=12, min_child_weight=1, n_estimators=400; total time=   0.9s\n",
      "[CV] END colsample_bytree=0.3, gamma=0.4, learning_rate=0.1, max_depth=8, min_child_weight=7, n_estimators=266; total time=   0.4s\n",
      "[CV] END colsample_bytree=0.3, gamma=0.4, learning_rate=0.1, max_depth=8, min_child_weight=7, n_estimators=266; total time=   0.4s\n",
      "[CV] END colsample_bytree=0.3, gamma=0.4, learning_rate=0.1, max_depth=8, min_child_weight=7, n_estimators=266; total time=   0.4s\n",
      "[CV] END colsample_bytree=0.5, gamma=0.0, learning_rate=0.15, max_depth=6, min_child_weight=7, n_estimators=200; total time=   0.4s\n",
      "[CV] END colsample_bytree=0.5, gamma=0.0, learning_rate=0.15, max_depth=6, min_child_weight=7, n_estimators=200; total time=   0.4s\n",
      "[CV] END colsample_bytree=0.5, gamma=0.0, learning_rate=0.15, max_depth=6, min_child_weight=7, n_estimators=200; total time=   0.4s\n",
      "[CV] END colsample_bytree=0.7, gamma=0.4, learning_rate=0.25, max_depth=4, min_child_weight=3, n_estimators=466; total time=   0.8s\n",
      "[CV] END colsample_bytree=0.7, gamma=0.4, learning_rate=0.25, max_depth=4, min_child_weight=3, n_estimators=466; total time=   0.9s\n",
      "[CV] END colsample_bytree=0.7, gamma=0.4, learning_rate=0.25, max_depth=4, min_child_weight=3, n_estimators=466; total time=   0.9s\n",
      "[CV] END colsample_bytree=0.4, gamma=0.2, learning_rate=0.3, max_depth=12, min_child_weight=7, n_estimators=266; total time=   0.8s\n",
      "[CV] END colsample_bytree=0.4, gamma=0.2, learning_rate=0.3, max_depth=12, min_child_weight=7, n_estimators=266; total time=   0.8s\n",
      "[CV] END colsample_bytree=0.4, gamma=0.2, learning_rate=0.3, max_depth=12, min_child_weight=7, n_estimators=266; total time=   0.8s\n",
      "[CV] END colsample_bytree=0.4, gamma=0.0, learning_rate=0.05, max_depth=4, min_child_weight=3, n_estimators=466; total time=   0.7s\n",
      "[CV] END colsample_bytree=0.4, gamma=0.0, learning_rate=0.05, max_depth=4, min_child_weight=3, n_estimators=466; total time=   0.6s\n",
      "[CV] END colsample_bytree=0.4, gamma=0.0, learning_rate=0.05, max_depth=4, min_child_weight=3, n_estimators=466; total time=   0.7s\n",
      "[CV] END colsample_bytree=0.3, gamma=0.1, learning_rate=0.05, max_depth=12, min_child_weight=3, n_estimators=666; total time=   1.6s\n",
      "[CV] END colsample_bytree=0.3, gamma=0.1, learning_rate=0.05, max_depth=12, min_child_weight=3, n_estimators=666; total time=   1.9s\n",
      "[CV] END colsample_bytree=0.3, gamma=0.1, learning_rate=0.05, max_depth=12, min_child_weight=3, n_estimators=666; total time=   1.8s\n",
      "[CV] END colsample_bytree=0.7, gamma=0.0, learning_rate=0.25, max_depth=6, min_child_weight=1, n_estimators=466; total time=   1.2s\n",
      "[CV] END colsample_bytree=0.7, gamma=0.0, learning_rate=0.25, max_depth=6, min_child_weight=1, n_estimators=466; total time=   1.1s\n",
      "[CV] END colsample_bytree=0.7, gamma=0.0, learning_rate=0.25, max_depth=6, min_child_weight=1, n_estimators=466; total time=   1.2s\n",
      "[CV] END colsample_bytree=0.7, gamma=0.1, learning_rate=0.15, max_depth=3, min_child_weight=1, n_estimators=733; total time=   0.9s\n",
      "[CV] END colsample_bytree=0.7, gamma=0.1, learning_rate=0.15, max_depth=3, min_child_weight=1, n_estimators=733; total time=   1.0s\n",
      "[CV] END colsample_bytree=0.7, gamma=0.1, learning_rate=0.15, max_depth=3, min_child_weight=1, n_estimators=733; total time=   1.1s\n",
      "[CV] END colsample_bytree=0.3, gamma=0.0, learning_rate=0.05, max_depth=15, min_child_weight=5, n_estimators=533; total time=   1.6s\n",
      "[CV] END colsample_bytree=0.3, gamma=0.0, learning_rate=0.05, max_depth=15, min_child_weight=5, n_estimators=533; total time=   1.5s\n",
      "[CV] END colsample_bytree=0.3, gamma=0.0, learning_rate=0.05, max_depth=15, min_child_weight=5, n_estimators=533; total time=   1.3s\n",
      "[CV] END colsample_bytree=0.5, gamma=0.2, learning_rate=0.05, max_depth=10, min_child_weight=7, n_estimators=800; total time=   2.0s\n",
      "[CV] END colsample_bytree=0.5, gamma=0.2, learning_rate=0.05, max_depth=10, min_child_weight=7, n_estimators=800; total time=   2.1s\n",
      "[CV] END colsample_bytree=0.5, gamma=0.2, learning_rate=0.05, max_depth=10, min_child_weight=7, n_estimators=800; total time=   2.1s\n",
      "[CV] END colsample_bytree=0.5, gamma=0.2, learning_rate=0.25, max_depth=3, min_child_weight=1, n_estimators=533; total time=   0.6s\n",
      "[CV] END colsample_bytree=0.5, gamma=0.2, learning_rate=0.25, max_depth=3, min_child_weight=1, n_estimators=533; total time=   0.6s\n",
      "[CV] END colsample_bytree=0.5, gamma=0.2, learning_rate=0.25, max_depth=3, min_child_weight=1, n_estimators=533; total time=   0.5s\n",
      "[CV] END colsample_bytree=0.7, gamma=0.0, learning_rate=0.25, max_depth=6, min_child_weight=1, n_estimators=400; total time=   0.9s\n",
      "[CV] END colsample_bytree=0.7, gamma=0.0, learning_rate=0.25, max_depth=6, min_child_weight=1, n_estimators=400; total time=   1.0s\n",
      "[CV] END colsample_bytree=0.7, gamma=0.0, learning_rate=0.25, max_depth=6, min_child_weight=1, n_estimators=400; total time=   1.0s\n",
      "[CV] END colsample_bytree=0.4, gamma=0.1, learning_rate=0.2, max_depth=10, min_child_weight=7, n_estimators=200; total time=   0.5s\n",
      "[CV] END colsample_bytree=0.4, gamma=0.1, learning_rate=0.2, max_depth=10, min_child_weight=7, n_estimators=200; total time=   0.5s\n",
      "[CV] END colsample_bytree=0.4, gamma=0.1, learning_rate=0.2, max_depth=10, min_child_weight=7, n_estimators=200; total time=   0.5s\n",
      "[CV] END colsample_bytree=0.3, gamma=0.3, learning_rate=0.15, max_depth=10, min_child_weight=7, n_estimators=266; total time=   0.6s\n",
      "[CV] END colsample_bytree=0.3, gamma=0.3, learning_rate=0.15, max_depth=10, min_child_weight=7, n_estimators=266; total time=   0.5s\n",
      "[CV] END colsample_bytree=0.3, gamma=0.3, learning_rate=0.15, max_depth=10, min_child_weight=7, n_estimators=266; total time=   0.5s\n",
      "[CV] END colsample_bytree=0.4, gamma=0.3, learning_rate=0.2, max_depth=6, min_child_weight=3, n_estimators=733; total time=   1.2s\n",
      "[CV] END colsample_bytree=0.4, gamma=0.3, learning_rate=0.2, max_depth=6, min_child_weight=3, n_estimators=733; total time=   1.1s\n",
      "[CV] END colsample_bytree=0.4, gamma=0.3, learning_rate=0.2, max_depth=6, min_child_weight=3, n_estimators=733; total time=   1.1s\n",
      "[CV] END colsample_bytree=0.4, gamma=0.3, learning_rate=0.15, max_depth=10, min_child_weight=1, n_estimators=200; total time=   0.5s\n",
      "[CV] END colsample_bytree=0.4, gamma=0.3, learning_rate=0.15, max_depth=10, min_child_weight=1, n_estimators=200; total time=   0.5s\n",
      "[CV] END colsample_bytree=0.4, gamma=0.3, learning_rate=0.15, max_depth=10, min_child_weight=1, n_estimators=200; total time=   0.5s\n",
      "[CV] END colsample_bytree=0.3, gamma=0.3, learning_rate=0.2, max_depth=8, min_child_weight=1, n_estimators=466; total time=   0.8s\n",
      "[CV] END colsample_bytree=0.3, gamma=0.3, learning_rate=0.2, max_depth=8, min_child_weight=1, n_estimators=466; total time=   0.8s\n",
      "[CV] END colsample_bytree=0.3, gamma=0.3, learning_rate=0.2, max_depth=8, min_child_weight=1, n_estimators=466; total time=   0.8s\n",
      "[CV] END colsample_bytree=0.5, gamma=0.1, learning_rate=0.2, max_depth=3, min_child_weight=3, n_estimators=200; total time=   0.1s\n",
      "[CV] END colsample_bytree=0.5, gamma=0.1, learning_rate=0.2, max_depth=3, min_child_weight=3, n_estimators=200; total time=   0.1s\n"
     ]
    },
    {
     "name": "stdout",
     "output_type": "stream",
     "text": [
      "[CV] END colsample_bytree=0.5, gamma=0.1, learning_rate=0.2, max_depth=3, min_child_weight=3, n_estimators=200; total time=   0.1s\n",
      "[CV] END colsample_bytree=0.4, gamma=0.2, learning_rate=0.05, max_depth=6, min_child_weight=3, n_estimators=400; total time=   0.6s\n",
      "[CV] END colsample_bytree=0.4, gamma=0.2, learning_rate=0.05, max_depth=6, min_child_weight=3, n_estimators=400; total time=   0.6s\n",
      "[CV] END colsample_bytree=0.4, gamma=0.2, learning_rate=0.05, max_depth=6, min_child_weight=3, n_estimators=400; total time=   0.7s\n",
      "[CV] END colsample_bytree=0.4, gamma=0.2, learning_rate=0.25, max_depth=4, min_child_weight=7, n_estimators=666; total time=   0.9s\n",
      "[CV] END colsample_bytree=0.4, gamma=0.2, learning_rate=0.25, max_depth=4, min_child_weight=7, n_estimators=666; total time=   0.9s\n",
      "[CV] END colsample_bytree=0.4, gamma=0.2, learning_rate=0.25, max_depth=4, min_child_weight=7, n_estimators=666; total time=   0.9s\n",
      "[CV] END colsample_bytree=0.7, gamma=0.0, learning_rate=0.25, max_depth=4, min_child_weight=1, n_estimators=466; total time=   0.8s\n",
      "[CV] END colsample_bytree=0.7, gamma=0.0, learning_rate=0.25, max_depth=4, min_child_weight=1, n_estimators=466; total time=   0.8s\n",
      "[CV] END colsample_bytree=0.7, gamma=0.0, learning_rate=0.25, max_depth=4, min_child_weight=1, n_estimators=466; total time=   0.7s\n",
      "[CV] END colsample_bytree=0.3, gamma=0.0, learning_rate=0.2, max_depth=10, min_child_weight=3, n_estimators=200; total time=   0.4s\n",
      "[CV] END colsample_bytree=0.3, gamma=0.0, learning_rate=0.2, max_depth=10, min_child_weight=3, n_estimators=200; total time=   0.4s\n",
      "[CV] END colsample_bytree=0.3, gamma=0.0, learning_rate=0.2, max_depth=10, min_child_weight=3, n_estimators=200; total time=   0.4s\n",
      "[CV] END colsample_bytree=0.7, gamma=0.4, learning_rate=0.3, max_depth=5, min_child_weight=5, n_estimators=800; total time=   1.5s\n",
      "[CV] END colsample_bytree=0.7, gamma=0.4, learning_rate=0.3, max_depth=5, min_child_weight=5, n_estimators=800; total time=   1.4s\n",
      "[CV] END colsample_bytree=0.7, gamma=0.4, learning_rate=0.3, max_depth=5, min_child_weight=5, n_estimators=800; total time=   1.5s\n",
      "[CV] END colsample_bytree=0.4, gamma=0.1, learning_rate=0.05, max_depth=8, min_child_weight=7, n_estimators=533; total time=   1.0s\n",
      "[CV] END colsample_bytree=0.4, gamma=0.1, learning_rate=0.05, max_depth=8, min_child_weight=7, n_estimators=533; total time=   1.0s\n",
      "[CV] END colsample_bytree=0.4, gamma=0.1, learning_rate=0.05, max_depth=8, min_child_weight=7, n_estimators=533; total time=   1.0s\n",
      "[CV] END colsample_bytree=0.4, gamma=0.3, learning_rate=0.25, max_depth=10, min_child_weight=5, n_estimators=666; total time=   1.8s\n",
      "[CV] END colsample_bytree=0.4, gamma=0.3, learning_rate=0.25, max_depth=10, min_child_weight=5, n_estimators=666; total time=   2.3s\n",
      "[CV] END colsample_bytree=0.4, gamma=0.3, learning_rate=0.25, max_depth=10, min_child_weight=5, n_estimators=666; total time=   1.9s\n",
      "[CV] END colsample_bytree=0.4, gamma=0.0, learning_rate=0.25, max_depth=3, min_child_weight=5, n_estimators=600; total time=   0.7s\n",
      "[CV] END colsample_bytree=0.4, gamma=0.0, learning_rate=0.25, max_depth=3, min_child_weight=5, n_estimators=600; total time=   0.6s\n",
      "[CV] END colsample_bytree=0.4, gamma=0.0, learning_rate=0.25, max_depth=3, min_child_weight=5, n_estimators=600; total time=   0.6s\n",
      "[CV] END colsample_bytree=0.4, gamma=0.0, learning_rate=0.15, max_depth=12, min_child_weight=5, n_estimators=333; total time=   0.8s\n",
      "[CV] END colsample_bytree=0.4, gamma=0.0, learning_rate=0.15, max_depth=12, min_child_weight=5, n_estimators=333; total time=   0.8s\n",
      "[CV] END colsample_bytree=0.4, gamma=0.0, learning_rate=0.15, max_depth=12, min_child_weight=5, n_estimators=333; total time=   0.8s\n",
      "[CV] END colsample_bytree=0.4, gamma=0.1, learning_rate=0.1, max_depth=3, min_child_weight=7, n_estimators=800; total time=   0.8s\n",
      "[CV] END colsample_bytree=0.4, gamma=0.1, learning_rate=0.1, max_depth=3, min_child_weight=7, n_estimators=800; total time=   0.8s\n",
      "[CV] END colsample_bytree=0.4, gamma=0.1, learning_rate=0.1, max_depth=3, min_child_weight=7, n_estimators=800; total time=   0.8s\n",
      "[CV] END colsample_bytree=0.3, gamma=0.2, learning_rate=0.1, max_depth=3, min_child_weight=5, n_estimators=333; total time=   0.3s\n",
      "[CV] END colsample_bytree=0.3, gamma=0.2, learning_rate=0.1, max_depth=3, min_child_weight=5, n_estimators=333; total time=   0.2s\n",
      "[CV] END colsample_bytree=0.3, gamma=0.2, learning_rate=0.1, max_depth=3, min_child_weight=5, n_estimators=333; total time=   0.3s\n",
      "[CV] END colsample_bytree=0.4, gamma=0.0, learning_rate=0.15, max_depth=6, min_child_weight=1, n_estimators=800; total time=   1.4s\n",
      "[CV] END colsample_bytree=0.4, gamma=0.0, learning_rate=0.15, max_depth=6, min_child_weight=1, n_estimators=800; total time=   1.6s\n",
      "[CV] END colsample_bytree=0.4, gamma=0.0, learning_rate=0.15, max_depth=6, min_child_weight=1, n_estimators=800; total time=   1.6s\n",
      "[CV] END colsample_bytree=0.5, gamma=0.3, learning_rate=0.05, max_depth=15, min_child_weight=3, n_estimators=600; total time=   2.5s\n",
      "[CV] END colsample_bytree=0.5, gamma=0.3, learning_rate=0.05, max_depth=15, min_child_weight=3, n_estimators=600; total time=   2.2s\n",
      "[CV] END colsample_bytree=0.5, gamma=0.3, learning_rate=0.05, max_depth=15, min_child_weight=3, n_estimators=600; total time=   2.2s\n",
      "[CV] END colsample_bytree=0.3, gamma=0.0, learning_rate=0.3, max_depth=15, min_child_weight=5, n_estimators=600; total time=   1.5s\n",
      "[CV] END colsample_bytree=0.3, gamma=0.0, learning_rate=0.3, max_depth=15, min_child_weight=5, n_estimators=600; total time=   1.4s\n",
      "[CV] END colsample_bytree=0.3, gamma=0.0, learning_rate=0.3, max_depth=15, min_child_weight=5, n_estimators=600; total time=   1.4s\n",
      "[CV] END colsample_bytree=0.7, gamma=0.1, learning_rate=0.15, max_depth=15, min_child_weight=1, n_estimators=466; total time=   2.5s\n",
      "[CV] END colsample_bytree=0.7, gamma=0.1, learning_rate=0.15, max_depth=15, min_child_weight=1, n_estimators=466; total time=   2.6s\n",
      "[CV] END colsample_bytree=0.7, gamma=0.1, learning_rate=0.15, max_depth=15, min_child_weight=1, n_estimators=466; total time=   2.3s\n",
      "[CV] END colsample_bytree=0.7, gamma=0.4, learning_rate=0.2, max_depth=12, min_child_weight=3, n_estimators=800; total time=   3.1s\n",
      "[CV] END colsample_bytree=0.7, gamma=0.4, learning_rate=0.2, max_depth=12, min_child_weight=3, n_estimators=800; total time=   3.1s\n",
      "[CV] END colsample_bytree=0.7, gamma=0.4, learning_rate=0.2, max_depth=12, min_child_weight=3, n_estimators=800; total time=   3.1s\n",
      "[CV] END colsample_bytree=0.4, gamma=0.2, learning_rate=0.25, max_depth=4, min_child_weight=3, n_estimators=333; total time=   0.4s\n",
      "[CV] END colsample_bytree=0.4, gamma=0.2, learning_rate=0.25, max_depth=4, min_child_weight=3, n_estimators=333; total time=   0.4s\n",
      "[CV] END colsample_bytree=0.4, gamma=0.2, learning_rate=0.25, max_depth=4, min_child_weight=3, n_estimators=333; total time=   0.4s\n",
      "[CV] END colsample_bytree=0.7, gamma=0.2, learning_rate=0.2, max_depth=15, min_child_weight=7, n_estimators=733; total time=   3.5s\n",
      "[CV] END colsample_bytree=0.7, gamma=0.2, learning_rate=0.2, max_depth=15, min_child_weight=7, n_estimators=733; total time=   3.1s\n",
      "[CV] END colsample_bytree=0.7, gamma=0.2, learning_rate=0.2, max_depth=15, min_child_weight=7, n_estimators=733; total time=   3.0s\n",
      "[CV] END colsample_bytree=0.5, gamma=0.3, learning_rate=0.15, max_depth=3, min_child_weight=1, n_estimators=533; total time=   0.5s\n",
      "[CV] END colsample_bytree=0.5, gamma=0.3, learning_rate=0.15, max_depth=3, min_child_weight=1, n_estimators=533; total time=   0.5s\n",
      "[CV] END colsample_bytree=0.5, gamma=0.3, learning_rate=0.15, max_depth=3, min_child_weight=1, n_estimators=533; total time=   0.5s\n",
      "[CV] END colsample_bytree=0.4, gamma=0.2, learning_rate=0.05, max_depth=4, min_child_weight=7, n_estimators=333; total time=   0.3s\n",
      "[CV] END colsample_bytree=0.4, gamma=0.2, learning_rate=0.05, max_depth=4, min_child_weight=7, n_estimators=333; total time=   0.3s\n",
      "[CV] END colsample_bytree=0.4, gamma=0.2, learning_rate=0.05, max_depth=4, min_child_weight=7, n_estimators=333; total time=   0.3s\n",
      "[CV] END colsample_bytree=0.4, gamma=0.0, learning_rate=0.3, max_depth=5, min_child_weight=3, n_estimators=466; total time=   0.6s\n",
      "[CV] END colsample_bytree=0.4, gamma=0.0, learning_rate=0.3, max_depth=5, min_child_weight=3, n_estimators=466; total time=   0.8s\n"
     ]
    },
    {
     "name": "stdout",
     "output_type": "stream",
     "text": [
      "[CV] END colsample_bytree=0.4, gamma=0.0, learning_rate=0.3, max_depth=5, min_child_weight=3, n_estimators=466; total time=   0.7s\n",
      "[CV] END colsample_bytree=0.7, gamma=0.1, learning_rate=0.25, max_depth=12, min_child_weight=5, n_estimators=533; total time=   2.3s\n",
      "[CV] END colsample_bytree=0.7, gamma=0.1, learning_rate=0.25, max_depth=12, min_child_weight=5, n_estimators=533; total time=   2.0s\n",
      "[CV] END colsample_bytree=0.7, gamma=0.1, learning_rate=0.25, max_depth=12, min_child_weight=5, n_estimators=533; total time=   1.9s\n",
      "[CV] END colsample_bytree=0.7, gamma=0.1, learning_rate=0.25, max_depth=4, min_child_weight=1, n_estimators=266; total time=   0.4s\n",
      "[CV] END colsample_bytree=0.7, gamma=0.1, learning_rate=0.25, max_depth=4, min_child_weight=1, n_estimators=266; total time=   0.4s\n",
      "[CV] END colsample_bytree=0.7, gamma=0.1, learning_rate=0.25, max_depth=4, min_child_weight=1, n_estimators=266; total time=   0.4s\n",
      "[CV] END colsample_bytree=0.3, gamma=0.3, learning_rate=0.3, max_depth=3, min_child_weight=1, n_estimators=200; total time=   0.1s\n",
      "[CV] END colsample_bytree=0.3, gamma=0.3, learning_rate=0.3, max_depth=3, min_child_weight=1, n_estimators=200; total time=   0.1s\n",
      "[CV] END colsample_bytree=0.3, gamma=0.3, learning_rate=0.3, max_depth=3, min_child_weight=1, n_estimators=200; total time=   0.2s\n",
      "[CV] END colsample_bytree=0.3, gamma=0.0, learning_rate=0.3, max_depth=5, min_child_weight=3, n_estimators=400; total time=   0.5s\n",
      "[CV] END colsample_bytree=0.3, gamma=0.0, learning_rate=0.3, max_depth=5, min_child_weight=3, n_estimators=400; total time=   0.5s\n",
      "[CV] END colsample_bytree=0.3, gamma=0.0, learning_rate=0.3, max_depth=5, min_child_weight=3, n_estimators=400; total time=   0.5s\n",
      "[CV] END colsample_bytree=0.4, gamma=0.0, learning_rate=0.25, max_depth=4, min_child_weight=1, n_estimators=400; total time=   0.4s\n",
      "[CV] END colsample_bytree=0.4, gamma=0.0, learning_rate=0.25, max_depth=4, min_child_weight=1, n_estimators=400; total time=   0.4s\n",
      "[CV] END colsample_bytree=0.4, gamma=0.0, learning_rate=0.25, max_depth=4, min_child_weight=1, n_estimators=400; total time=   0.4s\n",
      "[CV] END colsample_bytree=0.3, gamma=0.2, learning_rate=0.25, max_depth=10, min_child_weight=1, n_estimators=733; total time=   1.5s\n",
      "[CV] END colsample_bytree=0.3, gamma=0.2, learning_rate=0.25, max_depth=10, min_child_weight=1, n_estimators=733; total time=   1.7s\n",
      "[CV] END colsample_bytree=0.3, gamma=0.2, learning_rate=0.25, max_depth=10, min_child_weight=1, n_estimators=733; total time=   1.8s\n",
      "[CV] END colsample_bytree=0.4, gamma=0.4, learning_rate=0.1, max_depth=10, min_child_weight=5, n_estimators=400; total time=   1.1s\n",
      "[CV] END colsample_bytree=0.4, gamma=0.4, learning_rate=0.1, max_depth=10, min_child_weight=5, n_estimators=400; total time=   0.9s\n",
      "[CV] END colsample_bytree=0.4, gamma=0.4, learning_rate=0.1, max_depth=10, min_child_weight=5, n_estimators=400; total time=   0.9s\n",
      "[CV] END colsample_bytree=0.7, gamma=0.0, learning_rate=0.05, max_depth=3, min_child_weight=5, n_estimators=466; total time=   0.6s\n",
      "[CV] END colsample_bytree=0.7, gamma=0.0, learning_rate=0.05, max_depth=3, min_child_weight=5, n_estimators=466; total time=   0.6s\n",
      "[CV] END colsample_bytree=0.7, gamma=0.0, learning_rate=0.05, max_depth=3, min_child_weight=5, n_estimators=466; total time=   0.6s\n",
      "[CV] END colsample_bytree=0.7, gamma=0.4, learning_rate=0.15, max_depth=5, min_child_weight=5, n_estimators=666; total time=   1.2s\n",
      "[CV] END colsample_bytree=0.7, gamma=0.4, learning_rate=0.15, max_depth=5, min_child_weight=5, n_estimators=666; total time=   1.2s\n",
      "[CV] END colsample_bytree=0.7, gamma=0.4, learning_rate=0.15, max_depth=5, min_child_weight=5, n_estimators=666; total time=   1.2s\n",
      "[CV] END colsample_bytree=0.4, gamma=0.1, learning_rate=0.2, max_depth=5, min_child_weight=3, n_estimators=733; total time=   1.1s\n",
      "[CV] END colsample_bytree=0.4, gamma=0.1, learning_rate=0.2, max_depth=5, min_child_weight=3, n_estimators=733; total time=   1.1s\n",
      "[CV] END colsample_bytree=0.4, gamma=0.1, learning_rate=0.2, max_depth=5, min_child_weight=3, n_estimators=733; total time=   1.0s\n",
      "[CV] END colsample_bytree=0.5, gamma=0.0, learning_rate=0.3, max_depth=15, min_child_weight=3, n_estimators=733; total time=   2.8s\n",
      "[CV] END colsample_bytree=0.5, gamma=0.0, learning_rate=0.3, max_depth=15, min_child_weight=3, n_estimators=733; total time=   2.6s\n",
      "[CV] END colsample_bytree=0.5, gamma=0.0, learning_rate=0.3, max_depth=15, min_child_weight=3, n_estimators=733; total time=   2.4s\n",
      "[CV] END colsample_bytree=0.5, gamma=0.3, learning_rate=0.3, max_depth=15, min_child_weight=1, n_estimators=200; total time=   0.8s\n",
      "[CV] END colsample_bytree=0.5, gamma=0.3, learning_rate=0.3, max_depth=15, min_child_weight=1, n_estimators=200; total time=   0.7s\n",
      "[CV] END colsample_bytree=0.5, gamma=0.3, learning_rate=0.3, max_depth=15, min_child_weight=1, n_estimators=200; total time=   0.7s\n",
      "[CV] END colsample_bytree=0.5, gamma=0.4, learning_rate=0.15, max_depth=10, min_child_weight=7, n_estimators=400; total time=   1.0s\n",
      "[CV] END colsample_bytree=0.5, gamma=0.4, learning_rate=0.15, max_depth=10, min_child_weight=7, n_estimators=400; total time=   1.0s\n",
      "[CV] END colsample_bytree=0.5, gamma=0.4, learning_rate=0.15, max_depth=10, min_child_weight=7, n_estimators=400; total time=   1.0s\n",
      "[CV] END colsample_bytree=0.4, gamma=0.3, learning_rate=0.05, max_depth=4, min_child_weight=1, n_estimators=266; total time=   0.3s\n",
      "[CV] END colsample_bytree=0.4, gamma=0.3, learning_rate=0.05, max_depth=4, min_child_weight=1, n_estimators=266; total time=   0.3s\n",
      "[CV] END colsample_bytree=0.4, gamma=0.3, learning_rate=0.05, max_depth=4, min_child_weight=1, n_estimators=266; total time=   0.3s\n",
      "[CV] END colsample_bytree=0.5, gamma=0.2, learning_rate=0.2, max_depth=4, min_child_weight=5, n_estimators=600; total time=   0.8s\n",
      "[CV] END colsample_bytree=0.5, gamma=0.2, learning_rate=0.2, max_depth=4, min_child_weight=5, n_estimators=600; total time=   0.9s\n",
      "[CV] END colsample_bytree=0.5, gamma=0.2, learning_rate=0.2, max_depth=4, min_child_weight=5, n_estimators=600; total time=   0.9s\n",
      "[CV] END colsample_bytree=0.3, gamma=0.2, learning_rate=0.2, max_depth=15, min_child_weight=5, n_estimators=266; total time=   0.7s\n",
      "[CV] END colsample_bytree=0.3, gamma=0.2, learning_rate=0.2, max_depth=15, min_child_weight=5, n_estimators=266; total time=   0.7s\n",
      "[CV] END colsample_bytree=0.3, gamma=0.2, learning_rate=0.2, max_depth=15, min_child_weight=5, n_estimators=266; total time=   0.8s\n",
      "[CV] END colsample_bytree=0.7, gamma=0.4, learning_rate=0.2, max_depth=12, min_child_weight=1, n_estimators=666; total time=   2.7s\n",
      "[CV] END colsample_bytree=0.7, gamma=0.4, learning_rate=0.2, max_depth=12, min_child_weight=1, n_estimators=666; total time=   2.7s\n",
      "[CV] END colsample_bytree=0.7, gamma=0.4, learning_rate=0.2, max_depth=12, min_child_weight=1, n_estimators=666; total time=   2.7s\n",
      "[CV] END colsample_bytree=0.3, gamma=0.0, learning_rate=0.2, max_depth=12, min_child_weight=7, n_estimators=200; total time=   0.4s\n",
      "[CV] END colsample_bytree=0.3, gamma=0.0, learning_rate=0.2, max_depth=12, min_child_weight=7, n_estimators=200; total time=   0.4s\n",
      "[CV] END colsample_bytree=0.3, gamma=0.0, learning_rate=0.2, max_depth=12, min_child_weight=7, n_estimators=200; total time=   0.3s\n",
      "[CV] END colsample_bytree=0.3, gamma=0.2, learning_rate=0.25, max_depth=15, min_child_weight=3, n_estimators=333; total time=   0.8s\n",
      "[CV] END colsample_bytree=0.3, gamma=0.2, learning_rate=0.25, max_depth=15, min_child_weight=3, n_estimators=333; total time=   0.8s\n",
      "[CV] END colsample_bytree=0.3, gamma=0.2, learning_rate=0.25, max_depth=15, min_child_weight=3, n_estimators=333; total time=   0.9s\n",
      "[CV] END colsample_bytree=0.4, gamma=0.1, learning_rate=0.1, max_depth=5, min_child_weight=3, n_estimators=466; total time=   0.7s\n",
      "[CV] END colsample_bytree=0.4, gamma=0.1, learning_rate=0.1, max_depth=5, min_child_weight=3, n_estimators=466; total time=   0.8s\n",
      "[CV] END colsample_bytree=0.4, gamma=0.1, learning_rate=0.1, max_depth=5, min_child_weight=3, n_estimators=466; total time=   0.8s\n",
      "[CV] END colsample_bytree=0.4, gamma=0.0, learning_rate=0.1, max_depth=4, min_child_weight=5, n_estimators=266; total time=   0.3s\n",
      "[CV] END colsample_bytree=0.4, gamma=0.0, learning_rate=0.1, max_depth=4, min_child_weight=5, n_estimators=266; total time=   0.3s\n"
     ]
    },
    {
     "name": "stdout",
     "output_type": "stream",
     "text": [
      "[CV] END colsample_bytree=0.4, gamma=0.0, learning_rate=0.1, max_depth=4, min_child_weight=5, n_estimators=266; total time=   0.3s\n",
      "[CV] END colsample_bytree=0.5, gamma=0.2, learning_rate=0.2, max_depth=4, min_child_weight=3, n_estimators=733; total time=   1.0s\n",
      "[CV] END colsample_bytree=0.5, gamma=0.2, learning_rate=0.2, max_depth=4, min_child_weight=3, n_estimators=733; total time=   0.9s\n",
      "[CV] END colsample_bytree=0.5, gamma=0.2, learning_rate=0.2, max_depth=4, min_child_weight=3, n_estimators=733; total time=   1.0s\n",
      "[CV] END colsample_bytree=0.3, gamma=0.2, learning_rate=0.2, max_depth=10, min_child_weight=3, n_estimators=533; total time=   1.2s\n",
      "[CV] END colsample_bytree=0.3, gamma=0.2, learning_rate=0.2, max_depth=10, min_child_weight=3, n_estimators=533; total time=   1.3s\n",
      "[CV] END colsample_bytree=0.3, gamma=0.2, learning_rate=0.2, max_depth=10, min_child_weight=3, n_estimators=533; total time=   1.1s\n",
      "[CV] END colsample_bytree=0.3, gamma=0.4, learning_rate=0.1, max_depth=12, min_child_weight=1, n_estimators=800; total time=   1.9s\n",
      "[CV] END colsample_bytree=0.3, gamma=0.4, learning_rate=0.1, max_depth=12, min_child_weight=1, n_estimators=800; total time=   1.9s\n",
      "[CV] END colsample_bytree=0.3, gamma=0.4, learning_rate=0.1, max_depth=12, min_child_weight=1, n_estimators=800; total time=   2.3s\n",
      "[CV] END colsample_bytree=0.3, gamma=0.2, learning_rate=0.25, max_depth=3, min_child_weight=5, n_estimators=466; total time=   0.5s\n",
      "[CV] END colsample_bytree=0.3, gamma=0.2, learning_rate=0.25, max_depth=3, min_child_weight=5, n_estimators=466; total time=   0.4s\n",
      "[CV] END colsample_bytree=0.3, gamma=0.2, learning_rate=0.25, max_depth=3, min_child_weight=5, n_estimators=466; total time=   0.5s\n",
      "[CV] END colsample_bytree=0.4, gamma=0.0, learning_rate=0.05, max_depth=3, min_child_weight=1, n_estimators=733; total time=   0.8s\n",
      "[CV] END colsample_bytree=0.4, gamma=0.0, learning_rate=0.05, max_depth=3, min_child_weight=1, n_estimators=733; total time=   0.7s\n",
      "[CV] END colsample_bytree=0.4, gamma=0.0, learning_rate=0.05, max_depth=3, min_child_weight=1, n_estimators=733; total time=   0.7s\n",
      "[CV] END colsample_bytree=0.3, gamma=0.2, learning_rate=0.05, max_depth=10, min_child_weight=1, n_estimators=400; total time=   0.9s\n",
      "[CV] END colsample_bytree=0.3, gamma=0.2, learning_rate=0.05, max_depth=10, min_child_weight=1, n_estimators=400; total time=   0.8s\n",
      "[CV] END colsample_bytree=0.3, gamma=0.2, learning_rate=0.05, max_depth=10, min_child_weight=1, n_estimators=400; total time=   0.9s\n",
      "[CV] END colsample_bytree=0.3, gamma=0.2, learning_rate=0.15, max_depth=4, min_child_weight=3, n_estimators=466; total time=   0.5s\n",
      "[CV] END colsample_bytree=0.3, gamma=0.2, learning_rate=0.15, max_depth=4, min_child_weight=3, n_estimators=466; total time=   0.5s\n",
      "[CV] END colsample_bytree=0.3, gamma=0.2, learning_rate=0.15, max_depth=4, min_child_weight=3, n_estimators=466; total time=   0.5s\n",
      "[CV] END colsample_bytree=0.7, gamma=0.4, learning_rate=0.05, max_depth=5, min_child_weight=5, n_estimators=266; total time=   0.5s\n",
      "[CV] END colsample_bytree=0.7, gamma=0.4, learning_rate=0.05, max_depth=5, min_child_weight=5, n_estimators=266; total time=   0.5s\n",
      "[CV] END colsample_bytree=0.7, gamma=0.4, learning_rate=0.05, max_depth=5, min_child_weight=5, n_estimators=266; total time=   0.5s\n",
      "[CV] END colsample_bytree=0.4, gamma=0.1, learning_rate=0.25, max_depth=15, min_child_weight=3, n_estimators=666; total time=   2.0s\n",
      "[CV] END colsample_bytree=0.4, gamma=0.1, learning_rate=0.25, max_depth=15, min_child_weight=3, n_estimators=666; total time=   2.2s\n",
      "[CV] END colsample_bytree=0.4, gamma=0.1, learning_rate=0.25, max_depth=15, min_child_weight=3, n_estimators=666; total time=   2.3s\n",
      "[CV] END colsample_bytree=0.7, gamma=0.0, learning_rate=0.25, max_depth=10, min_child_weight=3, n_estimators=400; total time=   1.4s\n",
      "[CV] END colsample_bytree=0.7, gamma=0.0, learning_rate=0.25, max_depth=10, min_child_weight=3, n_estimators=400; total time=   1.3s\n",
      "[CV] END colsample_bytree=0.7, gamma=0.0, learning_rate=0.25, max_depth=10, min_child_weight=3, n_estimators=400; total time=   1.3s\n",
      "[CV] END colsample_bytree=0.3, gamma=0.2, learning_rate=0.3, max_depth=5, min_child_weight=3, n_estimators=200; total time=   0.2s\n",
      "[CV] END colsample_bytree=0.3, gamma=0.2, learning_rate=0.3, max_depth=5, min_child_weight=3, n_estimators=200; total time=   0.2s\n",
      "[CV] END colsample_bytree=0.3, gamma=0.2, learning_rate=0.3, max_depth=5, min_child_weight=3, n_estimators=200; total time=   0.2s\n",
      "[CV] END colsample_bytree=0.3, gamma=0.1, learning_rate=0.25, max_depth=8, min_child_weight=1, n_estimators=533; total time=   0.9s\n",
      "[CV] END colsample_bytree=0.3, gamma=0.1, learning_rate=0.25, max_depth=8, min_child_weight=1, n_estimators=533; total time=   1.1s\n",
      "[CV] END colsample_bytree=0.3, gamma=0.1, learning_rate=0.25, max_depth=8, min_child_weight=1, n_estimators=533; total time=   1.0s\n",
      "[CV] END colsample_bytree=0.5, gamma=0.0, learning_rate=0.1, max_depth=5, min_child_weight=7, n_estimators=400; total time=   0.6s\n",
      "[CV] END colsample_bytree=0.5, gamma=0.0, learning_rate=0.1, max_depth=5, min_child_weight=7, n_estimators=400; total time=   0.6s\n",
      "[CV] END colsample_bytree=0.5, gamma=0.0, learning_rate=0.1, max_depth=5, min_child_weight=7, n_estimators=400; total time=   0.6s\n",
      "[CV] END colsample_bytree=0.5, gamma=0.4, learning_rate=0.3, max_depth=15, min_child_weight=3, n_estimators=400; total time=   1.4s\n",
      "[CV] END colsample_bytree=0.5, gamma=0.4, learning_rate=0.3, max_depth=15, min_child_weight=3, n_estimators=400; total time=   1.6s\n",
      "[CV] END colsample_bytree=0.5, gamma=0.4, learning_rate=0.3, max_depth=15, min_child_weight=3, n_estimators=400; total time=   1.6s\n",
      "[CV] END colsample_bytree=0.7, gamma=0.3, learning_rate=0.2, max_depth=6, min_child_weight=3, n_estimators=333; total time=   0.8s\n",
      "[CV] END colsample_bytree=0.7, gamma=0.3, learning_rate=0.2, max_depth=6, min_child_weight=3, n_estimators=333; total time=   0.7s\n",
      "[CV] END colsample_bytree=0.7, gamma=0.3, learning_rate=0.2, max_depth=6, min_child_weight=3, n_estimators=333; total time=   0.7s\n",
      "[CV] END colsample_bytree=0.4, gamma=0.0, learning_rate=0.05, max_depth=5, min_child_weight=1, n_estimators=400; total time=   0.5s\n",
      "[CV] END colsample_bytree=0.4, gamma=0.0, learning_rate=0.05, max_depth=5, min_child_weight=1, n_estimators=400; total time=   0.6s\n",
      "[CV] END colsample_bytree=0.4, gamma=0.0, learning_rate=0.05, max_depth=5, min_child_weight=1, n_estimators=400; total time=   0.5s\n",
      "[CV] END colsample_bytree=0.3, gamma=0.0, learning_rate=0.25, max_depth=6, min_child_weight=7, n_estimators=800; total time=   1.1s\n",
      "[CV] END colsample_bytree=0.3, gamma=0.0, learning_rate=0.25, max_depth=6, min_child_weight=7, n_estimators=800; total time=   1.2s\n",
      "[CV] END colsample_bytree=0.3, gamma=0.0, learning_rate=0.25, max_depth=6, min_child_weight=7, n_estimators=800; total time=   1.2s\n"
     ]
    },
    {
     "data": {
      "text/html": [
       "<style>#sk-container-id-2 {color: black;background-color: white;}#sk-container-id-2 pre{padding: 0;}#sk-container-id-2 div.sk-toggleable {background-color: white;}#sk-container-id-2 label.sk-toggleable__label {cursor: pointer;display: block;width: 100%;margin-bottom: 0;padding: 0.3em;box-sizing: border-box;text-align: center;}#sk-container-id-2 label.sk-toggleable__label-arrow:before {content: \"▸\";float: left;margin-right: 0.25em;color: #696969;}#sk-container-id-2 label.sk-toggleable__label-arrow:hover:before {color: black;}#sk-container-id-2 div.sk-estimator:hover label.sk-toggleable__label-arrow:before {color: black;}#sk-container-id-2 div.sk-toggleable__content {max-height: 0;max-width: 0;overflow: hidden;text-align: left;background-color: #f0f8ff;}#sk-container-id-2 div.sk-toggleable__content pre {margin: 0.2em;color: black;border-radius: 0.25em;background-color: #f0f8ff;}#sk-container-id-2 input.sk-toggleable__control:checked~div.sk-toggleable__content {max-height: 200px;max-width: 100%;overflow: auto;}#sk-container-id-2 input.sk-toggleable__control:checked~label.sk-toggleable__label-arrow:before {content: \"▾\";}#sk-container-id-2 div.sk-estimator input.sk-toggleable__control:checked~label.sk-toggleable__label {background-color: #d4ebff;}#sk-container-id-2 div.sk-label input.sk-toggleable__control:checked~label.sk-toggleable__label {background-color: #d4ebff;}#sk-container-id-2 input.sk-hidden--visually {border: 0;clip: rect(1px 1px 1px 1px);clip: rect(1px, 1px, 1px, 1px);height: 1px;margin: -1px;overflow: hidden;padding: 0;position: absolute;width: 1px;}#sk-container-id-2 div.sk-estimator {font-family: monospace;background-color: #f0f8ff;border: 1px dotted black;border-radius: 0.25em;box-sizing: border-box;margin-bottom: 0.5em;}#sk-container-id-2 div.sk-estimator:hover {background-color: #d4ebff;}#sk-container-id-2 div.sk-parallel-item::after {content: \"\";width: 100%;border-bottom: 1px solid gray;flex-grow: 1;}#sk-container-id-2 div.sk-label:hover label.sk-toggleable__label {background-color: #d4ebff;}#sk-container-id-2 div.sk-serial::before {content: \"\";position: absolute;border-left: 1px solid gray;box-sizing: border-box;top: 0;bottom: 0;left: 50%;z-index: 0;}#sk-container-id-2 div.sk-serial {display: flex;flex-direction: column;align-items: center;background-color: white;padding-right: 0.2em;padding-left: 0.2em;position: relative;}#sk-container-id-2 div.sk-item {position: relative;z-index: 1;}#sk-container-id-2 div.sk-parallel {display: flex;align-items: stretch;justify-content: center;background-color: white;position: relative;}#sk-container-id-2 div.sk-item::before, #sk-container-id-2 div.sk-parallel-item::before {content: \"\";position: absolute;border-left: 1px solid gray;box-sizing: border-box;top: 0;bottom: 0;left: 50%;z-index: -1;}#sk-container-id-2 div.sk-parallel-item {display: flex;flex-direction: column;z-index: 1;position: relative;background-color: white;}#sk-container-id-2 div.sk-parallel-item:first-child::after {align-self: flex-end;width: 50%;}#sk-container-id-2 div.sk-parallel-item:last-child::after {align-self: flex-start;width: 50%;}#sk-container-id-2 div.sk-parallel-item:only-child::after {width: 0;}#sk-container-id-2 div.sk-dashed-wrapped {border: 1px dashed gray;margin: 0 0.4em 0.5em 0.4em;box-sizing: border-box;padding-bottom: 0.4em;background-color: white;}#sk-container-id-2 div.sk-label label {font-family: monospace;font-weight: bold;display: inline-block;line-height: 1.2em;}#sk-container-id-2 div.sk-label-container {text-align: center;}#sk-container-id-2 div.sk-container {/* jupyter's `normalize.less` sets `[hidden] { display: none; }` but bootstrap.min.css set `[hidden] { display: none !important; }` so we also need the `!important` here to be able to override the default hidden behavior on the sphinx rendered scikit-learn.org. See: https://github.com/scikit-learn/scikit-learn/issues/21755 */display: inline-block !important;position: relative;}#sk-container-id-2 div.sk-text-repr-fallback {display: none;}</style><div id=\"sk-container-id-2\" class=\"sk-top-container\"><div class=\"sk-text-repr-fallback\"><pre>RandomizedSearchCV(cv=3,\n",
       "                   estimator=XGBClassifier(base_score=None, booster=None,\n",
       "                                           callbacks=None,\n",
       "                                           colsample_bylevel=None,\n",
       "                                           colsample_bynode=None,\n",
       "                                           colsample_bytree=None,\n",
       "                                           early_stopping_rounds=None,\n",
       "                                           enable_categorical=False,\n",
       "                                           eval_metric=None, feature_types=None,\n",
       "                                           gamma=None, gpu_id=None,\n",
       "                                           grow_policy=None,\n",
       "                                           importance_type=None,\n",
       "                                           interaction_constraints=None,\n",
       "                                           learning_rate...\n",
       "                                           num_parallel_tree=None,\n",
       "                                           predictor=None, random_state=None, ...),\n",
       "                   n_iter=80, n_jobs=1,\n",
       "                   param_distributions={&#x27;colsample_bytree&#x27;: [0.3, 0.4, 0.5,\n",
       "                                                             0.7],\n",
       "                                        &#x27;gamma&#x27;: [0.0, 0.1, 0.2, 0.3, 0.4],\n",
       "                                        &#x27;learning_rate&#x27;: [0.05, 0.1, 0.15, 0.2,\n",
       "                                                          0.25, 0.3],\n",
       "                                        &#x27;max_depth&#x27;: [3, 4, 5, 6, 8, 10, 12,\n",
       "                                                      15],\n",
       "                                        &#x27;min_child_weight&#x27;: [1, 3, 5, 7],\n",
       "                                        &#x27;n_estimators&#x27;: [200, 266, 333, 400,\n",
       "                                                         466, 533, 600, 666,\n",
       "                                                         733, 800]},\n",
       "                   scoring=&#x27;roc_auc&#x27;, verbose=2)</pre><b>In a Jupyter environment, please rerun this cell to show the HTML representation or trust the notebook. <br />On GitHub, the HTML representation is unable to render, please try loading this page with nbviewer.org.</b></div><div class=\"sk-container\" hidden><div class=\"sk-item sk-dashed-wrapped\"><div class=\"sk-label-container\"><div class=\"sk-label sk-toggleable\"><input class=\"sk-toggleable__control sk-hidden--visually\" id=\"sk-estimator-id-4\" type=\"checkbox\" ><label for=\"sk-estimator-id-4\" class=\"sk-toggleable__label sk-toggleable__label-arrow\">RandomizedSearchCV</label><div class=\"sk-toggleable__content\"><pre>RandomizedSearchCV(cv=3,\n",
       "                   estimator=XGBClassifier(base_score=None, booster=None,\n",
       "                                           callbacks=None,\n",
       "                                           colsample_bylevel=None,\n",
       "                                           colsample_bynode=None,\n",
       "                                           colsample_bytree=None,\n",
       "                                           early_stopping_rounds=None,\n",
       "                                           enable_categorical=False,\n",
       "                                           eval_metric=None, feature_types=None,\n",
       "                                           gamma=None, gpu_id=None,\n",
       "                                           grow_policy=None,\n",
       "                                           importance_type=None,\n",
       "                                           interaction_constraints=None,\n",
       "                                           learning_rate...\n",
       "                                           num_parallel_tree=None,\n",
       "                                           predictor=None, random_state=None, ...),\n",
       "                   n_iter=80, n_jobs=1,\n",
       "                   param_distributions={&#x27;colsample_bytree&#x27;: [0.3, 0.4, 0.5,\n",
       "                                                             0.7],\n",
       "                                        &#x27;gamma&#x27;: [0.0, 0.1, 0.2, 0.3, 0.4],\n",
       "                                        &#x27;learning_rate&#x27;: [0.05, 0.1, 0.15, 0.2,\n",
       "                                                          0.25, 0.3],\n",
       "                                        &#x27;max_depth&#x27;: [3, 4, 5, 6, 8, 10, 12,\n",
       "                                                      15],\n",
       "                                        &#x27;min_child_weight&#x27;: [1, 3, 5, 7],\n",
       "                                        &#x27;n_estimators&#x27;: [200, 266, 333, 400,\n",
       "                                                         466, 533, 600, 666,\n",
       "                                                         733, 800]},\n",
       "                   scoring=&#x27;roc_auc&#x27;, verbose=2)</pre></div></div></div><div class=\"sk-parallel\"><div class=\"sk-parallel-item\"><div class=\"sk-item\"><div class=\"sk-label-container\"><div class=\"sk-label sk-toggleable\"><input class=\"sk-toggleable__control sk-hidden--visually\" id=\"sk-estimator-id-5\" type=\"checkbox\" ><label for=\"sk-estimator-id-5\" class=\"sk-toggleable__label sk-toggleable__label-arrow\">estimator: XGBClassifier</label><div class=\"sk-toggleable__content\"><pre>XGBClassifier(base_score=None, booster=None, callbacks=None,\n",
       "              colsample_bylevel=None, colsample_bynode=None,\n",
       "              colsample_bytree=None, early_stopping_rounds=None,\n",
       "              enable_categorical=False, eval_metric=None, feature_types=None,\n",
       "              gamma=None, gpu_id=None, grow_policy=None, importance_type=None,\n",
       "              interaction_constraints=None, learning_rate=None, max_bin=None,\n",
       "              max_cat_threshold=None, max_cat_to_onehot=None,\n",
       "              max_delta_step=None, max_depth=None, max_leaves=None,\n",
       "              min_child_weight=None, missing=nan, monotone_constraints=None,\n",
       "              n_estimators=100, n_jobs=None, num_parallel_tree=None,\n",
       "              predictor=None, random_state=None, ...)</pre></div></div></div><div class=\"sk-serial\"><div class=\"sk-item\"><div class=\"sk-estimator sk-toggleable\"><input class=\"sk-toggleable__control sk-hidden--visually\" id=\"sk-estimator-id-6\" type=\"checkbox\" ><label for=\"sk-estimator-id-6\" class=\"sk-toggleable__label sk-toggleable__label-arrow\">XGBClassifier</label><div class=\"sk-toggleable__content\"><pre>XGBClassifier(base_score=None, booster=None, callbacks=None,\n",
       "              colsample_bylevel=None, colsample_bynode=None,\n",
       "              colsample_bytree=None, early_stopping_rounds=None,\n",
       "              enable_categorical=False, eval_metric=None, feature_types=None,\n",
       "              gamma=None, gpu_id=None, grow_policy=None, importance_type=None,\n",
       "              interaction_constraints=None, learning_rate=None, max_bin=None,\n",
       "              max_cat_threshold=None, max_cat_to_onehot=None,\n",
       "              max_delta_step=None, max_depth=None, max_leaves=None,\n",
       "              min_child_weight=None, missing=nan, monotone_constraints=None,\n",
       "              n_estimators=100, n_jobs=None, num_parallel_tree=None,\n",
       "              predictor=None, random_state=None, ...)</pre></div></div></div></div></div></div></div></div></div></div>"
      ],
      "text/plain": [
       "RandomizedSearchCV(cv=3,\n",
       "                   estimator=XGBClassifier(base_score=None, booster=None,\n",
       "                                           callbacks=None,\n",
       "                                           colsample_bylevel=None,\n",
       "                                           colsample_bynode=None,\n",
       "                                           colsample_bytree=None,\n",
       "                                           early_stopping_rounds=None,\n",
       "                                           enable_categorical=False,\n",
       "                                           eval_metric=None, feature_types=None,\n",
       "                                           gamma=None, gpu_id=None,\n",
       "                                           grow_policy=None,\n",
       "                                           importance_type=None,\n",
       "                                           interaction_constraints=None,\n",
       "                                           learning_rate...\n",
       "                                           num_parallel_tree=None,\n",
       "                                           predictor=None, random_state=None, ...),\n",
       "                   n_iter=80, n_jobs=1,\n",
       "                   param_distributions={'colsample_bytree': [0.3, 0.4, 0.5,\n",
       "                                                             0.7],\n",
       "                                        'gamma': [0.0, 0.1, 0.2, 0.3, 0.4],\n",
       "                                        'learning_rate': [0.05, 0.1, 0.15, 0.2,\n",
       "                                                          0.25, 0.3],\n",
       "                                        'max_depth': [3, 4, 5, 6, 8, 10, 12,\n",
       "                                                      15],\n",
       "                                        'min_child_weight': [1, 3, 5, 7],\n",
       "                                        'n_estimators': [200, 266, 333, 400,\n",
       "                                                         466, 533, 600, 666,\n",
       "                                                         733, 800]},\n",
       "                   scoring='roc_auc', verbose=2)"
      ]
     },
     "execution_count": 47,
     "metadata": {},
     "output_type": "execute_result"
    }
   ],
   "source": [
    "xgb = XGBClassifier()\n",
    "xgb_rand = RandomizedSearchCV(estimator = xgb, param_distributions = xgb_param_grid,n_iter=80,scoring='roc_auc', cv=3,verbose=2,n_jobs=1)\n",
    "xgb_rand.fit(X_train,y_train)"
   ]
  },
  {
   "cell_type": "code",
   "execution_count": 49,
   "id": "2cc8ac01",
   "metadata": {},
   "outputs": [
    {
     "data": {
      "text/plain": [
       "{'n_estimators': 466,\n",
       " 'min_child_weight': 1,\n",
       " 'max_depth': 15,\n",
       " 'learning_rate': 0.15,\n",
       " 'gamma': 0.1,\n",
       " 'colsample_bytree': 0.7}"
      ]
     },
     "execution_count": 49,
     "metadata": {},
     "output_type": "execute_result"
    }
   ],
   "source": [
    "#xgb_rand.best_estimator_\n",
    "xgb_rand.best_params_"
   ]
  },
  {
   "cell_type": "code",
   "execution_count": 50,
   "id": "b466191a",
   "metadata": {},
   "outputs": [
    {
     "name": "stdout",
     "output_type": "stream",
     "text": [
      "Accuracy: 0.8823\n",
      "Precision: 0.8363\n",
      "Recall: 0.9476\n",
      "F1: 0.8885\n",
      "              precision    recall  f1-score   support\n",
      "\n",
      "           0       0.94      0.82      0.88      1304\n",
      "           1       0.84      0.95      0.89      1278\n",
      "\n",
      "    accuracy                           0.88      2582\n",
      "   macro avg       0.89      0.88      0.88      2582\n",
      "weighted avg       0.89      0.88      0.88      2582\n",
      "\n"
     ]
    }
   ],
   "source": [
    "xgb_best_param = xgb_rand.best_estimator_\n",
    "y_pred = xgb_best_param.predict(X_test)\n",
    "\n",
    "models.append(\"XGBoost (HT)\")\n",
    "acc_lst.append(accuracy_score(y_test, y_pred))\n",
    "prec_lst.append(precision_score(y_test, y_pred))\n",
    "recall_lst.append(recall_score(y_test, y_pred))\n",
    "f1_lst.append(f1_score(y_test, y_pred))\n",
    "\n",
    "print(\"Accuracy:\", float(format(accuracy_score(y_test, y_pred), '.4f')))\n",
    "print(\"Precision:\", float(format(precision_score(y_test, y_pred), '.4f')))\n",
    "print(\"Recall:\", float(format(recall_score(y_test, y_pred), '.4f')))\n",
    "print(\"F1:\", float(format(f1_score(y_test, y_pred), '.4f')))\n",
    "print(classification_report(y_test, y_pred))"
   ]
  },
  {
   "cell_type": "markdown",
   "id": "d6fb095c",
   "metadata": {},
   "source": [
    "## 10.3 LightGBM"
   ]
  },
  {
   "cell_type": "code",
   "execution_count": 52,
   "id": "a3e12069",
   "metadata": {},
   "outputs": [],
   "source": [
    "lgbm_param_grid = {\n",
    "    \n",
    "    'n_estimators': [int(x) for x in np.linspace(start=200,stop=800,num=10)],\n",
    "    'learning_rate': [0.05, 0.10, 0.15, 0.20, 0.25, 0.30],\n",
    "    'max_depth': [3,4,5,6,8,10,12,15], \n",
    "    'min_child_weight': [1,3,5,7],\n",
    "    'gamma': [0.0, 0.1, 0.2, 0.3, 0.4],\n",
    "    'colsample_bytree': [0.3, 0.4, 0.5, 0.7] \n",
    "}"
   ]
  },
  {
   "cell_type": "code",
   "execution_count": 53,
   "id": "af1df91c",
   "metadata": {},
   "outputs": [
    {
     "name": "stdout",
     "output_type": "stream",
     "text": [
      "Fitting 3 folds for each of 80 candidates, totalling 240 fits\n",
      "[LightGBM] [Warning] Unknown parameter: gamma\n",
      "[CV] END colsample_bytree=0.4, gamma=0.2, learning_rate=0.2, max_depth=15, min_child_weight=1, n_estimators=200; total time=   0.1s\n",
      "[LightGBM] [Warning] Unknown parameter: gamma\n",
      "[CV] END colsample_bytree=0.4, gamma=0.2, learning_rate=0.2, max_depth=15, min_child_weight=1, n_estimators=200; total time=   0.1s\n",
      "[LightGBM] [Warning] Unknown parameter: gamma\n",
      "[CV] END colsample_bytree=0.4, gamma=0.2, learning_rate=0.2, max_depth=15, min_child_weight=1, n_estimators=200; total time=   0.1s\n",
      "[LightGBM] [Warning] Unknown parameter: gamma\n",
      "[CV] END colsample_bytree=0.3, gamma=0.2, learning_rate=0.15, max_depth=3, min_child_weight=1, n_estimators=466; total time=   0.1s\n",
      "[LightGBM] [Warning] Unknown parameter: gamma\n",
      "[CV] END colsample_bytree=0.3, gamma=0.2, learning_rate=0.15, max_depth=3, min_child_weight=1, n_estimators=466; total time=   0.1s\n",
      "[LightGBM] [Warning] Unknown parameter: gamma\n",
      "[CV] END colsample_bytree=0.3, gamma=0.2, learning_rate=0.15, max_depth=3, min_child_weight=1, n_estimators=466; total time=   0.1s\n",
      "[LightGBM] [Warning] Unknown parameter: gamma\n",
      "[CV] END colsample_bytree=0.5, gamma=0.2, learning_rate=0.15, max_depth=12, min_child_weight=3, n_estimators=666; total time=   0.5s\n",
      "[LightGBM] [Warning] Unknown parameter: gamma\n",
      "[CV] END colsample_bytree=0.5, gamma=0.2, learning_rate=0.15, max_depth=12, min_child_weight=3, n_estimators=666; total time=   0.5s\n",
      "[LightGBM] [Warning] Unknown parameter: gamma\n",
      "[CV] END colsample_bytree=0.5, gamma=0.2, learning_rate=0.15, max_depth=12, min_child_weight=3, n_estimators=666; total time=   0.6s\n",
      "[LightGBM] [Warning] Unknown parameter: gamma\n",
      "[CV] END colsample_bytree=0.7, gamma=0.3, learning_rate=0.2, max_depth=8, min_child_weight=7, n_estimators=266; total time=   0.1s\n",
      "[LightGBM] [Warning] Unknown parameter: gamma\n",
      "[CV] END colsample_bytree=0.7, gamma=0.3, learning_rate=0.2, max_depth=8, min_child_weight=7, n_estimators=266; total time=   0.1s\n",
      "[LightGBM] [Warning] Unknown parameter: gamma\n",
      "[CV] END colsample_bytree=0.7, gamma=0.3, learning_rate=0.2, max_depth=8, min_child_weight=7, n_estimators=266; total time=   0.1s\n",
      "[LightGBM] [Warning] Unknown parameter: gamma\n",
      "[CV] END colsample_bytree=0.5, gamma=0.3, learning_rate=0.25, max_depth=6, min_child_weight=7, n_estimators=266; total time=   0.1s\n",
      "[LightGBM] [Warning] Unknown parameter: gamma\n",
      "[CV] END colsample_bytree=0.5, gamma=0.3, learning_rate=0.25, max_depth=6, min_child_weight=7, n_estimators=266; total time=   0.1s\n",
      "[LightGBM] [Warning] Unknown parameter: gamma\n",
      "[CV] END colsample_bytree=0.5, gamma=0.3, learning_rate=0.25, max_depth=6, min_child_weight=7, n_estimators=266; total time=   0.1s\n",
      "[LightGBM] [Warning] Unknown parameter: gamma\n",
      "[CV] END colsample_bytree=0.7, gamma=0.3, learning_rate=0.3, max_depth=10, min_child_weight=5, n_estimators=533; total time=   0.4s\n",
      "[LightGBM] [Warning] Unknown parameter: gamma\n",
      "[CV] END colsample_bytree=0.7, gamma=0.3, learning_rate=0.3, max_depth=10, min_child_weight=5, n_estimators=533; total time=   0.4s\n",
      "[LightGBM] [Warning] Unknown parameter: gamma\n",
      "[CV] END colsample_bytree=0.7, gamma=0.3, learning_rate=0.3, max_depth=10, min_child_weight=5, n_estimators=533; total time=   0.4s\n",
      "[LightGBM] [Warning] Unknown parameter: gamma\n",
      "[CV] END colsample_bytree=0.7, gamma=0.1, learning_rate=0.2, max_depth=5, min_child_weight=5, n_estimators=466; total time=   0.2s\n",
      "[LightGBM] [Warning] Unknown parameter: gamma\n",
      "[CV] END colsample_bytree=0.7, gamma=0.1, learning_rate=0.2, max_depth=5, min_child_weight=5, n_estimators=466; total time=   0.1s\n",
      "[LightGBM] [Warning] Unknown parameter: gamma\n",
      "[CV] END colsample_bytree=0.7, gamma=0.1, learning_rate=0.2, max_depth=5, min_child_weight=5, n_estimators=466; total time=   0.2s\n",
      "[LightGBM] [Warning] Unknown parameter: gamma\n",
      "[CV] END colsample_bytree=0.7, gamma=0.0, learning_rate=0.1, max_depth=10, min_child_weight=3, n_estimators=733; total time=   0.6s\n",
      "[LightGBM] [Warning] Unknown parameter: gamma\n",
      "[CV] END colsample_bytree=0.7, gamma=0.0, learning_rate=0.1, max_depth=10, min_child_weight=3, n_estimators=733; total time=   0.7s\n",
      "[LightGBM] [Warning] Unknown parameter: gamma\n",
      "[CV] END colsample_bytree=0.7, gamma=0.0, learning_rate=0.1, max_depth=10, min_child_weight=3, n_estimators=733; total time=   0.7s\n",
      "[LightGBM] [Warning] Unknown parameter: gamma\n",
      "[CV] END colsample_bytree=0.7, gamma=0.3, learning_rate=0.15, max_depth=12, min_child_weight=7, n_estimators=400; total time=   0.4s\n",
      "[LightGBM] [Warning] Unknown parameter: gamma\n",
      "[CV] END colsample_bytree=0.7, gamma=0.3, learning_rate=0.15, max_depth=12, min_child_weight=7, n_estimators=400; total time=   0.4s\n",
      "[LightGBM] [Warning] Unknown parameter: gamma\n",
      "[CV] END colsample_bytree=0.7, gamma=0.3, learning_rate=0.15, max_depth=12, min_child_weight=7, n_estimators=400; total time=   0.4s\n",
      "[LightGBM] [Warning] Unknown parameter: gamma\n",
      "[CV] END colsample_bytree=0.3, gamma=0.1, learning_rate=0.3, max_depth=3, min_child_weight=5, n_estimators=666; total time=   0.2s\n",
      "[LightGBM] [Warning] Unknown parameter: gamma\n",
      "[CV] END colsample_bytree=0.3, gamma=0.1, learning_rate=0.3, max_depth=3, min_child_weight=5, n_estimators=666; total time=   0.2s\n",
      "[LightGBM] [Warning] Unknown parameter: gamma\n",
      "[CV] END colsample_bytree=0.3, gamma=0.1, learning_rate=0.3, max_depth=3, min_child_weight=5, n_estimators=666; total time=   0.3s\n",
      "[LightGBM] [Warning] Unknown parameter: gamma\n",
      "[CV] END colsample_bytree=0.5, gamma=0.0, learning_rate=0.15, max_depth=3, min_child_weight=3, n_estimators=666; total time=   0.3s\n",
      "[LightGBM] [Warning] Unknown parameter: gamma\n",
      "[CV] END colsample_bytree=0.5, gamma=0.0, learning_rate=0.15, max_depth=3, min_child_weight=3, n_estimators=666; total time=   0.3s\n",
      "[LightGBM] [Warning] Unknown parameter: gamma\n",
      "[CV] END colsample_bytree=0.5, gamma=0.0, learning_rate=0.15, max_depth=3, min_child_weight=3, n_estimators=666; total time=   0.3s\n",
      "[LightGBM] [Warning] Unknown parameter: gamma\n",
      "[CV] END colsample_bytree=0.5, gamma=0.1, learning_rate=0.2, max_depth=5, min_child_weight=3, n_estimators=800; total time=   0.5s\n",
      "[LightGBM] [Warning] Unknown parameter: gamma\n",
      "[CV] END colsample_bytree=0.5, gamma=0.1, learning_rate=0.2, max_depth=5, min_child_weight=3, n_estimators=800; total time=   0.4s\n",
      "[LightGBM] [Warning] Unknown parameter: gamma\n",
      "[CV] END colsample_bytree=0.5, gamma=0.1, learning_rate=0.2, max_depth=5, min_child_weight=3, n_estimators=800; total time=   0.4s\n",
      "[LightGBM] [Warning] Unknown parameter: gamma\n",
      "[CV] END colsample_bytree=0.5, gamma=0.3, learning_rate=0.2, max_depth=10, min_child_weight=5, n_estimators=533; total time=   0.4s\n",
      "[LightGBM] [Warning] Unknown parameter: gamma\n",
      "[CV] END colsample_bytree=0.5, gamma=0.3, learning_rate=0.2, max_depth=10, min_child_weight=5, n_estimators=533; total time=   0.5s\n",
      "[LightGBM] [Warning] Unknown parameter: gamma\n",
      "[CV] END colsample_bytree=0.5, gamma=0.3, learning_rate=0.2, max_depth=10, min_child_weight=5, n_estimators=533; total time=   0.5s\n",
      "[LightGBM] [Warning] Unknown parameter: gamma\n",
      "[CV] END colsample_bytree=0.3, gamma=0.2, learning_rate=0.1, max_depth=5, min_child_weight=5, n_estimators=400; total time=   0.2s\n",
      "[LightGBM] [Warning] Unknown parameter: gamma\n",
      "[CV] END colsample_bytree=0.3, gamma=0.2, learning_rate=0.1, max_depth=5, min_child_weight=5, n_estimators=400; total time=   0.2s\n",
      "[LightGBM] [Warning] Unknown parameter: gamma\n",
      "[CV] END colsample_bytree=0.3, gamma=0.2, learning_rate=0.1, max_depth=5, min_child_weight=5, n_estimators=400; total time=   0.2s\n",
      "[LightGBM] [Warning] Unknown parameter: gamma\n",
      "[CV] END colsample_bytree=0.3, gamma=0.4, learning_rate=0.05, max_depth=5, min_child_weight=7, n_estimators=400; total time=   0.2s\n",
      "[LightGBM] [Warning] Unknown parameter: gamma\n",
      "[CV] END colsample_bytree=0.3, gamma=0.4, learning_rate=0.05, max_depth=5, min_child_weight=7, n_estimators=400; total time=   0.2s\n",
      "[LightGBM] [Warning] Unknown parameter: gamma\n",
      "[CV] END colsample_bytree=0.3, gamma=0.4, learning_rate=0.05, max_depth=5, min_child_weight=7, n_estimators=400; total time=   0.2s\n",
      "[LightGBM] [Warning] Unknown parameter: gamma\n",
      "[CV] END colsample_bytree=0.7, gamma=0.0, learning_rate=0.2, max_depth=10, min_child_weight=1, n_estimators=466; total time=   0.3s\n",
      "[LightGBM] [Warning] Unknown parameter: gamma\n"
     ]
    },
    {
     "name": "stdout",
     "output_type": "stream",
     "text": [
      "[CV] END colsample_bytree=0.7, gamma=0.0, learning_rate=0.2, max_depth=10, min_child_weight=1, n_estimators=466; total time=   0.4s\n",
      "[LightGBM] [Warning] Unknown parameter: gamma\n",
      "[CV] END colsample_bytree=0.7, gamma=0.0, learning_rate=0.2, max_depth=10, min_child_weight=1, n_estimators=466; total time=   0.3s\n",
      "[LightGBM] [Warning] Unknown parameter: gamma\n",
      "[CV] END colsample_bytree=0.5, gamma=0.4, learning_rate=0.2, max_depth=15, min_child_weight=7, n_estimators=600; total time=   0.6s\n",
      "[LightGBM] [Warning] Unknown parameter: gamma\n",
      "[CV] END colsample_bytree=0.5, gamma=0.4, learning_rate=0.2, max_depth=15, min_child_weight=7, n_estimators=600; total time=   0.6s\n",
      "[LightGBM] [Warning] Unknown parameter: gamma\n",
      "[CV] END colsample_bytree=0.5, gamma=0.4, learning_rate=0.2, max_depth=15, min_child_weight=7, n_estimators=600; total time=   0.6s\n",
      "[LightGBM] [Warning] Unknown parameter: gamma\n",
      "[CV] END colsample_bytree=0.7, gamma=0.2, learning_rate=0.1, max_depth=8, min_child_weight=7, n_estimators=266; total time=   0.2s\n",
      "[LightGBM] [Warning] Unknown parameter: gamma\n",
      "[CV] END colsample_bytree=0.7, gamma=0.2, learning_rate=0.1, max_depth=8, min_child_weight=7, n_estimators=266; total time=   0.1s\n",
      "[LightGBM] [Warning] Unknown parameter: gamma\n",
      "[CV] END colsample_bytree=0.7, gamma=0.2, learning_rate=0.1, max_depth=8, min_child_weight=7, n_estimators=266; total time=   0.1s\n",
      "[LightGBM] [Warning] Unknown parameter: gamma\n",
      "[CV] END colsample_bytree=0.5, gamma=0.4, learning_rate=0.1, max_depth=4, min_child_weight=7, n_estimators=200; total time=   0.0s\n",
      "[LightGBM] [Warning] Unknown parameter: gamma\n",
      "[CV] END colsample_bytree=0.5, gamma=0.4, learning_rate=0.1, max_depth=4, min_child_weight=7, n_estimators=200; total time=   0.0s\n",
      "[LightGBM] [Warning] Unknown parameter: gamma\n",
      "[CV] END colsample_bytree=0.5, gamma=0.4, learning_rate=0.1, max_depth=4, min_child_weight=7, n_estimators=200; total time=   0.0s\n",
      "[LightGBM] [Warning] Unknown parameter: gamma\n",
      "[CV] END colsample_bytree=0.5, gamma=0.4, learning_rate=0.05, max_depth=10, min_child_weight=5, n_estimators=400; total time=   0.3s\n",
      "[LightGBM] [Warning] Unknown parameter: gamma\n",
      "[CV] END colsample_bytree=0.5, gamma=0.4, learning_rate=0.05, max_depth=10, min_child_weight=5, n_estimators=400; total time=   0.3s\n",
      "[LightGBM] [Warning] Unknown parameter: gamma\n",
      "[CV] END colsample_bytree=0.5, gamma=0.4, learning_rate=0.05, max_depth=10, min_child_weight=5, n_estimators=400; total time=   0.4s\n",
      "[LightGBM] [Warning] Unknown parameter: gamma\n",
      "[CV] END colsample_bytree=0.5, gamma=0.1, learning_rate=0.3, max_depth=10, min_child_weight=3, n_estimators=333; total time=   0.3s\n",
      "[LightGBM] [Warning] Unknown parameter: gamma\n",
      "[CV] END colsample_bytree=0.5, gamma=0.1, learning_rate=0.3, max_depth=10, min_child_weight=3, n_estimators=333; total time=   0.3s\n",
      "[LightGBM] [Warning] Unknown parameter: gamma\n",
      "[CV] END colsample_bytree=0.5, gamma=0.1, learning_rate=0.3, max_depth=10, min_child_weight=3, n_estimators=333; total time=   0.3s\n",
      "[LightGBM] [Warning] Unknown parameter: gamma\n",
      "[CV] END colsample_bytree=0.5, gamma=0.0, learning_rate=0.15, max_depth=4, min_child_weight=1, n_estimators=800; total time=   0.4s\n",
      "[LightGBM] [Warning] Unknown parameter: gamma\n",
      "[CV] END colsample_bytree=0.5, gamma=0.0, learning_rate=0.15, max_depth=4, min_child_weight=1, n_estimators=800; total time=   0.4s\n",
      "[LightGBM] [Warning] Unknown parameter: gamma\n",
      "[CV] END colsample_bytree=0.5, gamma=0.0, learning_rate=0.15, max_depth=4, min_child_weight=1, n_estimators=800; total time=   0.4s\n",
      "[LightGBM] [Warning] Unknown parameter: gamma\n",
      "[CV] END colsample_bytree=0.5, gamma=0.0, learning_rate=0.25, max_depth=10, min_child_weight=3, n_estimators=800; total time=   0.9s\n",
      "[LightGBM] [Warning] Unknown parameter: gamma\n",
      "[CV] END colsample_bytree=0.5, gamma=0.0, learning_rate=0.25, max_depth=10, min_child_weight=3, n_estimators=800; total time=   0.9s\n",
      "[LightGBM] [Warning] Unknown parameter: gamma\n",
      "[CV] END colsample_bytree=0.5, gamma=0.0, learning_rate=0.25, max_depth=10, min_child_weight=3, n_estimators=800; total time=   0.8s\n",
      "[LightGBM] [Warning] Unknown parameter: gamma\n",
      "[CV] END colsample_bytree=0.4, gamma=0.2, learning_rate=0.05, max_depth=5, min_child_weight=3, n_estimators=333; total time=   0.1s\n",
      "[LightGBM] [Warning] Unknown parameter: gamma\n",
      "[CV] END colsample_bytree=0.4, gamma=0.2, learning_rate=0.05, max_depth=5, min_child_weight=3, n_estimators=333; total time=   0.1s\n",
      "[LightGBM] [Warning] Unknown parameter: gamma\n",
      "[CV] END colsample_bytree=0.4, gamma=0.2, learning_rate=0.05, max_depth=5, min_child_weight=3, n_estimators=333; total time=   0.1s\n",
      "[LightGBM] [Warning] Unknown parameter: gamma\n",
      "[CV] END colsample_bytree=0.5, gamma=0.0, learning_rate=0.05, max_depth=10, min_child_weight=7, n_estimators=333; total time=   0.2s\n",
      "[LightGBM] [Warning] Unknown parameter: gamma\n",
      "[CV] END colsample_bytree=0.5, gamma=0.0, learning_rate=0.05, max_depth=10, min_child_weight=7, n_estimators=333; total time=   0.2s\n",
      "[LightGBM] [Warning] Unknown parameter: gamma\n",
      "[CV] END colsample_bytree=0.5, gamma=0.0, learning_rate=0.05, max_depth=10, min_child_weight=7, n_estimators=333; total time=   0.3s\n",
      "[LightGBM] [Warning] Unknown parameter: gamma\n",
      "[CV] END colsample_bytree=0.3, gamma=0.2, learning_rate=0.3, max_depth=10, min_child_weight=1, n_estimators=666; total time=   0.6s\n",
      "[LightGBM] [Warning] Unknown parameter: gamma\n",
      "[CV] END colsample_bytree=0.3, gamma=0.2, learning_rate=0.3, max_depth=10, min_child_weight=1, n_estimators=666; total time=   0.6s\n",
      "[LightGBM] [Warning] Unknown parameter: gamma\n",
      "[CV] END colsample_bytree=0.3, gamma=0.2, learning_rate=0.3, max_depth=10, min_child_weight=1, n_estimators=666; total time=   0.5s\n",
      "[LightGBM] [Warning] Unknown parameter: gamma\n",
      "[CV] END colsample_bytree=0.7, gamma=0.0, learning_rate=0.25, max_depth=15, min_child_weight=5, n_estimators=200; total time=   0.1s\n",
      "[LightGBM] [Warning] Unknown parameter: gamma\n",
      "[CV] END colsample_bytree=0.7, gamma=0.0, learning_rate=0.25, max_depth=15, min_child_weight=5, n_estimators=200; total time=   0.1s\n",
      "[LightGBM] [Warning] Unknown parameter: gamma\n",
      "[CV] END colsample_bytree=0.7, gamma=0.0, learning_rate=0.25, max_depth=15, min_child_weight=5, n_estimators=200; total time=   0.1s\n",
      "[LightGBM] [Warning] Unknown parameter: gamma\n",
      "[CV] END colsample_bytree=0.3, gamma=0.4, learning_rate=0.05, max_depth=15, min_child_weight=7, n_estimators=466; total time=   0.4s\n",
      "[LightGBM] [Warning] Unknown parameter: gamma\n",
      "[CV] END colsample_bytree=0.3, gamma=0.4, learning_rate=0.05, max_depth=15, min_child_weight=7, n_estimators=466; total time=   0.5s\n",
      "[LightGBM] [Warning] Unknown parameter: gamma\n",
      "[CV] END colsample_bytree=0.3, gamma=0.4, learning_rate=0.05, max_depth=15, min_child_weight=7, n_estimators=466; total time=   0.4s\n",
      "[LightGBM] [Warning] Unknown parameter: gamma\n",
      "[CV] END colsample_bytree=0.4, gamma=0.3, learning_rate=0.3, max_depth=5, min_child_weight=1, n_estimators=666; total time=   0.4s\n",
      "[LightGBM] [Warning] Unknown parameter: gamma\n",
      "[CV] END colsample_bytree=0.4, gamma=0.3, learning_rate=0.3, max_depth=5, min_child_weight=1, n_estimators=666; total time=   0.4s\n",
      "[LightGBM] [Warning] Unknown parameter: gamma\n",
      "[CV] END colsample_bytree=0.4, gamma=0.3, learning_rate=0.3, max_depth=5, min_child_weight=1, n_estimators=666; total time=   0.4s\n",
      "[LightGBM] [Warning] Unknown parameter: gamma\n",
      "[CV] END colsample_bytree=0.4, gamma=0.0, learning_rate=0.15, max_depth=12, min_child_weight=7, n_estimators=733; total time=   0.6s\n",
      "[LightGBM] [Warning] Unknown parameter: gamma\n",
      "[CV] END colsample_bytree=0.4, gamma=0.0, learning_rate=0.15, max_depth=12, min_child_weight=7, n_estimators=733; total time=   0.8s\n",
      "[LightGBM] [Warning] Unknown parameter: gamma\n",
      "[CV] END colsample_bytree=0.4, gamma=0.0, learning_rate=0.15, max_depth=12, min_child_weight=7, n_estimators=733; total time=   0.7s\n",
      "[LightGBM] [Warning] Unknown parameter: gamma\n",
      "[CV] END colsample_bytree=0.4, gamma=0.4, learning_rate=0.15, max_depth=3, min_child_weight=1, n_estimators=600; total time=   0.2s\n",
      "[LightGBM] [Warning] Unknown parameter: gamma\n",
      "[CV] END colsample_bytree=0.4, gamma=0.4, learning_rate=0.15, max_depth=3, min_child_weight=1, n_estimators=600; total time=   0.2s\n",
      "[LightGBM] [Warning] Unknown parameter: gamma\n"
     ]
    },
    {
     "name": "stdout",
     "output_type": "stream",
     "text": [
      "[CV] END colsample_bytree=0.4, gamma=0.4, learning_rate=0.15, max_depth=3, min_child_weight=1, n_estimators=600; total time=   0.2s\n",
      "[LightGBM] [Warning] Unknown parameter: gamma\n",
      "[CV] END colsample_bytree=0.3, gamma=0.2, learning_rate=0.2, max_depth=10, min_child_weight=5, n_estimators=666; total time=   0.5s\n",
      "[LightGBM] [Warning] Unknown parameter: gamma\n",
      "[CV] END colsample_bytree=0.3, gamma=0.2, learning_rate=0.2, max_depth=10, min_child_weight=5, n_estimators=666; total time=   0.7s\n",
      "[LightGBM] [Warning] Unknown parameter: gamma\n",
      "[CV] END colsample_bytree=0.3, gamma=0.2, learning_rate=0.2, max_depth=10, min_child_weight=5, n_estimators=666; total time=   0.8s\n",
      "[LightGBM] [Warning] Unknown parameter: gamma\n",
      "[CV] END colsample_bytree=0.5, gamma=0.1, learning_rate=0.1, max_depth=5, min_child_weight=5, n_estimators=800; total time=   0.5s\n",
      "[LightGBM] [Warning] Unknown parameter: gamma\n",
      "[CV] END colsample_bytree=0.5, gamma=0.1, learning_rate=0.1, max_depth=5, min_child_weight=5, n_estimators=800; total time=   0.5s\n",
      "[LightGBM] [Warning] Unknown parameter: gamma\n",
      "[CV] END colsample_bytree=0.5, gamma=0.1, learning_rate=0.1, max_depth=5, min_child_weight=5, n_estimators=800; total time=   0.7s\n",
      "[LightGBM] [Warning] Unknown parameter: gamma\n",
      "[CV] END colsample_bytree=0.3, gamma=0.0, learning_rate=0.05, max_depth=8, min_child_weight=7, n_estimators=666; total time=   0.7s\n",
      "[LightGBM] [Warning] Unknown parameter: gamma\n",
      "[CV] END colsample_bytree=0.3, gamma=0.0, learning_rate=0.05, max_depth=8, min_child_weight=7, n_estimators=666; total time=   0.6s\n",
      "[LightGBM] [Warning] Unknown parameter: gamma\n",
      "[CV] END colsample_bytree=0.3, gamma=0.0, learning_rate=0.05, max_depth=8, min_child_weight=7, n_estimators=666; total time=   0.5s\n",
      "[LightGBM] [Warning] Unknown parameter: gamma\n",
      "[CV] END colsample_bytree=0.5, gamma=0.4, learning_rate=0.2, max_depth=15, min_child_weight=3, n_estimators=333; total time=   0.3s\n",
      "[LightGBM] [Warning] Unknown parameter: gamma\n",
      "[CV] END colsample_bytree=0.5, gamma=0.4, learning_rate=0.2, max_depth=15, min_child_weight=3, n_estimators=333; total time=   0.3s\n",
      "[LightGBM] [Warning] Unknown parameter: gamma\n",
      "[CV] END colsample_bytree=0.5, gamma=0.4, learning_rate=0.2, max_depth=15, min_child_weight=3, n_estimators=333; total time=   0.3s\n",
      "[LightGBM] [Warning] Unknown parameter: gamma\n",
      "[CV] END colsample_bytree=0.5, gamma=0.3, learning_rate=0.2, max_depth=12, min_child_weight=5, n_estimators=400; total time=   0.4s\n",
      "[LightGBM] [Warning] Unknown parameter: gamma\n",
      "[CV] END colsample_bytree=0.5, gamma=0.3, learning_rate=0.2, max_depth=12, min_child_weight=5, n_estimators=400; total time=   0.4s\n",
      "[LightGBM] [Warning] Unknown parameter: gamma\n",
      "[CV] END colsample_bytree=0.5, gamma=0.3, learning_rate=0.2, max_depth=12, min_child_weight=5, n_estimators=400; total time=   0.4s\n",
      "[LightGBM] [Warning] Unknown parameter: gamma\n",
      "[CV] END colsample_bytree=0.7, gamma=0.4, learning_rate=0.25, max_depth=8, min_child_weight=5, n_estimators=333; total time=   0.2s\n",
      "[LightGBM] [Warning] Unknown parameter: gamma\n",
      "[CV] END colsample_bytree=0.7, gamma=0.4, learning_rate=0.25, max_depth=8, min_child_weight=5, n_estimators=333; total time=   0.3s\n",
      "[LightGBM] [Warning] Unknown parameter: gamma\n",
      "[CV] END colsample_bytree=0.7, gamma=0.4, learning_rate=0.25, max_depth=8, min_child_weight=5, n_estimators=333; total time=   0.2s\n",
      "[LightGBM] [Warning] Unknown parameter: gamma\n",
      "[CV] END colsample_bytree=0.4, gamma=0.0, learning_rate=0.3, max_depth=10, min_child_weight=5, n_estimators=600; total time=   0.5s\n",
      "[LightGBM] [Warning] Unknown parameter: gamma\n",
      "[CV] END colsample_bytree=0.4, gamma=0.0, learning_rate=0.3, max_depth=10, min_child_weight=5, n_estimators=600; total time=   0.5s\n",
      "[LightGBM] [Warning] Unknown parameter: gamma\n",
      "[CV] END colsample_bytree=0.4, gamma=0.0, learning_rate=0.3, max_depth=10, min_child_weight=5, n_estimators=600; total time=   0.6s\n",
      "[LightGBM] [Warning] Unknown parameter: gamma\n",
      "[CV] END colsample_bytree=0.7, gamma=0.3, learning_rate=0.3, max_depth=4, min_child_weight=5, n_estimators=600; total time=   0.2s\n",
      "[LightGBM] [Warning] Unknown parameter: gamma\n",
      "[CV] END colsample_bytree=0.7, gamma=0.3, learning_rate=0.3, max_depth=4, min_child_weight=5, n_estimators=600; total time=   0.3s\n",
      "[LightGBM] [Warning] Unknown parameter: gamma\n",
      "[CV] END colsample_bytree=0.7, gamma=0.3, learning_rate=0.3, max_depth=4, min_child_weight=5, n_estimators=600; total time=   0.2s\n",
      "[LightGBM] [Warning] Unknown parameter: gamma\n",
      "[CV] END colsample_bytree=0.7, gamma=0.1, learning_rate=0.15, max_depth=8, min_child_weight=7, n_estimators=800; total time=   0.6s\n",
      "[LightGBM] [Warning] Unknown parameter: gamma\n",
      "[CV] END colsample_bytree=0.7, gamma=0.1, learning_rate=0.15, max_depth=8, min_child_weight=7, n_estimators=800; total time=   0.5s\n",
      "[LightGBM] [Warning] Unknown parameter: gamma\n",
      "[CV] END colsample_bytree=0.7, gamma=0.1, learning_rate=0.15, max_depth=8, min_child_weight=7, n_estimators=800; total time=   0.6s\n",
      "[LightGBM] [Warning] Unknown parameter: gamma\n",
      "[CV] END colsample_bytree=0.3, gamma=0.0, learning_rate=0.1, max_depth=15, min_child_weight=5, n_estimators=733; total time=   0.7s\n",
      "[LightGBM] [Warning] Unknown parameter: gamma\n",
      "[CV] END colsample_bytree=0.3, gamma=0.0, learning_rate=0.1, max_depth=15, min_child_weight=5, n_estimators=733; total time=   0.7s\n",
      "[LightGBM] [Warning] Unknown parameter: gamma\n",
      "[CV] END colsample_bytree=0.3, gamma=0.0, learning_rate=0.1, max_depth=15, min_child_weight=5, n_estimators=733; total time=   0.8s\n",
      "[LightGBM] [Warning] Unknown parameter: gamma\n",
      "[CV] END colsample_bytree=0.3, gamma=0.4, learning_rate=0.15, max_depth=4, min_child_weight=1, n_estimators=333; total time=   0.1s\n",
      "[LightGBM] [Warning] Unknown parameter: gamma\n",
      "[CV] END colsample_bytree=0.3, gamma=0.4, learning_rate=0.15, max_depth=4, min_child_weight=1, n_estimators=333; total time=   0.1s\n",
      "[LightGBM] [Warning] Unknown parameter: gamma\n",
      "[CV] END colsample_bytree=0.3, gamma=0.4, learning_rate=0.15, max_depth=4, min_child_weight=1, n_estimators=333; total time=   0.1s\n",
      "[LightGBM] [Warning] Unknown parameter: gamma\n",
      "[CV] END colsample_bytree=0.5, gamma=0.3, learning_rate=0.1, max_depth=12, min_child_weight=1, n_estimators=533; total time=   0.6s\n",
      "[LightGBM] [Warning] Unknown parameter: gamma\n",
      "[CV] END colsample_bytree=0.5, gamma=0.3, learning_rate=0.1, max_depth=12, min_child_weight=1, n_estimators=533; total time=   0.6s\n",
      "[LightGBM] [Warning] Unknown parameter: gamma\n",
      "[CV] END colsample_bytree=0.5, gamma=0.3, learning_rate=0.1, max_depth=12, min_child_weight=1, n_estimators=533; total time=   0.7s\n",
      "[LightGBM] [Warning] Unknown parameter: gamma\n",
      "[CV] END colsample_bytree=0.5, gamma=0.3, learning_rate=0.25, max_depth=12, min_child_weight=7, n_estimators=400; total time=   0.5s\n",
      "[LightGBM] [Warning] Unknown parameter: gamma\n",
      "[CV] END colsample_bytree=0.5, gamma=0.3, learning_rate=0.25, max_depth=12, min_child_weight=7, n_estimators=400; total time=   0.5s\n",
      "[LightGBM] [Warning] Unknown parameter: gamma\n",
      "[CV] END colsample_bytree=0.5, gamma=0.3, learning_rate=0.25, max_depth=12, min_child_weight=7, n_estimators=400; total time=   0.3s\n",
      "[LightGBM] [Warning] Unknown parameter: gamma\n",
      "[CV] END colsample_bytree=0.7, gamma=0.1, learning_rate=0.05, max_depth=12, min_child_weight=7, n_estimators=266; total time=   0.2s\n",
      "[LightGBM] [Warning] Unknown parameter: gamma\n",
      "[CV] END colsample_bytree=0.7, gamma=0.1, learning_rate=0.05, max_depth=12, min_child_weight=7, n_estimators=266; total time=   0.2s\n",
      "[LightGBM] [Warning] Unknown parameter: gamma\n",
      "[CV] END colsample_bytree=0.7, gamma=0.1, learning_rate=0.05, max_depth=12, min_child_weight=7, n_estimators=266; total time=   0.2s\n",
      "[LightGBM] [Warning] Unknown parameter: gamma\n",
      "[CV] END colsample_bytree=0.3, gamma=0.2, learning_rate=0.1, max_depth=10, min_child_weight=5, n_estimators=333; total time=   0.2s\n",
      "[LightGBM] [Warning] Unknown parameter: gamma\n",
      "[CV] END colsample_bytree=0.3, gamma=0.2, learning_rate=0.1, max_depth=10, min_child_weight=5, n_estimators=333; total time=   0.3s\n",
      "[LightGBM] [Warning] Unknown parameter: gamma\n",
      "[CV] END colsample_bytree=0.3, gamma=0.2, learning_rate=0.1, max_depth=10, min_child_weight=5, n_estimators=333; total time=   0.3s\n",
      "[LightGBM] [Warning] Unknown parameter: gamma\n",
      "[CV] END colsample_bytree=0.4, gamma=0.1, learning_rate=0.1, max_depth=3, min_child_weight=7, n_estimators=666; total time=   0.2s\n",
      "[LightGBM] [Warning] Unknown parameter: gamma\n"
     ]
    },
    {
     "name": "stdout",
     "output_type": "stream",
     "text": [
      "[CV] END colsample_bytree=0.4, gamma=0.1, learning_rate=0.1, max_depth=3, min_child_weight=7, n_estimators=666; total time=   0.2s\n",
      "[LightGBM] [Warning] Unknown parameter: gamma\n",
      "[CV] END colsample_bytree=0.4, gamma=0.1, learning_rate=0.1, max_depth=3, min_child_weight=7, n_estimators=666; total time=   0.2s\n",
      "[LightGBM] [Warning] Unknown parameter: gamma\n",
      "[CV] END colsample_bytree=0.7, gamma=0.2, learning_rate=0.1, max_depth=4, min_child_weight=1, n_estimators=400; total time=   0.1s\n",
      "[LightGBM] [Warning] Unknown parameter: gamma\n",
      "[CV] END colsample_bytree=0.7, gamma=0.2, learning_rate=0.1, max_depth=4, min_child_weight=1, n_estimators=400; total time=   0.1s\n",
      "[LightGBM] [Warning] Unknown parameter: gamma\n",
      "[CV] END colsample_bytree=0.7, gamma=0.2, learning_rate=0.1, max_depth=4, min_child_weight=1, n_estimators=400; total time=   0.1s\n",
      "[LightGBM] [Warning] Unknown parameter: gamma\n",
      "[CV] END colsample_bytree=0.5, gamma=0.1, learning_rate=0.25, max_depth=10, min_child_weight=3, n_estimators=600; total time=   0.6s\n",
      "[LightGBM] [Warning] Unknown parameter: gamma\n",
      "[CV] END colsample_bytree=0.5, gamma=0.1, learning_rate=0.25, max_depth=10, min_child_weight=3, n_estimators=600; total time=   0.6s\n",
      "[LightGBM] [Warning] Unknown parameter: gamma\n",
      "[CV] END colsample_bytree=0.5, gamma=0.1, learning_rate=0.25, max_depth=10, min_child_weight=3, n_estimators=600; total time=   0.5s\n",
      "[LightGBM] [Warning] Unknown parameter: gamma\n",
      "[CV] END colsample_bytree=0.4, gamma=0.3, learning_rate=0.2, max_depth=6, min_child_weight=1, n_estimators=266; total time=   0.1s\n",
      "[LightGBM] [Warning] Unknown parameter: gamma\n",
      "[CV] END colsample_bytree=0.4, gamma=0.3, learning_rate=0.2, max_depth=6, min_child_weight=1, n_estimators=266; total time=   0.2s\n",
      "[LightGBM] [Warning] Unknown parameter: gamma\n",
      "[CV] END colsample_bytree=0.4, gamma=0.3, learning_rate=0.2, max_depth=6, min_child_weight=1, n_estimators=266; total time=   0.1s\n",
      "[LightGBM] [Warning] Unknown parameter: gamma\n",
      "[CV] END colsample_bytree=0.7, gamma=0.2, learning_rate=0.25, max_depth=12, min_child_weight=3, n_estimators=266; total time=   0.2s\n",
      "[LightGBM] [Warning] Unknown parameter: gamma\n",
      "[CV] END colsample_bytree=0.7, gamma=0.2, learning_rate=0.25, max_depth=12, min_child_weight=3, n_estimators=266; total time=   0.2s\n",
      "[LightGBM] [Warning] Unknown parameter: gamma\n",
      "[CV] END colsample_bytree=0.7, gamma=0.2, learning_rate=0.25, max_depth=12, min_child_weight=3, n_estimators=266; total time=   0.2s\n",
      "[LightGBM] [Warning] Unknown parameter: gamma\n",
      "[CV] END colsample_bytree=0.7, gamma=0.1, learning_rate=0.2, max_depth=10, min_child_weight=7, n_estimators=400; total time=   0.3s\n",
      "[LightGBM] [Warning] Unknown parameter: gamma\n",
      "[CV] END colsample_bytree=0.7, gamma=0.1, learning_rate=0.2, max_depth=10, min_child_weight=7, n_estimators=400; total time=   0.3s\n",
      "[LightGBM] [Warning] Unknown parameter: gamma\n",
      "[CV] END colsample_bytree=0.7, gamma=0.1, learning_rate=0.2, max_depth=10, min_child_weight=7, n_estimators=400; total time=   0.3s\n",
      "[LightGBM] [Warning] Unknown parameter: gamma\n",
      "[CV] END colsample_bytree=0.7, gamma=0.3, learning_rate=0.25, max_depth=10, min_child_weight=1, n_estimators=600; total time=   0.5s\n",
      "[LightGBM] [Warning] Unknown parameter: gamma\n",
      "[CV] END colsample_bytree=0.7, gamma=0.3, learning_rate=0.25, max_depth=10, min_child_weight=1, n_estimators=600; total time=   0.5s\n",
      "[LightGBM] [Warning] Unknown parameter: gamma\n",
      "[CV] END colsample_bytree=0.7, gamma=0.3, learning_rate=0.25, max_depth=10, min_child_weight=1, n_estimators=600; total time=   0.5s\n",
      "[LightGBM] [Warning] Unknown parameter: gamma\n",
      "[CV] END colsample_bytree=0.4, gamma=0.4, learning_rate=0.15, max_depth=8, min_child_weight=3, n_estimators=266; total time=   0.1s\n",
      "[LightGBM] [Warning] Unknown parameter: gamma\n",
      "[CV] END colsample_bytree=0.4, gamma=0.4, learning_rate=0.15, max_depth=8, min_child_weight=3, n_estimators=266; total time=   0.2s\n",
      "[LightGBM] [Warning] Unknown parameter: gamma\n",
      "[CV] END colsample_bytree=0.4, gamma=0.4, learning_rate=0.15, max_depth=8, min_child_weight=3, n_estimators=266; total time=   0.2s\n",
      "[LightGBM] [Warning] Unknown parameter: gamma\n",
      "[CV] END colsample_bytree=0.7, gamma=0.1, learning_rate=0.2, max_depth=10, min_child_weight=5, n_estimators=400; total time=   0.4s\n",
      "[LightGBM] [Warning] Unknown parameter: gamma\n",
      "[CV] END colsample_bytree=0.7, gamma=0.1, learning_rate=0.2, max_depth=10, min_child_weight=5, n_estimators=400; total time=   0.4s\n",
      "[LightGBM] [Warning] Unknown parameter: gamma\n",
      "[CV] END colsample_bytree=0.7, gamma=0.1, learning_rate=0.2, max_depth=10, min_child_weight=5, n_estimators=400; total time=   0.4s\n",
      "[LightGBM] [Warning] Unknown parameter: gamma\n",
      "[CV] END colsample_bytree=0.4, gamma=0.1, learning_rate=0.15, max_depth=10, min_child_weight=1, n_estimators=800; total time=   0.9s\n",
      "[LightGBM] [Warning] Unknown parameter: gamma\n",
      "[CV] END colsample_bytree=0.4, gamma=0.1, learning_rate=0.15, max_depth=10, min_child_weight=1, n_estimators=800; total time=   0.9s\n",
      "[LightGBM] [Warning] Unknown parameter: gamma\n",
      "[CV] END colsample_bytree=0.4, gamma=0.1, learning_rate=0.15, max_depth=10, min_child_weight=1, n_estimators=800; total time=   0.9s\n",
      "[LightGBM] [Warning] Unknown parameter: gamma\n",
      "[CV] END colsample_bytree=0.4, gamma=0.2, learning_rate=0.2, max_depth=5, min_child_weight=5, n_estimators=333; total time=   0.1s\n",
      "[LightGBM] [Warning] Unknown parameter: gamma\n",
      "[CV] END colsample_bytree=0.4, gamma=0.2, learning_rate=0.2, max_depth=5, min_child_weight=5, n_estimators=333; total time=   0.1s\n",
      "[LightGBM] [Warning] Unknown parameter: gamma\n",
      "[CV] END colsample_bytree=0.4, gamma=0.2, learning_rate=0.2, max_depth=5, min_child_weight=5, n_estimators=333; total time=   0.1s\n",
      "[LightGBM] [Warning] Unknown parameter: gamma\n",
      "[CV] END colsample_bytree=0.4, gamma=0.3, learning_rate=0.05, max_depth=12, min_child_weight=5, n_estimators=533; total time=   0.5s\n",
      "[LightGBM] [Warning] Unknown parameter: gamma\n",
      "[CV] END colsample_bytree=0.4, gamma=0.3, learning_rate=0.05, max_depth=12, min_child_weight=5, n_estimators=533; total time=   0.5s\n",
      "[LightGBM] [Warning] Unknown parameter: gamma\n",
      "[CV] END colsample_bytree=0.4, gamma=0.3, learning_rate=0.05, max_depth=12, min_child_weight=5, n_estimators=533; total time=   0.6s\n",
      "[LightGBM] [Warning] Unknown parameter: gamma\n",
      "[CV] END colsample_bytree=0.4, gamma=0.1, learning_rate=0.05, max_depth=3, min_child_weight=5, n_estimators=466; total time=   0.1s\n",
      "[LightGBM] [Warning] Unknown parameter: gamma\n",
      "[CV] END colsample_bytree=0.4, gamma=0.1, learning_rate=0.05, max_depth=3, min_child_weight=5, n_estimators=466; total time=   0.1s\n",
      "[LightGBM] [Warning] Unknown parameter: gamma\n",
      "[CV] END colsample_bytree=0.4, gamma=0.1, learning_rate=0.05, max_depth=3, min_child_weight=5, n_estimators=466; total time=   0.1s\n",
      "[LightGBM] [Warning] Unknown parameter: gamma\n",
      "[CV] END colsample_bytree=0.5, gamma=0.1, learning_rate=0.15, max_depth=3, min_child_weight=5, n_estimators=800; total time=   0.3s\n",
      "[LightGBM] [Warning] Unknown parameter: gamma\n",
      "[CV] END colsample_bytree=0.5, gamma=0.1, learning_rate=0.15, max_depth=3, min_child_weight=5, n_estimators=800; total time=   0.3s\n",
      "[LightGBM] [Warning] Unknown parameter: gamma\n",
      "[CV] END colsample_bytree=0.5, gamma=0.1, learning_rate=0.15, max_depth=3, min_child_weight=5, n_estimators=800; total time=   0.3s\n",
      "[LightGBM] [Warning] Unknown parameter: gamma\n",
      "[CV] END colsample_bytree=0.5, gamma=0.0, learning_rate=0.2, max_depth=10, min_child_weight=5, n_estimators=400; total time=   0.4s\n",
      "[LightGBM] [Warning] Unknown parameter: gamma\n",
      "[CV] END colsample_bytree=0.5, gamma=0.0, learning_rate=0.2, max_depth=10, min_child_weight=5, n_estimators=400; total time=   0.4s\n",
      "[LightGBM] [Warning] Unknown parameter: gamma\n",
      "[CV] END colsample_bytree=0.5, gamma=0.0, learning_rate=0.2, max_depth=10, min_child_weight=5, n_estimators=400; total time=   0.3s\n",
      "[LightGBM] [Warning] Unknown parameter: gamma\n",
      "[CV] END colsample_bytree=0.5, gamma=0.4, learning_rate=0.2, max_depth=15, min_child_weight=1, n_estimators=666; total time=   0.6s\n",
      "[LightGBM] [Warning] Unknown parameter: gamma\n",
      "[CV] END colsample_bytree=0.5, gamma=0.4, learning_rate=0.2, max_depth=15, min_child_weight=1, n_estimators=666; total time=   0.6s\n",
      "[LightGBM] [Warning] Unknown parameter: gamma\n",
      "[CV] END colsample_bytree=0.5, gamma=0.4, learning_rate=0.2, max_depth=15, min_child_weight=1, n_estimators=666; total time=   0.6s\n",
      "[LightGBM] [Warning] Unknown parameter: gamma\n"
     ]
    },
    {
     "name": "stdout",
     "output_type": "stream",
     "text": [
      "[CV] END colsample_bytree=0.4, gamma=0.0, learning_rate=0.3, max_depth=8, min_child_weight=3, n_estimators=333; total time=   0.3s\n",
      "[LightGBM] [Warning] Unknown parameter: gamma\n",
      "[CV] END colsample_bytree=0.4, gamma=0.0, learning_rate=0.3, max_depth=8, min_child_weight=3, n_estimators=333; total time=   0.3s\n",
      "[LightGBM] [Warning] Unknown parameter: gamma\n",
      "[CV] END colsample_bytree=0.4, gamma=0.0, learning_rate=0.3, max_depth=8, min_child_weight=3, n_estimators=333; total time=   0.2s\n",
      "[LightGBM] [Warning] Unknown parameter: gamma\n",
      "[CV] END colsample_bytree=0.3, gamma=0.0, learning_rate=0.3, max_depth=3, min_child_weight=1, n_estimators=733; total time=   0.2s\n",
      "[LightGBM] [Warning] Unknown parameter: gamma\n",
      "[CV] END colsample_bytree=0.3, gamma=0.0, learning_rate=0.3, max_depth=3, min_child_weight=1, n_estimators=733; total time=   0.2s\n",
      "[LightGBM] [Warning] Unknown parameter: gamma\n",
      "[CV] END colsample_bytree=0.3, gamma=0.0, learning_rate=0.3, max_depth=3, min_child_weight=1, n_estimators=733; total time=   0.2s\n",
      "[LightGBM] [Warning] Unknown parameter: gamma\n",
      "[CV] END colsample_bytree=0.4, gamma=0.2, learning_rate=0.3, max_depth=8, min_child_weight=5, n_estimators=466; total time=   0.4s\n",
      "[LightGBM] [Warning] Unknown parameter: gamma\n",
      "[CV] END colsample_bytree=0.4, gamma=0.2, learning_rate=0.3, max_depth=8, min_child_weight=5, n_estimators=466; total time=   0.4s\n",
      "[LightGBM] [Warning] Unknown parameter: gamma\n",
      "[CV] END colsample_bytree=0.4, gamma=0.2, learning_rate=0.3, max_depth=8, min_child_weight=5, n_estimators=466; total time=   0.4s\n",
      "[LightGBM] [Warning] Unknown parameter: gamma\n",
      "[CV] END colsample_bytree=0.3, gamma=0.1, learning_rate=0.2, max_depth=15, min_child_weight=1, n_estimators=666; total time=   0.7s\n",
      "[LightGBM] [Warning] Unknown parameter: gamma\n",
      "[CV] END colsample_bytree=0.3, gamma=0.1, learning_rate=0.2, max_depth=15, min_child_weight=1, n_estimators=666; total time=   0.8s\n",
      "[LightGBM] [Warning] Unknown parameter: gamma\n",
      "[CV] END colsample_bytree=0.3, gamma=0.1, learning_rate=0.2, max_depth=15, min_child_weight=1, n_estimators=666; total time=   0.8s\n",
      "[LightGBM] [Warning] Unknown parameter: gamma\n",
      "[CV] END colsample_bytree=0.7, gamma=0.2, learning_rate=0.15, max_depth=10, min_child_weight=3, n_estimators=533; total time=   0.5s\n",
      "[LightGBM] [Warning] Unknown parameter: gamma\n",
      "[CV] END colsample_bytree=0.7, gamma=0.2, learning_rate=0.15, max_depth=10, min_child_weight=3, n_estimators=533; total time=   0.6s\n",
      "[LightGBM] [Warning] Unknown parameter: gamma\n",
      "[CV] END colsample_bytree=0.7, gamma=0.2, learning_rate=0.15, max_depth=10, min_child_weight=3, n_estimators=533; total time=   0.6s\n",
      "[LightGBM] [Warning] Unknown parameter: gamma\n",
      "[CV] END colsample_bytree=0.4, gamma=0.4, learning_rate=0.05, max_depth=6, min_child_weight=1, n_estimators=400; total time=   0.3s\n",
      "[LightGBM] [Warning] Unknown parameter: gamma\n",
      "[CV] END colsample_bytree=0.4, gamma=0.4, learning_rate=0.05, max_depth=6, min_child_weight=1, n_estimators=400; total time=   0.3s\n",
      "[LightGBM] [Warning] Unknown parameter: gamma\n",
      "[CV] END colsample_bytree=0.4, gamma=0.4, learning_rate=0.05, max_depth=6, min_child_weight=1, n_estimators=400; total time=   0.2s\n",
      "[LightGBM] [Warning] Unknown parameter: gamma\n",
      "[CV] END colsample_bytree=0.4, gamma=0.2, learning_rate=0.3, max_depth=10, min_child_weight=1, n_estimators=466; total time=   0.4s\n",
      "[LightGBM] [Warning] Unknown parameter: gamma\n",
      "[CV] END colsample_bytree=0.4, gamma=0.2, learning_rate=0.3, max_depth=10, min_child_weight=1, n_estimators=466; total time=   0.4s\n",
      "[LightGBM] [Warning] Unknown parameter: gamma\n",
      "[CV] END colsample_bytree=0.4, gamma=0.2, learning_rate=0.3, max_depth=10, min_child_weight=1, n_estimators=466; total time=   0.4s\n",
      "[LightGBM] [Warning] Unknown parameter: gamma\n",
      "[CV] END colsample_bytree=0.3, gamma=0.3, learning_rate=0.3, max_depth=10, min_child_weight=3, n_estimators=600; total time=   0.5s\n",
      "[LightGBM] [Warning] Unknown parameter: gamma\n",
      "[CV] END colsample_bytree=0.3, gamma=0.3, learning_rate=0.3, max_depth=10, min_child_weight=3, n_estimators=600; total time=   0.6s\n",
      "[LightGBM] [Warning] Unknown parameter: gamma\n",
      "[CV] END colsample_bytree=0.3, gamma=0.3, learning_rate=0.3, max_depth=10, min_child_weight=3, n_estimators=600; total time=   0.6s\n",
      "[LightGBM] [Warning] Unknown parameter: gamma\n",
      "[CV] END colsample_bytree=0.5, gamma=0.0, learning_rate=0.05, max_depth=10, min_child_weight=3, n_estimators=733; total time=   0.6s\n",
      "[LightGBM] [Warning] Unknown parameter: gamma\n",
      "[CV] END colsample_bytree=0.5, gamma=0.0, learning_rate=0.05, max_depth=10, min_child_weight=3, n_estimators=733; total time=   0.6s\n",
      "[LightGBM] [Warning] Unknown parameter: gamma\n",
      "[CV] END colsample_bytree=0.5, gamma=0.0, learning_rate=0.05, max_depth=10, min_child_weight=3, n_estimators=733; total time=   0.7s\n",
      "[LightGBM] [Warning] Unknown parameter: gamma\n",
      "[CV] END colsample_bytree=0.7, gamma=0.1, learning_rate=0.05, max_depth=6, min_child_weight=1, n_estimators=400; total time=   0.2s\n",
      "[LightGBM] [Warning] Unknown parameter: gamma\n",
      "[CV] END colsample_bytree=0.7, gamma=0.1, learning_rate=0.05, max_depth=6, min_child_weight=1, n_estimators=400; total time=   0.2s\n",
      "[LightGBM] [Warning] Unknown parameter: gamma\n",
      "[CV] END colsample_bytree=0.7, gamma=0.1, learning_rate=0.05, max_depth=6, min_child_weight=1, n_estimators=400; total time=   0.2s\n",
      "[LightGBM] [Warning] Unknown parameter: gamma\n",
      "[CV] END colsample_bytree=0.4, gamma=0.3, learning_rate=0.2, max_depth=4, min_child_weight=3, n_estimators=266; total time=   0.1s\n",
      "[LightGBM] [Warning] Unknown parameter: gamma\n",
      "[CV] END colsample_bytree=0.4, gamma=0.3, learning_rate=0.2, max_depth=4, min_child_weight=3, n_estimators=266; total time=   0.1s\n",
      "[LightGBM] [Warning] Unknown parameter: gamma\n",
      "[CV] END colsample_bytree=0.4, gamma=0.3, learning_rate=0.2, max_depth=4, min_child_weight=3, n_estimators=266; total time=   0.1s\n",
      "[LightGBM] [Warning] Unknown parameter: gamma\n",
      "[CV] END colsample_bytree=0.7, gamma=0.1, learning_rate=0.2, max_depth=3, min_child_weight=1, n_estimators=333; total time=   0.0s\n",
      "[LightGBM] [Warning] Unknown parameter: gamma\n",
      "[CV] END colsample_bytree=0.7, gamma=0.1, learning_rate=0.2, max_depth=3, min_child_weight=1, n_estimators=333; total time=   0.0s\n",
      "[LightGBM] [Warning] Unknown parameter: gamma\n",
      "[CV] END colsample_bytree=0.7, gamma=0.1, learning_rate=0.2, max_depth=3, min_child_weight=1, n_estimators=333; total time=   0.0s\n",
      "[LightGBM] [Warning] Unknown parameter: gamma\n",
      "[CV] END colsample_bytree=0.7, gamma=0.4, learning_rate=0.3, max_depth=4, min_child_weight=3, n_estimators=733; total time=   0.2s\n",
      "[LightGBM] [Warning] Unknown parameter: gamma\n",
      "[CV] END colsample_bytree=0.7, gamma=0.4, learning_rate=0.3, max_depth=4, min_child_weight=3, n_estimators=733; total time=   0.3s\n",
      "[LightGBM] [Warning] Unknown parameter: gamma\n",
      "[CV] END colsample_bytree=0.7, gamma=0.4, learning_rate=0.3, max_depth=4, min_child_weight=3, n_estimators=733; total time=   0.2s\n",
      "[LightGBM] [Warning] Unknown parameter: gamma\n",
      "[CV] END colsample_bytree=0.5, gamma=0.1, learning_rate=0.1, max_depth=8, min_child_weight=3, n_estimators=733; total time=   0.6s\n",
      "[LightGBM] [Warning] Unknown parameter: gamma\n",
      "[CV] END colsample_bytree=0.5, gamma=0.1, learning_rate=0.1, max_depth=8, min_child_weight=3, n_estimators=733; total time=   0.6s\n",
      "[LightGBM] [Warning] Unknown parameter: gamma\n",
      "[CV] END colsample_bytree=0.5, gamma=0.1, learning_rate=0.1, max_depth=8, min_child_weight=3, n_estimators=733; total time=   0.7s\n",
      "[LightGBM] [Warning] Unknown parameter: gamma\n",
      "[CV] END colsample_bytree=0.3, gamma=0.3, learning_rate=0.05, max_depth=4, min_child_weight=5, n_estimators=733; total time=   0.4s\n",
      "[LightGBM] [Warning] Unknown parameter: gamma\n",
      "[CV] END colsample_bytree=0.3, gamma=0.3, learning_rate=0.05, max_depth=4, min_child_weight=5, n_estimators=733; total time=   0.4s\n",
      "[LightGBM] [Warning] Unknown parameter: gamma\n",
      "[CV] END colsample_bytree=0.3, gamma=0.3, learning_rate=0.05, max_depth=4, min_child_weight=5, n_estimators=733; total time=   0.4s\n",
      "[LightGBM] [Warning] Unknown parameter: gamma\n",
      "[CV] END colsample_bytree=0.4, gamma=0.2, learning_rate=0.15, max_depth=10, min_child_weight=5, n_estimators=800; total time=   0.9s\n",
      "[LightGBM] [Warning] Unknown parameter: gamma\n",
      "[CV] END colsample_bytree=0.4, gamma=0.2, learning_rate=0.15, max_depth=10, min_child_weight=5, n_estimators=800; total time=   0.9s\n",
      "[LightGBM] [Warning] Unknown parameter: gamma\n"
     ]
    },
    {
     "name": "stdout",
     "output_type": "stream",
     "text": [
      "[CV] END colsample_bytree=0.4, gamma=0.2, learning_rate=0.15, max_depth=10, min_child_weight=5, n_estimators=800; total time=   0.8s\n",
      "[LightGBM] [Warning] Unknown parameter: gamma\n",
      "[CV] END colsample_bytree=0.7, gamma=0.4, learning_rate=0.25, max_depth=6, min_child_weight=1, n_estimators=800; total time=   0.5s\n",
      "[LightGBM] [Warning] Unknown parameter: gamma\n",
      "[CV] END colsample_bytree=0.7, gamma=0.4, learning_rate=0.25, max_depth=6, min_child_weight=1, n_estimators=800; total time=   0.5s\n",
      "[LightGBM] [Warning] Unknown parameter: gamma\n",
      "[CV] END colsample_bytree=0.7, gamma=0.4, learning_rate=0.25, max_depth=6, min_child_weight=1, n_estimators=800; total time=   0.5s\n",
      "[LightGBM] [Warning] Unknown parameter: gamma\n",
      "[CV] END colsample_bytree=0.5, gamma=0.0, learning_rate=0.3, max_depth=15, min_child_weight=5, n_estimators=333; total time=   0.3s\n",
      "[LightGBM] [Warning] Unknown parameter: gamma\n",
      "[CV] END colsample_bytree=0.5, gamma=0.0, learning_rate=0.3, max_depth=15, min_child_weight=5, n_estimators=333; total time=   0.3s\n",
      "[LightGBM] [Warning] Unknown parameter: gamma\n",
      "[CV] END colsample_bytree=0.5, gamma=0.0, learning_rate=0.3, max_depth=15, min_child_weight=5, n_estimators=333; total time=   0.3s\n",
      "[LightGBM] [Warning] Unknown parameter: gamma\n"
     ]
    },
    {
     "data": {
      "text/html": [
       "<style>#sk-container-id-3 {color: black;background-color: white;}#sk-container-id-3 pre{padding: 0;}#sk-container-id-3 div.sk-toggleable {background-color: white;}#sk-container-id-3 label.sk-toggleable__label {cursor: pointer;display: block;width: 100%;margin-bottom: 0;padding: 0.3em;box-sizing: border-box;text-align: center;}#sk-container-id-3 label.sk-toggleable__label-arrow:before {content: \"▸\";float: left;margin-right: 0.25em;color: #696969;}#sk-container-id-3 label.sk-toggleable__label-arrow:hover:before {color: black;}#sk-container-id-3 div.sk-estimator:hover label.sk-toggleable__label-arrow:before {color: black;}#sk-container-id-3 div.sk-toggleable__content {max-height: 0;max-width: 0;overflow: hidden;text-align: left;background-color: #f0f8ff;}#sk-container-id-3 div.sk-toggleable__content pre {margin: 0.2em;color: black;border-radius: 0.25em;background-color: #f0f8ff;}#sk-container-id-3 input.sk-toggleable__control:checked~div.sk-toggleable__content {max-height: 200px;max-width: 100%;overflow: auto;}#sk-container-id-3 input.sk-toggleable__control:checked~label.sk-toggleable__label-arrow:before {content: \"▾\";}#sk-container-id-3 div.sk-estimator input.sk-toggleable__control:checked~label.sk-toggleable__label {background-color: #d4ebff;}#sk-container-id-3 div.sk-label input.sk-toggleable__control:checked~label.sk-toggleable__label {background-color: #d4ebff;}#sk-container-id-3 input.sk-hidden--visually {border: 0;clip: rect(1px 1px 1px 1px);clip: rect(1px, 1px, 1px, 1px);height: 1px;margin: -1px;overflow: hidden;padding: 0;position: absolute;width: 1px;}#sk-container-id-3 div.sk-estimator {font-family: monospace;background-color: #f0f8ff;border: 1px dotted black;border-radius: 0.25em;box-sizing: border-box;margin-bottom: 0.5em;}#sk-container-id-3 div.sk-estimator:hover {background-color: #d4ebff;}#sk-container-id-3 div.sk-parallel-item::after {content: \"\";width: 100%;border-bottom: 1px solid gray;flex-grow: 1;}#sk-container-id-3 div.sk-label:hover label.sk-toggleable__label {background-color: #d4ebff;}#sk-container-id-3 div.sk-serial::before {content: \"\";position: absolute;border-left: 1px solid gray;box-sizing: border-box;top: 0;bottom: 0;left: 50%;z-index: 0;}#sk-container-id-3 div.sk-serial {display: flex;flex-direction: column;align-items: center;background-color: white;padding-right: 0.2em;padding-left: 0.2em;position: relative;}#sk-container-id-3 div.sk-item {position: relative;z-index: 1;}#sk-container-id-3 div.sk-parallel {display: flex;align-items: stretch;justify-content: center;background-color: white;position: relative;}#sk-container-id-3 div.sk-item::before, #sk-container-id-3 div.sk-parallel-item::before {content: \"\";position: absolute;border-left: 1px solid gray;box-sizing: border-box;top: 0;bottom: 0;left: 50%;z-index: -1;}#sk-container-id-3 div.sk-parallel-item {display: flex;flex-direction: column;z-index: 1;position: relative;background-color: white;}#sk-container-id-3 div.sk-parallel-item:first-child::after {align-self: flex-end;width: 50%;}#sk-container-id-3 div.sk-parallel-item:last-child::after {align-self: flex-start;width: 50%;}#sk-container-id-3 div.sk-parallel-item:only-child::after {width: 0;}#sk-container-id-3 div.sk-dashed-wrapped {border: 1px dashed gray;margin: 0 0.4em 0.5em 0.4em;box-sizing: border-box;padding-bottom: 0.4em;background-color: white;}#sk-container-id-3 div.sk-label label {font-family: monospace;font-weight: bold;display: inline-block;line-height: 1.2em;}#sk-container-id-3 div.sk-label-container {text-align: center;}#sk-container-id-3 div.sk-container {/* jupyter's `normalize.less` sets `[hidden] { display: none; }` but bootstrap.min.css set `[hidden] { display: none !important; }` so we also need the `!important` here to be able to override the default hidden behavior on the sphinx rendered scikit-learn.org. See: https://github.com/scikit-learn/scikit-learn/issues/21755 */display: inline-block !important;position: relative;}#sk-container-id-3 div.sk-text-repr-fallback {display: none;}</style><div id=\"sk-container-id-3\" class=\"sk-top-container\"><div class=\"sk-text-repr-fallback\"><pre>RandomizedSearchCV(cv=3, estimator=LGBMClassifier(), n_iter=80, n_jobs=1,\n",
       "                   param_distributions={&#x27;colsample_bytree&#x27;: [0.3, 0.4, 0.5,\n",
       "                                                             0.7],\n",
       "                                        &#x27;gamma&#x27;: [0.0, 0.1, 0.2, 0.3, 0.4],\n",
       "                                        &#x27;learning_rate&#x27;: [0.05, 0.1, 0.15, 0.2,\n",
       "                                                          0.25, 0.3],\n",
       "                                        &#x27;max_depth&#x27;: [3, 4, 5, 6, 8, 10, 12,\n",
       "                                                      15],\n",
       "                                        &#x27;min_child_weight&#x27;: [1, 3, 5, 7],\n",
       "                                        &#x27;n_estimators&#x27;: [200, 266, 333, 400,\n",
       "                                                         466, 533, 600, 666,\n",
       "                                                         733, 800]},\n",
       "                   scoring=&#x27;roc_auc&#x27;, verbose=2)</pre><b>In a Jupyter environment, please rerun this cell to show the HTML representation or trust the notebook. <br />On GitHub, the HTML representation is unable to render, please try loading this page with nbviewer.org.</b></div><div class=\"sk-container\" hidden><div class=\"sk-item sk-dashed-wrapped\"><div class=\"sk-label-container\"><div class=\"sk-label sk-toggleable\"><input class=\"sk-toggleable__control sk-hidden--visually\" id=\"sk-estimator-id-7\" type=\"checkbox\" ><label for=\"sk-estimator-id-7\" class=\"sk-toggleable__label sk-toggleable__label-arrow\">RandomizedSearchCV</label><div class=\"sk-toggleable__content\"><pre>RandomizedSearchCV(cv=3, estimator=LGBMClassifier(), n_iter=80, n_jobs=1,\n",
       "                   param_distributions={&#x27;colsample_bytree&#x27;: [0.3, 0.4, 0.5,\n",
       "                                                             0.7],\n",
       "                                        &#x27;gamma&#x27;: [0.0, 0.1, 0.2, 0.3, 0.4],\n",
       "                                        &#x27;learning_rate&#x27;: [0.05, 0.1, 0.15, 0.2,\n",
       "                                                          0.25, 0.3],\n",
       "                                        &#x27;max_depth&#x27;: [3, 4, 5, 6, 8, 10, 12,\n",
       "                                                      15],\n",
       "                                        &#x27;min_child_weight&#x27;: [1, 3, 5, 7],\n",
       "                                        &#x27;n_estimators&#x27;: [200, 266, 333, 400,\n",
       "                                                         466, 533, 600, 666,\n",
       "                                                         733, 800]},\n",
       "                   scoring=&#x27;roc_auc&#x27;, verbose=2)</pre></div></div></div><div class=\"sk-parallel\"><div class=\"sk-parallel-item\"><div class=\"sk-item\"><div class=\"sk-label-container\"><div class=\"sk-label sk-toggleable\"><input class=\"sk-toggleable__control sk-hidden--visually\" id=\"sk-estimator-id-8\" type=\"checkbox\" ><label for=\"sk-estimator-id-8\" class=\"sk-toggleable__label sk-toggleable__label-arrow\">estimator: LGBMClassifier</label><div class=\"sk-toggleable__content\"><pre>LGBMClassifier()</pre></div></div></div><div class=\"sk-serial\"><div class=\"sk-item\"><div class=\"sk-estimator sk-toggleable\"><input class=\"sk-toggleable__control sk-hidden--visually\" id=\"sk-estimator-id-9\" type=\"checkbox\" ><label for=\"sk-estimator-id-9\" class=\"sk-toggleable__label sk-toggleable__label-arrow\">LGBMClassifier</label><div class=\"sk-toggleable__content\"><pre>LGBMClassifier()</pre></div></div></div></div></div></div></div></div></div></div>"
      ],
      "text/plain": [
       "RandomizedSearchCV(cv=3, estimator=LGBMClassifier(), n_iter=80, n_jobs=1,\n",
       "                   param_distributions={'colsample_bytree': [0.3, 0.4, 0.5,\n",
       "                                                             0.7],\n",
       "                                        'gamma': [0.0, 0.1, 0.2, 0.3, 0.4],\n",
       "                                        'learning_rate': [0.05, 0.1, 0.15, 0.2,\n",
       "                                                          0.25, 0.3],\n",
       "                                        'max_depth': [3, 4, 5, 6, 8, 10, 12,\n",
       "                                                      15],\n",
       "                                        'min_child_weight': [1, 3, 5, 7],\n",
       "                                        'n_estimators': [200, 266, 333, 400,\n",
       "                                                         466, 533, 600, 666,\n",
       "                                                         733, 800]},\n",
       "                   scoring='roc_auc', verbose=2)"
      ]
     },
     "execution_count": 53,
     "metadata": {},
     "output_type": "execute_result"
    }
   ],
   "source": [
    "lgbm = lgbz.LGBMClassifier()\n",
    "lgbm_rand = RandomizedSearchCV(estimator = lgbm, param_distributions = lgbm_param_grid, n_iter=80, scoring='roc_auc', cv=3,verbose=2,n_jobs=1)\n",
    "lgbm_rand.fit(X_train,y_train)\n"
   ]
  },
  {
   "cell_type": "code",
   "execution_count": 54,
   "id": "815c7b54",
   "metadata": {},
   "outputs": [
    {
     "data": {
      "text/plain": [
       "{'n_estimators': 666,\n",
       " 'min_child_weight': 1,\n",
       " 'max_depth': 15,\n",
       " 'learning_rate': 0.2,\n",
       " 'gamma': 0.4,\n",
       " 'colsample_bytree': 0.5}"
      ]
     },
     "execution_count": 54,
     "metadata": {},
     "output_type": "execute_result"
    }
   ],
   "source": [
    "lgbm_rand.best_params_"
   ]
  },
  {
   "cell_type": "code",
   "execution_count": 55,
   "id": "1b0850c4",
   "metadata": {},
   "outputs": [
    {
     "name": "stdout",
     "output_type": "stream",
     "text": [
      "Accuracy: 0.8784\n",
      "Precision: 0.8301\n",
      "Recall: 0.9484\n",
      "F1: 0.8853\n",
      "              precision    recall  f1-score   support\n",
      "\n",
      "           0       0.94      0.81      0.87      1304\n",
      "           1       0.83      0.95      0.89      1278\n",
      "\n",
      "    accuracy                           0.88      2582\n",
      "   macro avg       0.89      0.88      0.88      2582\n",
      "weighted avg       0.89      0.88      0.88      2582\n",
      "\n"
     ]
    }
   ],
   "source": [
    "xgb_best_param = lgbm_rand.best_estimator_\n",
    "y_pred = lgbm_rand.predict(X_test)\n",
    "\n",
    "models.append(\"LightGBM (HT)\")\n",
    "acc_lst.append(accuracy_score(y_test, y_pred))\n",
    "prec_lst.append(precision_score(y_test, y_pred))\n",
    "recall_lst.append(recall_score(y_test, y_pred))\n",
    "f1_lst.append(f1_score(y_test, y_pred))\n",
    "\n",
    "print(\"Accuracy:\", float(format(accuracy_score(y_test, y_pred), '.4f')))\n",
    "print(\"Precision:\", float(format(precision_score(y_test, y_pred), '.4f')))\n",
    "print(\"Recall:\", float(format(recall_score(y_test, y_pred), '.4f')))\n",
    "print(\"F1:\", float(format(f1_score(y_test, y_pred), '.4f')))\n",
    "print(classification_report(y_test, y_pred))"
   ]
  },
  {
   "cell_type": "markdown",
   "id": "d416d70f",
   "metadata": {},
   "source": [
    "# 11.0 Overall Model Scores\n",
    "<a id='overallscore'></a>"
   ]
  },
  {
   "cell_type": "code",
   "execution_count": 56,
   "id": "3d68e50d",
   "metadata": {},
   "outputs": [
    {
     "data": {
      "text/html": [
       "<div>\n",
       "<style scoped>\n",
       "    .dataframe tbody tr th:only-of-type {\n",
       "        vertical-align: middle;\n",
       "    }\n",
       "\n",
       "    .dataframe tbody tr th {\n",
       "        vertical-align: top;\n",
       "    }\n",
       "\n",
       "    .dataframe thead th {\n",
       "        text-align: right;\n",
       "    }\n",
       "</style>\n",
       "<table border=\"1\" class=\"dataframe\">\n",
       "  <thead>\n",
       "    <tr style=\"text-align: right;\">\n",
       "      <th></th>\n",
       "      <th>models</th>\n",
       "      <th>accuracy</th>\n",
       "      <th>precision</th>\n",
       "      <th>recall</th>\n",
       "      <th>f1</th>\n",
       "    </tr>\n",
       "  </thead>\n",
       "  <tbody>\n",
       "    <tr>\n",
       "      <th>0</th>\n",
       "      <td>Random Forest</td>\n",
       "      <td>0.783845</td>\n",
       "      <td>0.615385</td>\n",
       "      <td>0.454148</td>\n",
       "      <td>0.522613</td>\n",
       "    </tr>\n",
       "    <tr>\n",
       "      <th>1</th>\n",
       "      <td>XGBoost</td>\n",
       "      <td>0.768487</td>\n",
       "      <td>0.564232</td>\n",
       "      <td>0.489083</td>\n",
       "      <td>0.523977</td>\n",
       "    </tr>\n",
       "    <tr>\n",
       "      <th>2</th>\n",
       "      <td>LightGBM</td>\n",
       "      <td>0.736064</td>\n",
       "      <td>0.495614</td>\n",
       "      <td>0.740175</td>\n",
       "      <td>0.593695</td>\n",
       "    </tr>\n",
       "    <tr>\n",
       "      <th>3</th>\n",
       "      <td>Random Forest (OS)</td>\n",
       "      <td>0.892719</td>\n",
       "      <td>0.854211</td>\n",
       "      <td>0.944444</td>\n",
       "      <td>0.897064</td>\n",
       "    </tr>\n",
       "    <tr>\n",
       "      <th>4</th>\n",
       "      <td>XGBoost (OS)</td>\n",
       "      <td>0.846631</td>\n",
       "      <td>0.800409</td>\n",
       "      <td>0.919405</td>\n",
       "      <td>0.855790</td>\n",
       "    </tr>\n",
       "    <tr>\n",
       "      <th>5</th>\n",
       "      <td>Random Forest (HT)</td>\n",
       "      <td>0.860573</td>\n",
       "      <td>0.798052</td>\n",
       "      <td>0.961659</td>\n",
       "      <td>0.872250</td>\n",
       "    </tr>\n",
       "    <tr>\n",
       "      <th>6</th>\n",
       "      <td>XGBoost (HT)</td>\n",
       "      <td>0.882262</td>\n",
       "      <td>0.836326</td>\n",
       "      <td>0.947574</td>\n",
       "      <td>0.888481</td>\n",
       "    </tr>\n",
       "    <tr>\n",
       "      <th>7</th>\n",
       "      <td>LightGBM (HT)</td>\n",
       "      <td>0.878389</td>\n",
       "      <td>0.830137</td>\n",
       "      <td>0.948357</td>\n",
       "      <td>0.885318</td>\n",
       "    </tr>\n",
       "  </tbody>\n",
       "</table>\n",
       "</div>"
      ],
      "text/plain": [
       "               models  accuracy  precision    recall        f1\n",
       "0       Random Forest  0.783845   0.615385  0.454148  0.522613\n",
       "1             XGBoost  0.768487   0.564232  0.489083  0.523977\n",
       "2            LightGBM  0.736064   0.495614  0.740175  0.593695\n",
       "3  Random Forest (OS)  0.892719   0.854211  0.944444  0.897064\n",
       "4        XGBoost (OS)  0.846631   0.800409  0.919405  0.855790\n",
       "5  Random Forest (HT)  0.860573   0.798052  0.961659  0.872250\n",
       "6        XGBoost (HT)  0.882262   0.836326  0.947574  0.888481\n",
       "7       LightGBM (HT)  0.878389   0.830137  0.948357  0.885318"
      ]
     },
     "execution_count": 56,
     "metadata": {},
     "output_type": "execute_result"
    }
   ],
   "source": [
    "data = {'models': models,\n",
    "        'accuracy': acc_lst,\n",
    "        'precision': prec_lst,\n",
    "        'recall': recall_lst,\n",
    "        'f1': f1_lst\n",
    "        }\n",
    "\n",
    "df_result_sum = pd.DataFrame(data)\n",
    "df_result_sum"
   ]
  },
  {
   "cell_type": "markdown",
   "id": "f149a676",
   "metadata": {},
   "source": [
    "# 12.0 Conclusion \n",
    "<a id='Conclusion'></a>\n",
    "* We can observed that our models, **espically recall score improved a lot after doing oversampling**. This is likely due to the increased data of churn users which allow us to better predict churned users. \n",
    "* **Hypertuned models only did slightly better**. This might be due to the user of Randomize Hyper tunning. Hence, not a very comprehensive search if we are limited to line. \n",
    "* Top predictive features are **Tenure, Monthly Charges, Total Charges, Payment Method and Contract Type**. This is based on the feature importance score across the 3 models used.\n",
    "* Random Forest and LightGBM have very similar ranking of feature importance while XGBoost rankings differ quite abit.\n",
    "* More can be done to improve the score, feature elimations, standardization, more comprehensive tunning etc. \n"
   ]
  },
  {
   "cell_type": "code",
   "execution_count": null,
   "id": "1ebbbe3f",
   "metadata": {},
   "outputs": [],
   "source": []
  }
 ],
 "metadata": {
  "kernelspec": {
   "display_name": "Python 3 (ipykernel)",
   "language": "python",
   "name": "python3"
  },
  "language_info": {
   "codemirror_mode": {
    "name": "ipython",
    "version": 3
   },
   "file_extension": ".py",
   "mimetype": "text/x-python",
   "name": "python",
   "nbconvert_exporter": "python",
   "pygments_lexer": "ipython3",
   "version": "3.8.16"
  }
 },
 "nbformat": 4,
 "nbformat_minor": 5
}
